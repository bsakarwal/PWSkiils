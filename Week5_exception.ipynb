{
 "cells": [
  {
   "cell_type": "code",
   "execution_count": 1,
   "id": "1ea11796",
   "metadata": {},
   "outputs": [
    {
     "data": {
      "text/html": [
       "<style>\n",
       ".cm-comment {\n",
       "    color: grey !important;\n",
       "}\n",
       "</style>\n"
      ],
      "text/plain": [
       "<IPython.core.display.HTML object>"
      ]
     },
     "metadata": {},
     "output_type": "display_data"
    }
   ],
   "source": [
    "%%html\n",
    "<style>\n",
    ".cm-comment {\n",
    "    color: grey !important;\n",
    "}\n",
    "</style>"
   ]
  },
  {
   "cell_type": "markdown",
   "id": "d5759afb",
   "metadata": {},
   "source": [
    "Q1. What is an Exception in python? Write the difference between Exceptions and syntax errors"
   ]
  },
  {
   "cell_type": "markdown",
   "id": "b1e1857a",
   "metadata": {},
   "source": [
    "exceptions are runtime errors or exceptional situations that can be caught and handled, while syntax errors are coding mistakes that prevent the program from running in the first place.\n"
   ]
  },
  {
   "cell_type": "code",
   "execution_count": 2,
   "id": "68a22b30",
   "metadata": {},
   "outputs": [
    {
     "name": "stdout",
     "output_type": "stream",
     "text": [
      "Error is division by zero\n"
     ]
    }
   ],
   "source": [
    "try:\n",
    "    a=0\n",
    "    b=10\n",
    "    print(b/a)\n",
    "except Exception as e:\n",
    "    print(\"Error is\",e)"
   ]
  },
  {
   "cell_type": "markdown",
   "id": "dce5cd8e",
   "metadata": {},
   "source": [
    "Q2 What happens when an exception is not handled , explain with eg."
   ]
  },
  {
   "cell_type": "code",
   "execution_count": 4,
   "id": "24f3fe8e",
   "metadata": {},
   "outputs": [
    {
     "ename": "ZeroDivisionError",
     "evalue": "division by zero",
     "output_type": "error",
     "traceback": [
      "\u001b[1;31m---------------------------------------------------------------------------\u001b[0m",
      "\u001b[1;31mZeroDivisionError\u001b[0m                         Traceback (most recent call last)",
      "Cell \u001b[1;32mIn[4], line 3\u001b[0m\n\u001b[0;32m      1\u001b[0m a\u001b[38;5;241m=\u001b[39m\u001b[38;5;241m0\u001b[39m\n\u001b[0;32m      2\u001b[0m b\u001b[38;5;241m=\u001b[39m\u001b[38;5;241m10\u001b[39m\n\u001b[1;32m----> 3\u001b[0m \u001b[38;5;28mprint\u001b[39m(\u001b[43mb\u001b[49m\u001b[38;5;241;43m/\u001b[39;49m\u001b[43ma\u001b[49m)\n",
      "\u001b[1;31mZeroDivisionError\u001b[0m: division by zero"
     ]
    }
   ],
   "source": [
    "\n",
    "a=0\n",
    "b=10\n",
    "print(b/a)  # compiler will give and error and program will stop"
   ]
  },
  {
   "cell_type": "markdown",
   "id": "bac8b114",
   "metadata": {},
   "source": [
    "Q3 Which Python statements are used to catch and handle execptions?"
   ]
  },
  {
   "cell_type": "code",
   "execution_count": null,
   "id": "2b51472e",
   "metadata": {},
   "outputs": [],
   "source": [
    "try:\n",
    "    a=0\n",
    "    b=10\n",
    "    print(b/a)\n",
    "except Exception as e:   # this block handles exxception\n",
    "    print(\"Error is\",e)"
   ]
  },
  {
   "cell_type": "markdown",
   "id": "5b9396e4",
   "metadata": {},
   "source": [
    "Q4 Try ,else,finally and raise explain with eg"
   ]
  },
  {
   "cell_type": "code",
   "execution_count": 18,
   "id": "0e2315ac",
   "metadata": {},
   "outputs": [
    {
     "name": "stdout",
     "output_type": "stream",
     "text": [
      "Error is [Errno 2] No such file or directory: 'New_Age.txt'\n",
      "At any cost i will be executed\n"
     ]
    }
   ],
   "source": [
    "try:\n",
    "    f=open(\"New_Age.txt\",'r')\n",
    "except Exception as e:\n",
    "    print(\"Error is\",e)\n",
    "else:\n",
    "    f.close()\n",
    "    print(\"This will be executed only if try blocks run succesfully without error\")\n",
    "finally:          # irrespective of any error or not this block always runs\n",
    "    print(\"At any cost i will be executed\")"
   ]
  },
  {
   "cell_type": "code",
   "execution_count": 12,
   "id": "d79c894a",
   "metadata": {},
   "outputs": [],
   "source": [
    "#raise example below\n",
    "class expected_ctc(Exception):                                    # this is custom exception class \n",
    "    def __init__(self,msg):\n",
    "        self.msg=msg"
   ]
  },
  {
   "cell_type": "code",
   "execution_count": 13,
   "id": "6a5179f0",
   "metadata": {},
   "outputs": [],
   "source": [
    "def amount(rs):                                           # this class is responsible for raising exception with custom conditions\n",
    "    if rs<0:\n",
    "        raise expected_ctc(\"CTC entered is invalid\")\n",
    "    elif rs>4000000:\n",
    "        raise expected_ctc(\"We can't pay you this much package\")\n",
    "    else:\n",
    "        print(\"Thank you, we'll get back to you\")"
   ]
  },
  {
   "cell_type": "code",
   "execution_count": 14,
   "id": "663d14f0",
   "metadata": {},
   "outputs": [
    {
     "name": "stdout",
     "output_type": "stream",
     "text": [
      "Enter your expected CTC: 5000000\n",
      "We can't pay you this much package\n"
     ]
    }
   ],
   "source": [
    "try:\n",
    "    ctc=int(input(\"Enter your expected CTC: \"))        \n",
    "    amount(ctc)\n",
    "except expected_ctc as e:\n",
    "    print(e)"
   ]
  },
  {
   "cell_type": "markdown",
   "id": "8bb855cf",
   "metadata": {},
   "source": [
    "Q5. Custom Expcetions class with eg"
   ]
  },
  {
   "cell_type": "code",
   "execution_count": 16,
   "id": "6a9e0ba8",
   "metadata": {},
   "outputs": [
    {
     "name": "stdout",
     "output_type": "stream",
     "text": [
      "Enter your expected CTC: 3500000\n",
      "Thank you, we'll get back to you\n"
     ]
    }
   ],
   "source": [
    "class expected_ctc(Exception):                                    # this is custom exception class \n",
    "    def __init__(self,msg):\n",
    "        self.msg=msg\n",
    "\n",
    "def amount(rs):                                           # this class is responsible for raising exception with custom conditions\n",
    "    if rs<0:\n",
    "        raise expected_ctc(\"CTC entered is invalid\")\n",
    "    elif rs>4000000:\n",
    "        raise expected_ctc(\"We can't pay you this much package\")\n",
    "    else:\n",
    "        print(\"Thank you, we'll get back to you\")\n",
    "\n",
    "try:\n",
    "    ctc=int(input(\"Enter your expected CTC: \"))        \n",
    "    amount(ctc)\n",
    "except expected_ctc as e:\n",
    "    print(e)"
   ]
  },
  {
   "cell_type": "markdown",
   "id": "6392361a",
   "metadata": {},
   "source": [
    "Q6 Custom Exception class create and use it to handle exception"
   ]
  },
  {
   "cell_type": "markdown",
   "id": "5e4c9226",
   "metadata": {},
   "source": [
    "Please check above code as eg."
   ]
  },
  {
   "cell_type": "code",
   "execution_count": null,
   "id": "25951c2f",
   "metadata": {},
   "outputs": [],
   "source": []
  }
 ],
 "metadata": {
  "kernelspec": {
   "display_name": "Python 3 (ipykernel)",
   "language": "python",
   "name": "python3"
  },
  "language_info": {
   "codemirror_mode": {
    "name": "ipython",
    "version": 3
   },
   "file_extension": ".py",
   "mimetype": "text/x-python",
   "name": "python",
   "nbconvert_exporter": "python",
   "pygments_lexer": "ipython3",
   "version": "3.10.9"
  }
 },
 "nbformat": 4,
 "nbformat_minor": 5
}
