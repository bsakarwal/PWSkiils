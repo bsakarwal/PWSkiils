{
 "cells": [
  {
   "cell_type": "code",
   "execution_count": 1,
   "id": "e8d1b546",
   "metadata": {},
   "outputs": [
    {
     "data": {
      "text/html": [
       "<style>.cm-comment { color: grey !important; }</style>"
      ],
      "text/plain": [
       "<IPython.core.display.HTML object>"
      ]
     },
     "execution_count": 1,
     "metadata": {},
     "output_type": "execute_result"
    }
   ],
   "source": [
    "from IPython.display import HTML\n",
    "HTML('<style>.cm-comment { color: grey !important; }</style>')"
   ]
  },
  {
   "cell_type": "code",
   "execution_count": 3,
   "id": "96af99e2",
   "metadata": {},
   "outputs": [
    {
     "name": "stdout",
     "output_type": "stream",
     "text": [
      "isalnum: True\n",
      "\n"
     ]
    }
   ],
   "source": [
    "lst = [\"isalnum\", \"isalpha\", \"isdigit\", \"isupper\", \"islower\"]\n",
    "s = \"aA2\"\n",
    "\n",
    "for method in lst:\n",
    "    # Use getattr() to dynamically call the method\n",
    "    if getattr(s, method)():\n",
    "        \n",
    "        print(f\"{method}: True\")\n",
    "        print()"
   ]
  },
  {
   "cell_type": "code",
   "execution_count": 4,
   "id": "d5560cc6",
   "metadata": {},
   "outputs": [
    {
     "name": "stdout",
     "output_type": "stream",
     "text": [
      "Testing string: abc123\n",
      "isalnum: True\n",
      "islower: True\n",
      "\n",
      "Testing string: abc\n",
      "isalnum: True\n",
      "isalpha: True\n",
      "islower: True\n",
      "\n",
      "Testing string: 123\n",
      "isalnum: True\n",
      "isdigit: True\n",
      "\n",
      "Testing string: ABC\n",
      "isalnum: True\n",
      "isalpha: True\n",
      "isupper: True\n",
      "\n",
      "Testing string: abc\n",
      "isalnum: True\n",
      "isalpha: True\n",
      "islower: True\n",
      "\n"
     ]
    }
   ],
   "source": [
    "lst = [\"isalnum\", \"isalpha\", \"isdigit\", \"isupper\", \"islower\"]\n",
    "\n",
    "# Example strings that will individually pass all tests\n",
    "strings = [\n",
    "    \"abc123\",  # should satisfy isalnum     # should satisfy islower\n",
    "]\n",
    "\n",
    "# Running the test for each string\n",
    "for s in strings:\n",
    "    print(f\"Testing string: {s}\")\n",
    "    for method in lst:\n",
    "        if getattr(s, method)():\n",
    "            print(f\"{method}: True\")\n",
    "    print()  # For better readability\n"
   ]
  },
  {
   "cell_type": "code",
   "execution_count": null,
   "id": "f0061cfa",
   "metadata": {},
   "outputs": [],
   "source": [
    "    print(any(char.isalnum() for char in s))\n",
    "    print(any(char.isalpha() for char in s))\n",
    "    print(any(char.islower() for char in s))\n",
    "    print(any(char.isupper() for char in s))\n",
    "    print(any(char.isdigit() for char in s))"
   ]
  },
  {
   "cell_type": "code",
   "execution_count": null,
   "id": "ac8c2055",
   "metadata": {},
   "outputs": [],
   "source": []
  },
  {
   "cell_type": "code",
   "execution_count": 2,
   "id": "b7ef81ee",
   "metadata": {},
   "outputs": [],
   "source": [
    "s=\"chris alan\""
   ]
  },
  {
   "cell_type": "code",
   "execution_count": 5,
   "id": "6e3bd568",
   "metadata": {},
   "outputs": [
    {
     "name": "stdout",
     "output_type": "stream",
     "text": [
      "Chris Alan "
     ]
    }
   ],
   "source": [
    "for i in s.split():\n",
    "    print(i[0].upper()+i[1:], end=\" \")"
   ]
  },
  {
   "cell_type": "code",
   "execution_count": 10,
   "id": "372a9a45",
   "metadata": {},
   "outputs": [
    {
     "name": "stdout",
     "output_type": "stream",
     "text": [
      "Chris\n",
      "Alan\n",
      " Chris Alan\n"
     ]
    }
   ],
   "source": [
    "str2=\"\"\n",
    "for i in s.split():\n",
    "    print(i[0].upper()+i[1:])\n",
    "    str2=str2+i[0].upper()+i[1:]\n",
    "print(str2)"
   ]
  },
  {
   "cell_type": "code",
   "execution_count": 14,
   "id": "a173276c",
   "metadata": {},
   "outputs": [
    {
     "data": {
      "text/plain": [
       "'Chris Alan'"
      ]
     },
     "execution_count": 14,
     "metadata": {},
     "output_type": "execute_result"
    }
   ],
   "source": [
    "\" \".join([i[0].upper()+i[1:] for i in s.split()])"
   ]
  },
  {
   "cell_type": "code",
   "execution_count": 18,
   "id": "76ecce26",
   "metadata": {},
   "outputs": [
    {
     "ename": "AttributeError",
     "evalue": "'dict' object has no attribute 'add'",
     "output_type": "error",
     "traceback": [
      "\u001b[1;31m---------------------------------------------------------------------------\u001b[0m",
      "\u001b[1;31mAttributeError\u001b[0m                            Traceback (most recent call last)",
      "Cell \u001b[1;32mIn[18], line 2\u001b[0m\n\u001b[0;32m      1\u001b[0m sett\u001b[38;5;241m=\u001b[39m{}\n\u001b[1;32m----> 2\u001b[0m \u001b[43msett\u001b[49m\u001b[38;5;241;43m.\u001b[39;49m\u001b[43madd\u001b[49m(\u001b[38;5;241m4\u001b[39m)\n",
      "\u001b[1;31mAttributeError\u001b[0m: 'dict' object has no attribute 'add'"
     ]
    }
   ],
   "source": [
    "sett={}\n",
    "sett.add(4)"
   ]
  },
  {
   "cell_type": "code",
   "execution_count": 19,
   "id": "a1aa02da",
   "metadata": {},
   "outputs": [],
   "source": [
    "str1=\"AB\""
   ]
  },
  {
   "cell_type": "code",
   "execution_count": 21,
   "id": "e49f55e4",
   "metadata": {},
   "outputs": [
    {
     "ename": "AttributeError",
     "evalue": "'str' object has no attribute 'sort'",
     "output_type": "error",
     "traceback": [
      "\u001b[1;31m---------------------------------------------------------------------------\u001b[0m",
      "\u001b[1;31mAttributeError\u001b[0m                            Traceback (most recent call last)",
      "Cell \u001b[1;32mIn[21], line 1\u001b[0m\n\u001b[1;32m----> 1\u001b[0m \u001b[43mstr1\u001b[49m\u001b[38;5;241;43m.\u001b[39;49m\u001b[43msort\u001b[49m()\n",
      "\u001b[1;31mAttributeError\u001b[0m: 'str' object has no attribute 'sort'"
     ]
    }
   ],
   "source": [
    "str1.sort()"
   ]
  },
  {
   "cell_type": "markdown",
   "id": "b214a3f8",
   "metadata": {},
   "source": [
    "#Dictionary"
   ]
  },
  {
   "cell_type": "code",
   "execution_count": 71,
   "id": "67bafc94",
   "metadata": {},
   "outputs": [],
   "source": [
    "my_dict = {'x': 50, 'y': 60, 'z': 50}"
   ]
  },
  {
   "cell_type": "code",
   "execution_count": 74,
   "id": "13b77682",
   "metadata": {},
   "outputs": [
    {
     "name": "stdout",
     "output_type": "stream",
     "text": [
      "50\n",
      "60\n",
      "50\n"
     ]
    }
   ],
   "source": [
    "for k,v in my_dict.items():\n",
    "    print(v)"
   ]
  },
  {
   "cell_type": "code",
   "execution_count": 88,
   "id": "bd6a75a4",
   "metadata": {},
   "outputs": [
    {
     "data": {
      "text/plain": [
       "[('x', 50), ('z', 50), ('y', 60)]"
      ]
     },
     "execution_count": 88,
     "metadata": {},
     "output_type": "execute_result"
    }
   ],
   "source": [
    "sorted(my_dict.items(),key=lambda x:x[1])"
   ]
  },
  {
   "cell_type": "code",
   "execution_count": 47,
   "id": "560227dc",
   "metadata": {},
   "outputs": [
    {
     "name": "stdout",
     "output_type": "stream",
     "text": [
      "50\n",
      "60\n",
      "50\n"
     ]
    }
   ],
   "source": [
    "for k,v in my_dict.items():\n",
    "    print(my_dict[k])"
   ]
  },
  {
   "cell_type": "code",
   "execution_count": 59,
   "id": "a51f5a39",
   "metadata": {},
   "outputs": [],
   "source": [
    "d=[k for k,v in my_dict.items() if v==60]"
   ]
  },
  {
   "cell_type": "code",
   "execution_count": 60,
   "id": "baebe386",
   "metadata": {},
   "outputs": [
    {
     "data": {
      "text/plain": [
       "['y']"
      ]
     },
     "execution_count": 60,
     "metadata": {},
     "output_type": "execute_result"
    }
   ],
   "source": [
    "d"
   ]
  },
  {
   "cell_type": "code",
   "execution_count": 28,
   "id": "6d043cad",
   "metadata": {},
   "outputs": [],
   "source": [
    "lst=[3,4,5]"
   ]
  },
  {
   "cell_type": "code",
   "execution_count": 40,
   "id": "8e074bbb",
   "metadata": {},
   "outputs": [
    {
     "data": {
      "text/plain": [
       "[('x', 50), ('z', 50), ('y', 60)]"
      ]
     },
     "execution_count": 40,
     "metadata": {},
     "output_type": "execute_result"
    }
   ],
   "source": [
    "#sort a dictionary through values\n",
    "sorted(my_dict.items(),key=lambda x:x[1])"
   ]
  },
  {
   "cell_type": "code",
   "execution_count": 41,
   "id": "b9ecfd14",
   "metadata": {},
   "outputs": [
    {
     "data": {
      "text/plain": [
       "[('x', 50), ('y', 60), ('z', 50)]"
      ]
     },
     "execution_count": 41,
     "metadata": {},
     "output_type": "execute_result"
    }
   ],
   "source": [
    "#sort a dictionary through Keys\n",
    "sorted(my_dict.items(),key=lambda x:x[0])"
   ]
  },
  {
   "cell_type": "code",
   "execution_count": 82,
   "id": "0c5ca2fe",
   "metadata": {},
   "outputs": [
    {
     "name": "stdout",
     "output_type": "stream",
     "text": [
      "5\n",
      "5 1\n"
     ]
    }
   ],
   "source": [
    "s = input()\n",
    "s_dic={}\n",
    "seen=set()\n",
    "for i in s:\n",
    "    if i not in seen:\n",
    "        s_dic[i]=1\n",
    "        seen.add(i)\n",
    "    else:\n",
    "        s_dic[i]=s_dic[i]+1\n",
    "new_dic=sorted(s_dic.items(), key=lambda x:x[1],reverse=True)\n",
    "for k,v in new_dic[0:3]:\n",
    "    print(f\"{k} {v}\")"
   ]
  },
  {
   "cell_type": "code",
   "execution_count": 85,
   "id": "e9c105ba",
   "metadata": {},
   "outputs": [],
   "source": [
    "lst=[1,2,3,4,5]"
   ]
  },
  {
   "cell_type": "code",
   "execution_count": 12,
   "id": "7321b842",
   "metadata": {},
   "outputs": [
    {
     "ename": "AttributeError",
     "evalue": "'list' object has no attribute 'split'",
     "output_type": "error",
     "traceback": [
      "\u001b[1;31m---------------------------------------------------------------------------\u001b[0m",
      "\u001b[1;31mAttributeError\u001b[0m                            Traceback (most recent call last)",
      "Cell \u001b[1;32mIn[12], line 1\u001b[0m\n\u001b[1;32m----> 1\u001b[0m \u001b[43mlst\u001b[49m\u001b[38;5;241;43m.\u001b[39;49m\u001b[43msplit\u001b[49m()\n",
      "\u001b[1;31mAttributeError\u001b[0m: 'list' object has no attribute 'split'"
     ]
    }
   ],
   "source": [
    "lst.split()"
   ]
  },
  {
   "cell_type": "code",
   "execution_count": 13,
   "id": "ed92f7aa",
   "metadata": {},
   "outputs": [],
   "source": [
    "str1=\"sdfj sdfowre wret0ok\""
   ]
  },
  {
   "cell_type": "code",
   "execution_count": 14,
   "id": "4e1fed4a",
   "metadata": {},
   "outputs": [
    {
     "data": {
      "text/plain": [
       "['sdfj', 'sdfowre', 'wret0ok']"
      ]
     },
     "execution_count": 14,
     "metadata": {},
     "output_type": "execute_result"
    }
   ],
   "source": [
    "l1=str1.split()\n",
    "l1"
   ]
  },
  {
   "cell_type": "code",
   "execution_count": 17,
   "id": "00b7760a",
   "metadata": {},
   "outputs": [
    {
     "data": {
      "text/plain": [
       "'sdfj sdfowre wret0ok'"
      ]
     },
     "execution_count": 17,
     "metadata": {},
     "output_type": "execute_result"
    }
   ],
   "source": [
    "\" \".join(l1)"
   ]
  },
  {
   "cell_type": "code",
   "execution_count": 89,
   "id": "ecc3a414",
   "metadata": {},
   "outputs": [
    {
     "data": {
      "text/plain": [
       "'sdfj sdfowre wret0ok'"
      ]
     },
     "execution_count": 89,
     "metadata": {},
     "output_type": "execute_result"
    }
   ],
   "source": [
    "\"\".join(str1)"
   ]
  },
  {
   "cell_type": "code",
   "execution_count": 63,
   "id": "5252fbd3",
   "metadata": {},
   "outputs": [
    {
     "data": {
      "text/plain": [
       "[4, 3, 2, 1]"
      ]
     },
     "execution_count": 63,
     "metadata": {},
     "output_type": "execute_result"
    }
   ],
   "source": [
    "lst[::-1][1:]"
   ]
  },
  {
   "cell_type": "code",
   "execution_count": 47,
   "id": "8365f7b4",
   "metadata": {},
   "outputs": [
    {
     "data": {
      "text/plain": [
       "[5, 4, 3]"
      ]
     },
     "execution_count": 47,
     "metadata": {},
     "output_type": "execute_result"
    }
   ],
   "source": [
    "lst[::-1]"
   ]
  },
  {
   "cell_type": "markdown",
   "id": "184a6bc8",
   "metadata": {},
   "source": [
    "##list"
   ]
  },
  {
   "cell_type": "code",
   "execution_count": 20,
   "id": "dc11879e",
   "metadata": {},
   "outputs": [
    {
     "name": "stdout",
     "output_type": "stream",
     "text": [
      "4\n",
      "1\n",
      "1 2 1\n",
      "1 2 3 2 1\n",
      "1 2 3 4 3 2 1\n"
     ]
    }
   ],
   "source": [
    "for i in range(1,int(input())+1): #More than 2 lines will result in 0 score. Do not leave a blank line also\n",
    "    lst=[]\n",
    "    for i in range(1,i+1):\n",
    "        lst.append(i)\n",
    "#     print(lst[::-1][1:])\n",
    "    lst.extend(lst[::-1][1:])\n",
    "#     print(lst)\n",
    "    print(\" \".join(map(str,lst)))\n",
    "#     print(sorted(lst[:],reverse=True))\n",
    "#     lst.extend(sorted(lst[-1],reverse=True))\n",
    "#     print(\" \".join(lst))"
   ]
  },
  {
   "cell_type": "code",
   "execution_count": null,
   "id": "ebcce64e",
   "metadata": {},
   "outputs": [],
   "source": []
  },
  {
   "cell_type": "code",
   "execution_count": 83,
   "id": "f13f2d69",
   "metadata": {},
   "outputs": [],
   "source": [
    "n=5"
   ]
  },
  {
   "cell_type": "code",
   "execution_count": 86,
   "id": "ca991215",
   "metadata": {},
   "outputs": [
    {
     "name": "stdout",
     "output_type": "stream",
     "text": [
      "\n",
      "[1, 2, 3, 4, 5, 1, 5, 4, 3, 2, 1]\n",
      "\n",
      "[1, 2, 3, 4, 5, 1, 5, 4, 3, 2, 1, 2, 5, 5, 4, 4, 3, 3, 2, 2, 1, 1, 1]\n",
      "\n",
      "[1, 2, 3, 4, 5, 1, 5, 4, 3, 2, 1, 2, 5, 5, 4, 4, 3, 3, 2, 2, 1, 1, 1, 3, 5, 5, 5, 5, 4, 4, 4, 4, 3, 3, 3, 3, 2, 2, 2, 2, 2, 1, 1, 1, 1, 1, 1]\n",
      "\n",
      "[1, 2, 3, 4, 5, 1, 5, 4, 3, 2, 1, 2, 5, 5, 4, 4, 3, 3, 2, 2, 1, 1, 1, 3, 5, 5, 5, 5, 4, 4, 4, 4, 3, 3, 3, 3, 2, 2, 2, 2, 2, 1, 1, 1, 1, 1, 1, 4, 5, 5, 5, 5, 5, 5, 5, 5, 4, 4, 4, 4, 4, 4, 4, 4, 3, 3, 3, 3, 3, 3, 3, 3, 3, 2, 2, 2, 2, 2, 2, 2, 2, 2, 2, 1, 1, 1, 1, 1, 1, 1, 1, 1, 1, 1, 1]\n"
     ]
    }
   ],
   "source": [
    "for i in range(1,n):\n",
    "    \n",
    "#     print(i)\n",
    "    lst.append(i)\n",
    "# print(sorted(lst[:-1],reverse=True))\n",
    "    print()\n",
    "    lst.extend(sorted(lst[:-1],reverse=True))\n",
    "    print(lst)"
   ]
  },
  {
   "cell_type": "markdown",
   "id": "33344785",
   "metadata": {},
   "source": [
    "Q1: Given two arrays, write a python function to return the intersection of the two? For example, X = [1,5,9,0] and Y = [3,0,2,9] it should return [9,0]"
   ]
  },
  {
   "cell_type": "code",
   "execution_count": 1,
   "id": "16d8d9d5",
   "metadata": {},
   "outputs": [],
   "source": [
    "X=[1,5,9,0]\n",
    "Y=[3,0,2,9]"
   ]
  },
  {
   "cell_type": "code",
   "execution_count": 8,
   "id": "ac77aba4",
   "metadata": {},
   "outputs": [
    {
     "name": "stdout",
     "output_type": "stream",
     "text": [
      "[9, 0]\n"
     ]
    }
   ],
   "source": [
    "print([x for x in X if x in Y])"
   ]
  },
  {
   "cell_type": "code",
   "execution_count": 11,
   "id": "957c0493",
   "metadata": {},
   "outputs": [
    {
     "data": {
      "text/plain": [
       "[0, 9]"
      ]
     },
     "execution_count": 11,
     "metadata": {},
     "output_type": "execute_result"
    }
   ],
   "source": [
    "list(set(X).intersection(set(Y)))"
   ]
  },
  {
   "cell_type": "markdown",
   "id": "c85f1cd5",
   "metadata": {},
   "source": [
    "Q2: Given an array, find all the duplicates in this array? For example: input: [1,2,3,1,3,6,5] output: [1,3]"
   ]
  },
  {
   "cell_type": "code",
   "execution_count": 4,
   "id": "2a0bb844",
   "metadata": {},
   "outputs": [],
   "source": [
    "X=[1,2,3,1,3,6,5]"
   ]
  },
  {
   "cell_type": "code",
   "execution_count": 7,
   "id": "4efd832c",
   "metadata": {},
   "outputs": [
    {
     "data": {
      "text/plain": [
       "[1, 3]"
      ]
     },
     "execution_count": 7,
     "metadata": {},
     "output_type": "execute_result"
    }
   ],
   "source": [
    "list(set(x for x in X if X.count(x)>1))"
   ]
  },
  {
   "cell_type": "code",
   "execution_count": 11,
   "id": "ffdcc8cb",
   "metadata": {},
   "outputs": [
    {
     "data": {
      "text/plain": [
       "2"
      ]
     },
     "execution_count": 11,
     "metadata": {},
     "output_type": "execute_result"
    }
   ],
   "source": [
    "X.count(1)"
   ]
  },
  {
   "cell_type": "code",
   "execution_count": 16,
   "id": "ce930ba4",
   "metadata": {},
   "outputs": [
    {
     "data": {
      "text/plain": [
       "[1, 3]"
      ]
     },
     "execution_count": 16,
     "metadata": {},
     "output_type": "execute_result"
    }
   ],
   "source": [
    "list(set([x for x in X if X.count(x)>1]))"
   ]
  },
  {
   "cell_type": "code",
   "execution_count": 23,
   "id": "460855ef",
   "metadata": {},
   "outputs": [
    {
     "data": {
      "text/plain": [
       "2"
      ]
     },
     "execution_count": 23,
     "metadata": {},
     "output_type": "execute_result"
    }
   ],
   "source": [
    "X.count(1)"
   ]
  },
  {
   "cell_type": "code",
   "execution_count": 26,
   "id": "6cdeae00",
   "metadata": {},
   "outputs": [
    {
     "name": "stdout",
     "output_type": "stream",
     "text": [
      "[1, 3]\n"
     ]
    }
   ],
   "source": [
    "print(list(set([x for x in X if X.count(x)>1])))"
   ]
  },
  {
   "cell_type": "markdown",
   "id": "7b75c4e8",
   "metadata": {},
   "source": [
    "Q3: Given an integer array, return the maximum product of any three numbers in the array?"
   ]
  },
  {
   "cell_type": "code",
   "execution_count": 19,
   "id": "2d4acb82",
   "metadata": {},
   "outputs": [],
   "source": [
    "X=[1,2,3,1,3,6,5]"
   ]
  },
  {
   "cell_type": "code",
   "execution_count": 8,
   "id": "42673653",
   "metadata": {},
   "outputs": [],
   "source": [
    "import math"
   ]
  },
  {
   "cell_type": "code",
   "execution_count": 18,
   "id": "85175442",
   "metadata": {},
   "outputs": [],
   "source": [
    "X2=sorted(X,reverse=True)"
   ]
  },
  {
   "cell_type": "code",
   "execution_count": 19,
   "id": "b94bcacc",
   "metadata": {},
   "outputs": [
    {
     "data": {
      "text/plain": [
       "90"
      ]
     },
     "execution_count": 19,
     "metadata": {},
     "output_type": "execute_result"
    }
   ],
   "source": [
    "math.prod(X2[:3])"
   ]
  },
  {
   "cell_type": "code",
   "execution_count": null,
   "id": "985f8075",
   "metadata": {},
   "outputs": [],
   "source": []
  },
  {
   "cell_type": "code",
   "execution_count": null,
   "id": "6fafcd4f",
   "metadata": {},
   "outputs": [],
   "source": []
  },
  {
   "cell_type": "code",
   "execution_count": 36,
   "id": "c50c3412",
   "metadata": {},
   "outputs": [],
   "source": [
    "from functools import reduce"
   ]
  },
  {
   "cell_type": "code",
   "execution_count": 28,
   "id": "8c7fcad0",
   "metadata": {},
   "outputs": [],
   "source": [
    "X2=sorted(X,reverse=True)"
   ]
  },
  {
   "cell_type": "code",
   "execution_count": 38,
   "id": "a07c4d72",
   "metadata": {},
   "outputs": [
    {
     "data": {
      "text/plain": [
       "[36, 25, 9]"
      ]
     },
     "execution_count": 38,
     "metadata": {},
     "output_type": "execute_result"
    }
   ],
   "source": [
    "list(map(lambda x:x*x,X2[:3]))"
   ]
  },
  {
   "cell_type": "code",
   "execution_count": 41,
   "id": "4319fa3c",
   "metadata": {},
   "outputs": [
    {
     "data": {
      "text/plain": [
       "90"
      ]
     },
     "execution_count": 41,
     "metadata": {},
     "output_type": "execute_result"
    }
   ],
   "source": [
    "reduce(lambda x,y:x*y,X2[:3])"
   ]
  },
  {
   "cell_type": "code",
   "execution_count": 42,
   "id": "91545ff1",
   "metadata": {},
   "outputs": [],
   "source": [
    "import math"
   ]
  },
  {
   "cell_type": "code",
   "execution_count": 44,
   "id": "9a3fee8c",
   "metadata": {},
   "outputs": [
    {
     "data": {
      "text/plain": [
       "90"
      ]
     },
     "execution_count": 44,
     "metadata": {},
     "output_type": "execute_result"
    }
   ],
   "source": [
    "math.prod(X2[:3])"
   ]
  },
  {
   "cell_type": "code",
   "execution_count": 12,
   "id": "90bc701c",
   "metadata": {},
   "outputs": [],
   "source": [
    "X1=list(set(X))"
   ]
  },
  {
   "cell_type": "code",
   "execution_count": 13,
   "id": "e0bda643",
   "metadata": {},
   "outputs": [],
   "source": [
    "X2=sorted(X1,reverse=True)[0:3]\n"
   ]
  },
  {
   "cell_type": "code",
   "execution_count": 14,
   "id": "89013b0c",
   "metadata": {},
   "outputs": [],
   "source": [
    "from functools import reduce"
   ]
  },
  {
   "cell_type": "code",
   "execution_count": 15,
   "id": "e454a1b4",
   "metadata": {},
   "outputs": [
    {
     "data": {
      "text/plain": [
       "90"
      ]
     },
     "execution_count": 15,
     "metadata": {},
     "output_type": "execute_result"
    }
   ],
   "source": [
    "reduce(lambda x,y:x*y,X2)"
   ]
  },
  {
   "cell_type": "code",
   "execution_count": 40,
   "id": "f4301e13",
   "metadata": {},
   "outputs": [
    {
     "name": "stdout",
     "output_type": "stream",
     "text": [
      "90\n"
     ]
    }
   ],
   "source": [
    "m=1\n",
    "for i in X2:\n",
    "    m=m*i\n",
    "print(m)"
   ]
  },
  {
   "cell_type": "markdown",
   "id": "fe5cee3b",
   "metadata": {},
   "source": [
    "Q4: Given an integer array, find the sum of the largest contiguous subarray within the array. For example, given the array A = [0,-1,-5,-2,3,14] it should return 17 because of [3,14]. Note that if all the elements are negative it should return zero."
   ]
  },
  {
   "cell_type": "code",
   "execution_count": 45,
   "id": "a07452fe",
   "metadata": {},
   "outputs": [],
   "source": [
    "A = [0,-1,-5,-2,3,14]"
   ]
  },
  {
   "cell_type": "code",
   "execution_count": 48,
   "id": "585831bf",
   "metadata": {},
   "outputs": [],
   "source": [
    "A2=sorted(A,reverse=True)"
   ]
  },
  {
   "cell_type": "code",
   "execution_count": 51,
   "id": "108b60db",
   "metadata": {},
   "outputs": [
    {
     "name": "stdout",
     "output_type": "stream",
     "text": [
      "17\n"
     ]
    }
   ],
   "source": [
    "sum=0\n",
    "for i in A:\n",
    "#     print(i)\n",
    "    if i>0:\n",
    "        sum+=i\n",
    "print(sum)"
   ]
  },
  {
   "cell_type": "code",
   "execution_count": 61,
   "id": "14b9ada6",
   "metadata": {},
   "outputs": [
    {
     "data": {
      "text/plain": [
       "17"
      ]
     },
     "execution_count": 61,
     "metadata": {},
     "output_type": "execute_result"
    }
   ],
   "source": [
    "sum([i for i in A if i>0])"
   ]
  },
  {
   "cell_type": "markdown",
   "id": "34d17781",
   "metadata": {},
   "source": [
    "Q7: Given an integer n and an integer K, output a list of all of the combination of k numbers chosen from 1 to n. For example, if n=3 and k=2, return [1,2][1,3],[2,3]"
   ]
  },
  {
   "cell_type": "code",
   "execution_count": 53,
   "id": "2b8309be",
   "metadata": {},
   "outputs": [],
   "source": [
    "n=3\n",
    "k=2"
   ]
  },
  {
   "cell_type": "code",
   "execution_count": 60,
   "id": "b9b7f24d",
   "metadata": {},
   "outputs": [
    {
     "name": "stdout",
     "output_type": "stream",
     "text": [
      "[2][1]\n",
      "[3][1]\n",
      "[3][2]\n"
     ]
    }
   ],
   "source": [
    "for i in range(1,n+1):\n",
    "    for j in range(1,k+1):\n",
    "        if (i!=j)&(i>j):\n",
    "            print(f\"[{i}][{j}]\".format())"
   ]
  },
  {
   "cell_type": "code",
   "execution_count": 72,
   "id": "36e7bf53",
   "metadata": {},
   "outputs": [
    {
     "name": "stdout",
     "output_type": "stream",
     "text": [
      "1 2\n",
      "1 3\n",
      "2 3\n"
     ]
    }
   ],
   "source": [
    "for i in range(1,n+1):\n",
    "    for j in range(1,k+1):\n",
    "        if (i!=j)&(i>j):\n",
    "            print(j,i)\n",
    "    "
   ]
  },
  {
   "cell_type": "markdown",
   "id": "013f5aa3",
   "metadata": {},
   "source": [
    "Q8: Write a function to generate N samples from a normal distribution and plot them on the histogram"
   ]
  },
  {
   "cell_type": "code",
   "execution_count": 79,
   "id": "bf322e59",
   "metadata": {},
   "outputs": [
    {
     "data": {
      "text/plain": [
       "(array([ 5., 10., 14., 19., 22., 18.,  7.,  3.,  1.,  1.]),\n",
       " array([-2.33076401, -1.77233069, -1.21389737, -0.65546405, -0.09703073,\n",
       "         0.4614026 ,  1.01983592,  1.57826924,  2.13670256,  2.69513588,\n",
       "         3.2535692 ]),\n",
       " <BarContainer object of 10 artists>)"
      ]
     },
     "execution_count": 79,
     "metadata": {},
     "output_type": "execute_result"
    },
    {
     "data": {
      "image/png": "[encoded data removed]",
      "text/plain": [
       "<Figure size 640x480 with 1 Axes>"
      ]
     },
     "metadata": {},
     "output_type": "display_data"
    }
   ],
   "source": [
    "import numpy as np\n",
    "import matplotlib.pyplot as plt\n",
    "N=100\n",
    "x = np.random.randn((N))\n",
    "plt.hist(x)"
   ]
  },
  {
   "cell_type": "markdown",
   "id": "d48b1926",
   "metadata": {},
   "source": [
    "Q10: Given a string, return the first recurring character in it, or “None” if there is no recurring character. Example: input = \"pythoninterviewquestion\" , output = \"n\""
   ]
  },
  {
   "cell_type": "code",
   "execution_count": 64,
   "id": "bdf2ca8a",
   "metadata": {},
   "outputs": [],
   "source": [
    "inp=\"pythoninterviewquestion\""
   ]
  },
  {
   "cell_type": "code",
   "execution_count": 70,
   "id": "ed2e5a51",
   "metadata": {},
   "outputs": [
    {
     "name": "stdout",
     "output_type": "stream",
     "text": [
      "n\n"
     ]
    }
   ],
   "source": [
    "sett=set()\n",
    "for i in inp:\n",
    "    if i in sett:\n",
    "        print(i)\n",
    "        break;\n",
    "    else:\n",
    "        sett.add(i)"
   ]
  },
  {
   "cell_type": "code",
   "execution_count": null,
   "id": "e49ccfcb",
   "metadata": {},
   "outputs": [],
   "source": []
  },
  {
   "cell_type": "code",
   "execution_count": 82,
   "id": "2547de0c",
   "metadata": {},
   "outputs": [
    {
     "name": "stdout",
     "output_type": "stream",
     "text": [
      "n\n"
     ]
    }
   ],
   "source": [
    "lst=[]\n",
    "for i in inp:\n",
    "    if i not in lst:\n",
    "        lst.append(i)\n",
    "    else:\n",
    "        print(i)\n",
    "        break;"
   ]
  },
  {
   "cell_type": "markdown",
   "id": "a31e0af6",
   "metadata": {},
   "source": [
    "Q11: Given a positive integer X return an integer that is a factorial of X. If a negative integer is provided, return -1. Implement the solution by using a recursive function."
   ]
  },
  {
   "cell_type": "code",
   "execution_count": 18,
   "id": "71aa4b42",
   "metadata": {},
   "outputs": [
    {
     "name": "stdout",
     "output_type": "stream",
     "text": [
      "120\n"
     ]
    }
   ],
   "source": [
    "n=5\n",
    "p=1\n",
    "for i in range(1,n+1):\n",
    "    p=p*i\n",
    "# i*i for i in range(n)\n",
    "print(p)"
   ]
  },
  {
   "cell_type": "code",
   "execution_count": 19,
   "id": "7772b1c1",
   "metadata": {},
   "outputs": [],
   "source": [
    "def fact(n):\n",
    "    if n<0:\n",
    "        return -1\n",
    "    else:\n",
    "        p=1\n",
    "        for i in range(1,n+1):\n",
    "            p=p*i\n",
    "        return p"
   ]
  },
  {
   "cell_type": "code",
   "execution_count": 21,
   "id": "7083dfbd",
   "metadata": {},
   "outputs": [
    {
     "data": {
      "text/plain": [
       "-1"
      ]
     },
     "execution_count": 21,
     "metadata": {},
     "output_type": "execute_result"
    }
   ],
   "source": [
    "fact(-2)"
   ]
  },
  {
   "cell_type": "markdown",
   "id": "d51dbb4f",
   "metadata": {},
   "source": [
    "Q12: Given an m-by-n matrix with positive integers, determine the length of the longest path of increasing within the matrix. For example, consider the input matrix:\n",
    "            [ 1 2 3 ]\n",
    "    \n",
    "    [ 4 5 6 ]\n",
    "    \n",
    "    [ 7 8 9 ]        \n",
    "    \n",
    "    The answer should be 5 since the longest path would be 1-2-5-6-9 "
   ]
  },
  {
   "cell_type": "code",
   "execution_count": 22,
   "id": "12bbc2ab",
   "metadata": {},
   "outputs": [],
   "source": [
    "m=[[1,2,3],[4,5,6],[7,8,9]]"
   ]
  },
  {
   "cell_type": "code",
   "execution_count": 24,
   "id": "3433274a",
   "metadata": {},
   "outputs": [
    {
     "data": {
      "text/plain": [
       "[1, 2, 3]"
      ]
     },
     "execution_count": 24,
     "metadata": {},
     "output_type": "execute_result"
    }
   ],
   "source": []
  },
  {
   "cell_type": "code",
   "execution_count": 1,
   "id": "2c5d4824",
   "metadata": {},
   "outputs": [],
   "source": [
    "rooms=[1, 2, 3, 6, 5, 4, 4, 2, 5, 3, 6, 1, 6, 5, 3, 2, 4, 1, 2, 5, 1, 4, 3, 6, 8, 4, 3, 1, 5, 6, 2]"
   ]
  },
  {
   "cell_type": "code",
   "execution_count": 9,
   "id": "ea33cfee",
   "metadata": {},
   "outputs": [
    {
     "data": {
      "text/plain": [
       "5"
      ]
     },
     "execution_count": 9,
     "metadata": {},
     "output_type": "execute_result"
    }
   ],
   "source": [
    "rooms.count(1)"
   ]
  },
  {
   "cell_type": "code",
   "execution_count": 11,
   "id": "818ed7b6",
   "metadata": {},
   "outputs": [],
   "source": [
    "from collections import Counter\n",
    "\n",
    "room_count = Counter(rooms)"
   ]
  },
  {
   "cell_type": "code",
   "execution_count": 12,
   "id": "cd32a58a",
   "metadata": {},
   "outputs": [
    {
     "data": {
      "text/plain": [
       "Counter({1: 5, 2: 5, 3: 5, 6: 5, 5: 5, 4: 5, 8: 1})"
      ]
     },
     "execution_count": 12,
     "metadata": {},
     "output_type": "execute_result"
    }
   ],
   "source": [
    "room_count"
   ]
  },
  {
   "cell_type": "code",
   "execution_count": 22,
   "id": "0e8260c1",
   "metadata": {},
   "outputs": [
    {
     "name": "stdout",
     "output_type": "stream",
     "text": [
      "8\n"
     ]
    }
   ],
   "source": [
    "for i,v in room_count.items():\n",
    "    if v==1:\n",
    "        print(i)"
   ]
  },
  {
   "cell_type": "code",
   "execution_count": 19,
   "id": "f0c21696",
   "metadata": {},
   "outputs": [
    {
     "data": {
      "text/plain": [
       "0"
      ]
     },
     "execution_count": 19,
     "metadata": {},
     "output_type": "execute_result"
    }
   ],
   "source": [
    "room_count['2']"
   ]
  },
  {
   "cell_type": "code",
   "execution_count": 90,
   "id": "861d79b0",
   "metadata": {},
   "outputs": [],
   "source": [
    "lst=[i for i in range(1,10)]"
   ]
  },
  {
   "cell_type": "code",
   "execution_count": 94,
   "id": "229e19b9",
   "metadata": {},
   "outputs": [
    {
     "name": "stdout",
     "output_type": "stream",
     "text": [
      "9\n",
      "8\n",
      "7\n",
      "6\n",
      "5\n",
      "4\n",
      "3\n",
      "2\n",
      "1\n"
     ]
    }
   ],
   "source": [
    "for i in lst[::-1]:\n",
    "    print(i)"
   ]
  },
  {
   "cell_type": "code",
   "execution_count": 96,
   "id": "04123734",
   "metadata": {},
   "outputs": [
    {
     "data": {
      "text/plain": [
       "'[1, 2, 3, 4, 5, 6, 7, 8, 9]'"
      ]
     },
     "execution_count": 96,
     "metadata": {},
     "output_type": "execute_result"
    }
   ],
   "source": [
    "str(lst)"
   ]
  },
  {
   "cell_type": "markdown",
   "id": "6de3c07d",
   "metadata": {},
   "source": [
    "https://www.interviewquery.com/p/python-data-science-interview-questions"
   ]
  },
  {
   "cell_type": "markdown",
   "id": "2c8d465b",
   "metadata": {},
   "source": [
    "21. Write a function that can take a string and return a list of bigrams."
   ]
  },
  {
   "cell_type": "code",
   "execution_count": 97,
   "id": "8fe9d8dc",
   "metadata": {},
   "outputs": [],
   "source": [
    "sentence = \"\"\"\n",
    "Have free hours and love children?\n",
    "\"\"\""
   ]
  },
  {
   "cell_type": "code",
   "execution_count": 111,
   "id": "584cda71",
   "metadata": {},
   "outputs": [
    {
     "data": {
      "text/plain": [
       "['Have', 'free', 'hours', 'and', 'love', 'children?']"
      ]
     },
     "execution_count": 111,
     "metadata": {},
     "output_type": "execute_result"
    }
   ],
   "source": [
    "sentence.split()"
   ]
  },
  {
   "cell_type": "code",
   "execution_count": 113,
   "id": "d20f440a",
   "metadata": {},
   "outputs": [
    {
     "name": "stdout",
     "output_type": "stream",
     "text": [
      "Have free\n",
      "free hours\n",
      "hours and\n",
      "and love\n",
      "love children?\n"
     ]
    }
   ],
   "source": [
    "for i in range(len(sentence.split())-1):\n",
    "    print(sentence.split()[i],sentence.split()[i+1])"
   ]
  },
  {
   "cell_type": "markdown",
   "id": "6dc93d3a",
   "metadata": {},
   "source": [
    "22. Given two strings A and B, return whether or not A can be shifted some number of times to get B."
   ]
  },
  {
   "cell_type": "markdown",
   "id": "42430cf3",
   "metadata": {},
   "source": [
    "A = 'abcde'\n",
    "B = 'cdeab'\n",
    "can_shift(A, B) == True\n",
    "A = 'abc'\n",
    "B = 'acb'\n",
    "can_shift(A, B) == False"
   ]
  },
  {
   "cell_type": "code",
   "execution_count": 144,
   "id": "ae0b25e6",
   "metadata": {},
   "outputs": [
    {
     "data": {
      "text/plain": [
       "'rbcde'"
      ]
     },
     "execution_count": 144,
     "metadata": {},
     "output_type": "execute_result"
    }
   ],
   "source": [
    "A.replace('a','r')"
   ]
  },
  {
   "cell_type": "code",
   "execution_count": 3,
   "id": "9742028d",
   "metadata": {},
   "outputs": [],
   "source": [
    "A = 'abcde'\n",
    "B = 'cdeab'"
   ]
  },
  {
   "cell_type": "code",
   "execution_count": 148,
   "id": "b04201c2",
   "metadata": {},
   "outputs": [
    {
     "name": "stdout",
     "output_type": "stream",
     "text": [
      "True\n"
     ]
    }
   ],
   "source": [
    "if B in A+A:\n",
    "    print(True)"
   ]
  },
  {
   "cell_type": "code",
   "execution_count": null,
   "id": "2e80d4a3",
   "metadata": {},
   "outputs": [],
   "source": [
    "A"
   ]
  },
  {
   "cell_type": "code",
   "execution_count": 4,
   "id": "c0936135",
   "metadata": {},
   "outputs": [
    {
     "name": "stdout",
     "output_type": "stream",
     "text": [
      "bcdea\n",
      "cdeab\n",
      "True\n",
      "deabc\n",
      "eabcd\n",
      "abcde\n"
     ]
    }
   ],
   "source": [
    "for i in range(len(A)):\n",
    "    A=A[1:]+A[0]\n",
    "    print(A)\n",
    "    if A==B:\n",
    "        print(True)"
   ]
  },
  {
   "cell_type": "markdown",
   "id": "67f8ad8b",
   "metadata": {},
   "source": [
    "23. Given two strings, string1 and string2, determine if there exists a one to one character mapping between each character of string1 to string2."
   ]
  },
  {
   "cell_type": "code",
   "execution_count": 13,
   "id": "8dd30211",
   "metadata": {},
   "outputs": [],
   "source": [
    "string1 = 'qwee'\n",
    "string2 = 'asd'    "
   ]
  },
  {
   "cell_type": "code",
   "execution_count": 14,
   "id": "50c76f45",
   "metadata": {},
   "outputs": [
    {
     "name": "stdout",
     "output_type": "stream",
     "text": [
      "False\n"
     ]
    }
   ],
   "source": [
    "seen=[]\n",
    "for i in string1+string2:\n",
    "    if i in seen:\n",
    "        print(False)\n",
    "        break;\n",
    "    else:\n",
    "        seen.append(i)"
   ]
  },
  {
   "cell_type": "code",
   "execution_count": 20,
   "id": "18e1dd6e",
   "metadata": {},
   "outputs": [],
   "source": [
    "seen.extend(['t','p','o'])"
   ]
  },
  {
   "cell_type": "code",
   "execution_count": 21,
   "id": "dee71c9a",
   "metadata": {},
   "outputs": [
    {
     "data": {
      "text/plain": [
       "['q', 'w', 'e', 't', 'p', 'o']"
      ]
     },
     "execution_count": 21,
     "metadata": {},
     "output_type": "execute_result"
    }
   ],
   "source": [
    "seen"
   ]
  },
  {
   "cell_type": "code",
   "execution_count": 29,
   "id": "b93ad073",
   "metadata": {},
   "outputs": [
    {
     "name": "stdout",
     "output_type": "stream",
     "text": [
      "['w', 'q', 't', 'e', 'o', 'p']\n"
     ]
    }
   ],
   "source": [
    "seen2=[]\n",
    "for i in range(0,len(seen),2):\n",
    "#     print(seen[i])\n",
    "    seen2.extend([seen[i+1],seen[i]])\n",
    "print(seen2)"
   ]
  },
  {
   "cell_type": "code",
   "execution_count": 33,
   "id": "3cb1f87f",
   "metadata": {},
   "outputs": [
    {
     "data": {
      "text/plain": [
       "'WQTEOP'"
      ]
     },
     "execution_count": 33,
     "metadata": {},
     "output_type": "execute_result"
    }
   ],
   "source": [
    "\"\".join(seen2).swapcase()"
   ]
  },
  {
   "cell_type": "code",
   "execution_count": 41,
   "id": "68aff0b0",
   "metadata": {},
   "outputs": [
    {
     "data": {
      "text/plain": [
       "'World Hello'"
      ]
     },
     "execution_count": 41,
     "metadata": {},
     "output_type": "execute_result"
    }
   ],
   "source": [
    "#reverse the string\n",
    "s = \"Hello World\"\n",
    "\" \".join(s.split()[::-1])"
   ]
  },
  {
   "cell_type": "markdown",
   "id": "5d1ac873",
   "metadata": {},
   "source": [
    "String Compression (e.g., aaabbc → a3b2c1):\n",
    "python\n",
    "Copy code\n"
   ]
  },
  {
   "cell_type": "code",
   "execution_count": 68,
   "id": "d2e5e759",
   "metadata": {},
   "outputs": [],
   "source": [
    "s=\"aaabbc\"\n",
    "lst=[]\n",
    "count=1\n",
    "for i in range(1,len(s)):\n",
    "    if s[i]==s[i-1]:\n",
    "        count=count+1\n",
    "    else:\n",
    "        lst.extend([s[i-1],str(count)])\n",
    "        count=1\n",
    "lst.extend([s[i],str(count)])\n"
   ]
  },
  {
   "cell_type": "code",
   "execution_count": 69,
   "id": "4866cf05",
   "metadata": {},
   "outputs": [
    {
     "data": {
      "text/plain": [
       "'a3b2c1'"
      ]
     },
     "execution_count": 69,
     "metadata": {},
     "output_type": "execute_result"
    }
   ],
   "source": [
    "\"\".join(lst)"
   ]
  },
  {
   "cell_type": "code",
   "execution_count": 74,
   "id": "7cd21e43",
   "metadata": {},
   "outputs": [],
   "source": [
    "import pandas as pd"
   ]
  },
  {
   "cell_type": "code",
   "execution_count": 80,
   "id": "62ef4909",
   "metadata": {},
   "outputs": [
    {
     "data": {
      "text/html": [
       "<div>\n",
       "<style scoped>\n",
       "    .dataframe tbody tr th:only-of-type {\n",
       "        vertical-align: middle;\n",
       "    }\n",
       "\n",
       "    .dataframe tbody tr th {\n",
       "        vertical-align: top;\n",
       "    }\n",
       "\n",
       "    .dataframe thead th {\n",
       "        text-align: right;\n",
       "    }\n",
       "</style>\n",
       "<table border=\"1\" class=\"dataframe\">\n",
       "  <thead>\n",
       "    <tr style=\"text-align: right;\">\n",
       "      <th></th>\n",
       "      <th>X</th>\n",
       "      <th>Y</th>\n",
       "    </tr>\n",
       "  </thead>\n",
       "  <tbody>\n",
       "    <tr>\n",
       "      <th>0</th>\n",
       "      <td>2</td>\n",
       "      <td>3</td>\n",
       "    </tr>\n",
       "    <tr>\n",
       "      <th>1</th>\n",
       "      <td>3</td>\n",
       "      <td>4</td>\n",
       "    </tr>\n",
       "  </tbody>\n",
       "</table>\n",
       "</div>"
      ],
      "text/plain": [
       "   X  Y\n",
       "0  2  3\n",
       "1  3  4"
      ]
     },
     "execution_count": 80,
     "metadata": {},
     "output_type": "execute_result"
    }
   ],
   "source": [
    "pd.DataFrame(columns=['X','Y'],data=[[2,3],[3,4]])"
   ]
  },
  {
   "cell_type": "code",
   "execution_count": 24,
   "id": "1eb2bb1c",
   "metadata": {},
   "outputs": [
    {
     "name": "stdout",
     "output_type": "stream",
     "text": [
      "8\n"
     ]
    }
   ],
   "source": [
    "#Counting the no. of consonants in a word\n",
    "vow=['a','e','i','o','u']\n",
    "word=\"Programming\"\n",
    "count=0\n",
    "for i in word:\n",
    "    if i not in vow:\n",
    "        count=count+1\n",
    "print(count)"
   ]
  },
  {
   "cell_type": "code",
   "execution_count": 45,
   "id": "f3b2a02d",
   "metadata": {},
   "outputs": [],
   "source": [
    "#write Fibonacci Series\n",
    "n=5\n",
    "fib=[0,1]\n",
    "for i in range(0,n):\n",
    "    fib.append(fib[i]+fib[i+1])"
   ]
  },
  {
   "cell_type": "code",
   "execution_count": 46,
   "id": "34947c95",
   "metadata": {},
   "outputs": [
    {
     "data": {
      "text/plain": [
       "[0, 1, 1, 2, 3, 5, 8]"
      ]
     },
     "execution_count": 46,
     "metadata": {},
     "output_type": "execute_result"
    }
   ],
   "source": [
    "fib"
   ]
  },
  {
   "cell_type": "code",
   "execution_count": 43,
   "id": "a65727b4",
   "metadata": {},
   "outputs": [],
   "source": [
    "fib=[0,1]"
   ]
  },
  {
   "cell_type": "code",
   "execution_count": 39,
   "id": "2be3bf99",
   "metadata": {},
   "outputs": [
    {
     "data": {
      "text/plain": [
       "0"
      ]
     },
     "execution_count": 39,
     "metadata": {},
     "output_type": "execute_result"
    }
   ],
   "source": [
    "fib[-1]"
   ]
  },
  {
   "cell_type": "code",
   "execution_count": 51,
   "id": "3796fcf1",
   "metadata": {},
   "outputs": [],
   "source": [
    "#maximum no. in a list\n",
    "num_list=[i for i in range(2,20,3)]"
   ]
  },
  {
   "cell_type": "code",
   "execution_count": 57,
   "id": "1690d037",
   "metadata": {},
   "outputs": [],
   "source": [
    "num_list.sort(reverse=True)"
   ]
  },
  {
   "cell_type": "code",
   "execution_count": 64,
   "id": "79e83aa5",
   "metadata": {},
   "outputs": [],
   "source": [
    "num_list.append(20)"
   ]
  },
  {
   "cell_type": "code",
   "execution_count": 62,
   "id": "8e350897",
   "metadata": {},
   "outputs": [
    {
     "data": {
      "text/plain": [
       "3.0"
      ]
     },
     "execution_count": 62,
     "metadata": {},
     "output_type": "execute_result"
    }
   ],
   "source": [
    "len(num_list)/2"
   ]
  },
  {
   "cell_type": "code",
   "execution_count": 67,
   "id": "f3d19a7b",
   "metadata": {},
   "outputs": [
    {
     "data": {
      "text/plain": [
       "[17, 14, 11, 8, 5, 2, 20]"
      ]
     },
     "execution_count": 67,
     "metadata": {},
     "output_type": "execute_result"
    }
   ],
   "source": [
    "num_list"
   ]
  },
  {
   "cell_type": "code",
   "execution_count": null,
   "id": "c6baee9a",
   "metadata": {},
   "outputs": [],
   "source": []
  },
  {
   "cell_type": "code",
   "execution_count": 65,
   "id": "c09cc07b",
   "metadata": {},
   "outputs": [
    {
     "data": {
      "text/plain": [
       "8"
      ]
     },
     "execution_count": 65,
     "metadata": {},
     "output_type": "execute_result"
    }
   ],
   "source": [
    "num_list[int(len(num_list)/2)]"
   ]
  },
  {
   "cell_type": "code",
   "execution_count": null,
   "id": "f54b541d",
   "metadata": {},
   "outputs": [],
   "source": []
  }
 ],
 "metadata": {
  "kernelspec": {
   "display_name": "Python 3 (ipykernel)",
   "language": "python",
   "name": "python3"
  },
  "language_info": {
   "codemirror_mode": {
    "name": "ipython",
    "version": 3
   },
   "file_extension": ".py",
   "mimetype": "text/x-python",
   "name": "python",
   "nbconvert_exporter": "python",
   "pygments_lexer": "ipython3",
   "version": "3.10.9"
  }
 },
 "nbformat": 4,
 "nbformat_minor": 5
}
