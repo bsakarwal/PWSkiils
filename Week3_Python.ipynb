{
 "cells": [
  {
   "cell_type": "code",
   "execution_count": 70,
   "id": "2cf57e3e",
   "metadata": {},
   "outputs": [
    {
     "data": {
      "text/html": [
       "<style>\n",
       ".cm-comment {\n",
       "    color: grey !important;\n",
       "}\n",
       "</style>\n"
      ],
      "text/plain": [
       "<IPython.core.display.HTML object>"
      ]
     },
     "metadata": {},
     "output_type": "display_data"
    }
   ],
   "source": [
    "%%html\n",
    "<style>\n",
    ".cm-comment {\n",
    "    color: grey !important;\n",
    "}\n",
    "</style>"
   ]
  },
  {
   "cell_type": "markdown",
   "id": "e0eaa0d7",
   "metadata": {},
   "source": [
    "Q1. Create a python program to sort the given list of tuples based on integer value using a\n",
    "lambda function.\n",
    "[('Sachin Tendulkar', 34357), ('Ricky Ponting', 27483), ('Jack Kallis', 25534), ('Virat Kohli', 24936)]"
   ]
  },
  {
   "cell_type": "code",
   "execution_count": 14,
   "id": "49f8b593",
   "metadata": {},
   "outputs": [],
   "source": [
    "dic={'Sachin Tendulkar': 34357, 'Ricky Ponting': 27483, 'Jack Kallis': 25534, 'Virat Kohli': 24936}"
   ]
  },
  {
   "cell_type": "code",
   "execution_count": 60,
   "id": "dc1b11e5",
   "metadata": {},
   "outputs": [],
   "source": [
    "def get_any(**args):\n",
    "    \n",
    "    return sorted(args.items(),key=lambda x: x[1])"
   ]
  },
  {
   "cell_type": "code",
   "execution_count": 61,
   "id": "ca006eb5",
   "metadata": {},
   "outputs": [
    {
     "data": {
      "text/plain": [
       "[('Virat_Kohli', '24936'),\n",
       " ('Jack_Kallis', '25534'),\n",
       " ('Ricky_Ponting', '27483'),\n",
       " ('Sachin_Tendulkar', '34357')]"
      ]
     },
     "execution_count": 61,
     "metadata": {},
     "output_type": "execute_result"
    }
   ],
   "source": [
    "get_any(Sachin_Tendulkar='34357', Ricky_Ponting='27483', Jack_Kallis='25534', Virat_Kohli='24936')"
   ]
  },
  {
   "cell_type": "code",
   "execution_count": 69,
   "id": "74ebe095",
   "metadata": {},
   "outputs": [
    {
     "data": {
      "text/plain": [
       "[('Virat Kohli', 24936),\n",
       " ('Jack Kallis', 25534),\n",
       " ('Ricky Ponting', 27483),\n",
       " ('Sachin Tendulkar', 34357)]"
      ]
     },
     "execution_count": 69,
     "metadata": {},
     "output_type": "execute_result"
    }
   ],
   "source": [
    "#another way without creating function\n",
    "sorted(dic.items(),key=lambda x:x[1])"
   ]
  },
  {
   "cell_type": "markdown",
   "id": "1e8de88a",
   "metadata": {},
   "source": [
    "Q2. Write a Python Program to find the squares of all the numbers in the given list of integers using\n",
    "lambda and map functions.\n",
    "[1, 2, 3, 4, 5, 6, 7, 8, 9, 10]"
   ]
  },
  {
   "cell_type": "code",
   "execution_count": 71,
   "id": "cf9810ab",
   "metadata": {},
   "outputs": [],
   "source": [
    "lst=[1, 2, 3, 4, 5, 6, 7, 8, 9, 10]"
   ]
  },
  {
   "cell_type": "code",
   "execution_count": 72,
   "id": "b6c10dfd",
   "metadata": {},
   "outputs": [
    {
     "data": {
      "text/plain": [
       "[2, 4, 6, 8, 10, 12, 14, 16, 18, 20]"
      ]
     },
     "execution_count": 72,
     "metadata": {},
     "output_type": "execute_result"
    }
   ],
   "source": [
    "list(map(lambda x:x*2,lst))"
   ]
  },
  {
   "cell_type": "markdown",
   "id": "f40d29cd",
   "metadata": {},
   "source": [
    "Q3. Write a python program to convert the given list of integers into a tuple of strings. Use map and\n",
    "lambda functions\n",
    "Given String: [1, 2, 3, 4, 5, 6, 7, 8, 9, 10]\n",
    "Expected output: ('1', '2', '3', '4', '5', '6', '7', '8', '9', '10')"
   ]
  },
  {
   "cell_type": "code",
   "execution_count": 74,
   "id": "311b38bf",
   "metadata": {},
   "outputs": [
    {
     "data": {
      "text/plain": [
       "('1', '2', '3', '4', '5', '6', '7', '8', '9', '10')"
      ]
     },
     "execution_count": 74,
     "metadata": {},
     "output_type": "execute_result"
    }
   ],
   "source": [
    "tuple(map(lambda x:str(x),lst))"
   ]
  },
  {
   "cell_type": "markdown",
   "id": "61df9fea",
   "metadata": {},
   "source": [
    "Q4. Write a python program using reduce function to compute the product of a list containing numbers\n",
    "from 1 to 25."
   ]
  },
  {
   "cell_type": "code",
   "execution_count": 75,
   "id": "0710f607",
   "metadata": {},
   "outputs": [],
   "source": [
    "from functools import reduce"
   ]
  },
  {
   "cell_type": "code",
   "execution_count": 87,
   "id": "62fab886",
   "metadata": {},
   "outputs": [],
   "source": [
    "prd=[i for i in range(1,26)]"
   ]
  },
  {
   "cell_type": "code",
   "execution_count": 88,
   "id": "9453c3cd",
   "metadata": {},
   "outputs": [
    {
     "data": {
      "text/plain": [
       "15511210043330985984000000"
      ]
     },
     "execution_count": 88,
     "metadata": {},
     "output_type": "execute_result"
    }
   ],
   "source": [
    "reduce(lambda x,y:x*y,prd)"
   ]
  },
  {
   "cell_type": "markdown",
   "id": "b89c38d9",
   "metadata": {},
   "source": [
    "Q5. Write a python program to filter the numbers in a given list that are divisible by 2 and 3 using the\n",
    "filter function.\n",
    "[2, 3, 6, 9, 27, 60, 90, 120, 55, 46]"
   ]
  },
  {
   "cell_type": "code",
   "execution_count": 89,
   "id": "d13ec9be",
   "metadata": {},
   "outputs": [],
   "source": [
    "lst=[2, 3, 6, 9, 27, 60, 90, 120, 55, 46]"
   ]
  },
  {
   "cell_type": "code",
   "execution_count": 92,
   "id": "371a31fe",
   "metadata": {},
   "outputs": [
    {
     "data": {
      "text/plain": [
       "[2, 3, 6, 9, 27, 60, 90, 120, 46]"
      ]
     },
     "execution_count": 92,
     "metadata": {},
     "output_type": "execute_result"
    }
   ],
   "source": [
    "list(filter(lambda x:(x%2==0) or (x%3==0),lst))"
   ]
  },
  {
   "cell_type": "markdown",
   "id": "7cf6ab17",
   "metadata": {},
   "source": [
    "Q6. Write a python program to find palindromes in the given list of strings using lambda and filter\n",
    "function.\n",
    "['python', 'php', 'aba', 'radar', 'level']"
   ]
  },
  {
   "cell_type": "code",
   "execution_count": 110,
   "id": "8b498e82",
   "metadata": {},
   "outputs": [],
   "source": [
    "lst=['python', 'phpa', 'aba', 'radar', 'level'] # changed php to phpa "
   ]
  },
  {
   "cell_type": "code",
   "execution_count": 111,
   "id": "f38af488",
   "metadata": {},
   "outputs": [
    {
     "data": {
      "text/plain": [
       "['aba', 'radar', 'level']"
      ]
     },
     "execution_count": 111,
     "metadata": {},
     "output_type": "execute_result"
    }
   ],
   "source": [
    "list(filter(lambda x: str(x) == str(x)[::-1], lst ))"
   ]
  },
  {
   "cell_type": "code",
   "execution_count": null,
   "id": "22d88fb8",
   "metadata": {},
   "outputs": [],
   "source": []
  },
  {
   "cell_type": "code",
   "execution_count": 112,
   "id": "a799bb37",
   "metadata": {},
   "outputs": [
    {
     "data": {
      "text/plain": [
       "'aphp'"
      ]
     },
     "execution_count": 112,
     "metadata": {},
     "output_type": "execute_result"
    }
   ],
   "source": [
    "list(reversed(lst[0]))\n",
    "lst[1][::-1]"
   ]
  },
  {
   "cell_type": "code",
   "execution_count": null,
   "id": "f3363eaf",
   "metadata": {},
   "outputs": [],
   "source": []
  }
 ],
 "metadata": {
  "kernelspec": {
   "display_name": "Python 3 (ipykernel)",
   "language": "python",
   "name": "python3"
  },
  "language_info": {
   "codemirror_mode": {
    "name": "ipython",
    "version": 3
   },
   "file_extension": ".py",
   "mimetype": "text/x-python",
   "name": "python",
   "nbconvert_exporter": "python",
   "pygments_lexer": "ipython3",
   "version": "3.10.9"
  }
 },
 "nbformat": 4,
 "nbformat_minor": 5
}
