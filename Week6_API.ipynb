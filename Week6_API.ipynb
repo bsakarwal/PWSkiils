{
 "cells": [
  {
   "cell_type": "markdown",
   "id": "64f0464b",
   "metadata": {},
   "source": [
    "Q1. What is an API? Give an example, where an API is used in real life."
   ]
  },
  {
   "cell_type": "markdown",
   "id": "278043fc",
   "metadata": {},
   "source": [
    "API stands for Application Programming Interface. It is a set of rules and protocols that allows different software applications to communicate and interact with each other. APIs define how different software components should interact, specifying the data formats, methods, and protocols to be used for communication.\n",
    "Use cases:\n",
    "social media platforms, payment gateways, weather services, mapping services"
   ]
  },
  {
   "cell_type": "markdown",
   "id": "c1f43fab",
   "metadata": {},
   "source": [
    "Q2. Give advantages and disadvantages of using API.\n"
   ]
  },
  {
   "cell_type": "markdown",
   "id": "4935cc64",
   "metadata": {},
   "source": [
    "Advantages of APIs:\n",
    "    Improved Efficiency: APIs provide ready-to-use functionalities, saving time and effort in development.\n",
    "    Seamless Integration: APIs enable different systems to communicate and work together.\n",
    "    Enhanced User Experience: APIs allow the creation of innovative applications by combining features from multiple platforms.\n",
    "    Scalability and Flexibility: APIs offer scalability and flexibility by easily integrating additional functionalities.\n",
    "\n",
    "Disadvantages of APIs:\n",
    "    Dependency on Providers: Relying on external APIs means being dependent on the availability and stability of the provider's services.\n",
    "    Lack of Control: Updates and changes made to APIs can impact the functionality of applications.\n",
    "    Security and Privacy Risks: Integrating third-party APIs introduces potential security and privacy concerns.\n",
    "    Learning Curve: Working with APIs requires understanding their documentation and implementing them correctly."
   ]
  },
  {
   "cell_type": "markdown",
   "id": "29c158ea",
   "metadata": {},
   "source": [
    "Q3. What is a Web API? Differentiate between API and Web API.\n"
   ]
  },
  {
   "cell_type": "markdown",
   "id": "5aa602e8",
   "metadata": {},
   "source": [
    "Web API\n",
    "\n",
    "Web means http-protocol\n",
    "\n",
    "Application Programming Interface is used to communicate between 2 systems may or may not be implemented in different language.\n",
    "\n",
    "Eg. Google Pay with bank, Amazon, Paytm, google search\n",
    "\n",
    "if we search something on google, google search engine takes keyword we enter and send it to server through we which in return triggers classes and functions and give us the responses stored.\n",
    "\n",
    "Below are the key Differences:\n",
    "    Scope: API is a broader term that encompasses various types of interfaces used for communication between software components. It can include APIs used for different purposes such as system-level APIs, library APIs, and more. Web API specifically refers to APIs that are designed for web-based applications or services.\n",
    "    Communication Protocol: API can use different communication protocols such as HTTP, TCP/IP, or even local inter-process communication. Web API, as the name suggests, uses standard web protocols such as HTTP to enable communication over the web.\n",
    "    Web-based Functionality: Web APIs are typically used to expose specific functionalities or services of a web application or service to other applications or developers. These functionalities are often accessed using URLs and HTTP methods such as GET, POST, PUT, or DELETE.\n",
    "    Accessibility: Web APIs are designed to be accessible over the internet, making them suitable for integration with remote applications or services. They can be consumed by client applications running on different platforms and devices."
   ]
  },
  {
   "cell_type": "markdown",
   "id": "d482fa67",
   "metadata": {},
   "source": [
    "Q4. Explain REST and SOAP Architecture. Mention shortcomings of SOAP.\n"
   ]
  },
  {
   "cell_type": "markdown",
   "id": "3e72f323",
   "metadata": {},
   "source": [
    "Rest and SOAP Architecutre- These define nature of APIs\n",
    "\n",
    "REST- Representational state transfer... HTTP protocol by default.... functions like put, get, post , delete Its known for simplicity, scalability, Flecibility Preferred choice in case for online application\n",
    "\n",
    "SOAP- Simple Object Access Protocol... TCP or SMTP protocol Transfer messages through XML, based on WSDL(Web service description language) known for data security and privacy Preferred choice for offline application"
   ]
  },
  {
   "cell_type": "markdown",
   "id": "aba7153d",
   "metadata": {},
   "source": [
    "Q5. Differentiate between REST and SOAP."
   ]
  },
  {
   "cell_type": "markdown",
   "id": "1e3eb1d1",
   "metadata": {},
   "source": [
    "   Communication Style:\n",
    "        REST: REST is based on a stateless, client-server communication model. Clients send requests to the server, and the server responds with the requested data.\n",
    "        SOAP: SOAP uses a more complex messaging protocol and can support different communication patterns, including request-response, one-way, and request-response with callback.\n",
    "    Protocol:\n",
    "        REST: REST uses simple and widely adopted protocols such as HTTP and HTTPS for communication. It leverages the existing features of these protocols, such as methods (GET, POST, PUT, DELETE) and status codes, for data exchange.\n",
    "        SOAP: SOAP uses its own protocol, which is a standardized XML-based messaging protocol. It typically operates over HTTP, but it can also work with other protocols like SMTP or JMS.\n",
    "    Data Format:\n",
    "        REST: REST supports various data formats for representing the data being transferred, such as JSON, XML, or even plain text. JSON is the most commonly used format due to its simplicity and readability.\n",
    "        SOAP: SOAP strictly uses XML for message formatting. The request and response data are wrapped in XML envelopes, which include headers and body sections.\n",
    "    Flexibility:\n",
    "        REST: REST provides more flexibility in terms of the types of clients and servers that can interact with the web service. It can be used with different programming languages, frameworks, and platforms.\n",
    "        SOAP: SOAP has a more rigid structure and requires specific tooling and libraries to work with. It is commonly associated with enterprise-level applications and is often used with languages like Java or .NET.\n",
    "    Complexity:\n",
    "        REST: REST is considered simpler and easier to understand and implement compared to SOAP. It follows a lightweight and resource-oriented approach, making it more developer-friendly.\n",
    "        SOAP: SOAP is more complex due to its strict protocol and XML-based messaging format. It involves additional overhead in terms of message size and processing.\n",
    "\n",
    "In summary, REST is simpler, uses standard protocols, and supports various data formats, while SOAP is more complex, has its own protocol, and primarily uses XML. REST is often favored for its simplicity, scalability, and ease of integration with different platforms, while SOAP is commonly used in enterprise scenarios where strict messaging and security requirements are essential."
   ]
  },
  {
   "cell_type": "code",
   "execution_count": null,
   "id": "6c146362",
   "metadata": {},
   "outputs": [],
   "source": []
  }
 ],
 "metadata": {
  "kernelspec": {
   "display_name": "Python 3 (ipykernel)",
   "language": "python",
   "name": "python3"
  },
  "language_info": {
   "codemirror_mode": {
    "name": "ipython",
    "version": 3
   },
   "file_extension": ".py",
   "mimetype": "text/x-python",
   "name": "python",
   "nbconvert_exporter": "python",
   "pygments_lexer": "ipython3",
   "version": "3.10.9"
  }
 },
 "nbformat": 4,
 "nbformat_minor": 5
}
