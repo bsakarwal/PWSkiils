{
 "cells": [
  {
   "cell_type": "code",
   "execution_count": 1,
   "id": "17f66b87",
   "metadata": {},
   "outputs": [
    {
     "data": {
      "text/html": [
       "<style>\n",
       ".cm-comment {\n",
       "    color: grey !important;\n",
       "}\n",
       "</style>\n"
      ],
      "text/plain": [
       "<IPython.core.display.HTML object>"
      ]
     },
     "metadata": {},
     "output_type": "display_data"
    }
   ],
   "source": [
    "%%html\n",
    "<style>\n",
    ".cm-comment {\n",
    "    color: grey !important;\n",
    "}\n",
    "</style>"
   ]
  },
  {
   "cell_type": "markdown",
   "id": "7fe2010a",
   "metadata": {},
   "source": [
    "Q1. Which keyword is used to create a function? Create a function to return a list of odd numbers in the\n",
    "range of 1 to 25."
   ]
  },
  {
   "cell_type": "code",
   "execution_count": 125,
   "id": "ed3298aa",
   "metadata": {},
   "outputs": [],
   "source": [
    "def odd(n):\n",
    "    n=[]\n",
    "    for i in range(1,26):\n",
    "        if i%2!=0:\n",
    "            n.append(i)\n",
    "    return n"
   ]
  },
  {
   "cell_type": "code",
   "execution_count": 126,
   "id": "822b8ad2",
   "metadata": {},
   "outputs": [
    {
     "data": {
      "text/plain": [
       "[1, 3, 5, 7, 9, 11, 13, 15, 17, 19, 21, 23, 25]"
      ]
     },
     "execution_count": 126,
     "metadata": {},
     "output_type": "execute_result"
    }
   ],
   "source": [
    "lst=[i for i in range(1,25)]\n",
    "odd(lst)"
   ]
  },
  {
   "cell_type": "markdown",
   "id": "f991891c",
   "metadata": {},
   "source": [
    "Q2. Why *args and **kwargs is used in some functions? Create a function each for *args and **kwargs to\n",
    "demonstrate their use."
   ]
  },
  {
   "cell_type": "code",
   "execution_count": 127,
   "id": "32977832",
   "metadata": {},
   "outputs": [
    {
     "data": {
      "text/plain": [
       "(2, 3, 4, 5)"
      ]
     },
     "execution_count": 127,
     "metadata": {},
     "output_type": "execute_result"
    }
   ],
   "source": [
    "def any_no(*args):          # args is not a keyword we can use any key word\n",
    "    return args\n",
    "\n",
    "any_no(2,3,4,5)"
   ]
  },
  {
   "cell_type": "code",
   "execution_count": 131,
   "id": "4a320285",
   "metadata": {},
   "outputs": [
    {
     "data": {
      "text/plain": [
       "{'Bharat': 'Data Scientist', 'Effort': 'Maximum'}"
      ]
     },
     "execution_count": 131,
     "metadata": {},
     "output_type": "execute_result"
    }
   ],
   "source": [
    "#key value functions with arguments returns dictionary\n",
    "\n",
    "def any_kv(**args): \n",
    "    return args\n",
    "\n",
    "any_kv(Bharat='Data Scientist',Effort='Maximum')"
   ]
  },
  {
   "cell_type": "markdown",
   "id": "2044adde",
   "metadata": {},
   "source": [
    "Q3. What is an iterator in python? Name the method used to initialise the iterator object and the method\n",
    "used for iteration. Use these methods to print the first five elements of the given list [2, 4, 6, 8, 10, 12, 14, 16,\n",
    "18, 20]."
   ]
  },
  {
   "cell_type": "code",
   "execution_count": 135,
   "id": "1554f9a1",
   "metadata": {},
   "outputs": [
    {
     "name": "stdout",
     "output_type": "stream",
     "text": [
      "2\n",
      "4\n",
      "6\n",
      "8\n",
      "10\n"
     ]
    }
   ],
   "source": [
    "my_list = [2, 4, 6, 8, 10, 12, 14, 16, 18, 20]\n",
    "\n",
    "my_iterator = iter(my_list)\n",
    "\n",
    "# Print the first five elements\n",
    "for i in range(5):\n",
    "    i = next(my_iterator)\n",
    "    print(i)"
   ]
  },
  {
   "cell_type": "markdown",
   "id": "9cc8c8a9",
   "metadata": {},
   "source": [
    "Q4. What is a generator function in python? Why yield keyword is used? Give an example of a generator\n",
    "function."
   ]
  },
  {
   "cell_type": "code",
   "execution_count": 136,
   "id": "0118b7f8",
   "metadata": {},
   "outputs": [
    {
     "name": "stdout",
     "output_type": "stream",
     "text": [
      "0\n",
      "1\n",
      "1\n",
      "2\n",
      "3\n",
      "5\n",
      "8\n",
      "13\n",
      "21\n",
      "34\n"
     ]
    }
   ],
   "source": [
    "def gen2(n):\n",
    "    a,b=0,1\n",
    "    for i in range(n):\n",
    "        yield a      # used to avoid memory storage for large no. of arguments if passed\n",
    "        a,b = b, a+b\n",
    "\n",
    "for i in gen2(10):\n",
    "    print(i)"
   ]
  },
  {
   "cell_type": "markdown",
   "id": "9c2d0aed",
   "metadata": {},
   "source": [
    "Q5. Create a generator function for prime numbers less than 1000. Use the next() method to print the\n",
    "first 20 prime numbers."
   ]
  },
  {
   "cell_type": "code",
   "execution_count": null,
   "id": "1ba26c13",
   "metadata": {},
   "outputs": [],
   "source": []
  },
  {
   "cell_type": "code",
   "execution_count": 217,
   "id": "3786da23",
   "metadata": {},
   "outputs": [],
   "source": [
    "def gen_prime(n):\n",
    "    for i in n:\n",
    "        isdivisible=False\n",
    "        for k in range(2,i):\n",
    "            if i%k==0:\n",
    "                isdivisible=True\n",
    "                break\n",
    "        if not isdivisible:\n",
    "            yield i"
   ]
  },
  {
   "cell_type": "code",
   "execution_count": 222,
   "id": "a575b408",
   "metadata": {},
   "outputs": [
    {
     "name": "stdout",
     "output_type": "stream",
     "text": [
      "1\n",
      "2\n",
      "3\n",
      "5\n",
      "7\n",
      "11\n",
      "13\n",
      "17\n",
      "19\n",
      "23\n",
      "29\n",
      "31\n",
      "37\n",
      "41\n",
      "43\n",
      "47\n",
      "53\n",
      "59\n",
      "61\n",
      "67\n"
     ]
    }
   ],
   "source": [
    "n = [i for i in range(1,1000)]\n",
    "prime_gen = gen_prime(n)\n",
    "\n",
    "for _ in range(20):\n",
    "    print(next(prime_gen))"
   ]
  },
  {
   "cell_type": "code",
   "execution_count": 186,
   "id": "017ea129",
   "metadata": {},
   "outputs": [
    {
     "name": "stdout",
     "output_type": "stream",
     "text": [
      "2 is prime\n",
      "3 is prime\n",
      "4 is not prime\n",
      "5 is prime\n",
      "12 is not prime\n",
      "13 is prime\n",
      "14 is not prime\n",
      "15 is not prime\n"
     ]
    }
   ],
   "source": [
    "# Normal Prime function\n",
    "n=[2,3,4,5,12,13,14,15]\n",
    "\n",
    "for i in n:\n",
    "    isdivisiable=False\n",
    "    for k in range(2,i):\n",
    "        if i%k==0:\n",
    "            isdivisiable=True\n",
    "            break\n",
    "    if isdivisiable==False:\n",
    "        print(f\"{i} is prime\")\n",
    "    else:\n",
    "        print(f\"{i} is not prime\")\n",
    "        "
   ]
  },
  {
   "cell_type": "code",
   "execution_count": null,
   "id": "390ce691",
   "metadata": {},
   "outputs": [],
   "source": []
  },
  {
   "cell_type": "code",
   "execution_count": null,
   "id": "6e15ab3e",
   "metadata": {},
   "outputs": [],
   "source": []
  },
  {
   "cell_type": "code",
   "execution_count": null,
   "id": "d413ee3e",
   "metadata": {},
   "outputs": [],
   "source": []
  },
  {
   "cell_type": "code",
   "execution_count": null,
   "id": "3ca9a460",
   "metadata": {},
   "outputs": [],
   "source": []
  },
  {
   "cell_type": "markdown",
   "id": "039f1c82",
   "metadata": {},
   "source": [
    "# Practice"
   ]
  },
  {
   "cell_type": "code",
   "execution_count": null,
   "id": "ba7d540a",
   "metadata": {},
   "outputs": [],
   "source": []
  },
  {
   "cell_type": "code",
   "execution_count": null,
   "id": "db8bc674",
   "metadata": {},
   "outputs": [],
   "source": []
  },
  {
   "cell_type": "code",
   "execution_count": 13,
   "id": "bdc33ba7",
   "metadata": {},
   "outputs": [],
   "source": [
    "def test1():                        # multiple returns\n",
    "    return 1,\"Bharat\",\"Deepti\""
   ]
  },
  {
   "cell_type": "code",
   "execution_count": 14,
   "id": "2d163c08",
   "metadata": {},
   "outputs": [
    {
     "data": {
      "text/plain": [
       "(1, 'Bharat', 'Deepti')"
      ]
     },
     "execution_count": 14,
     "metadata": {},
     "output_type": "execute_result"
    }
   ],
   "source": [
    "test1()"
   ]
  },
  {
   "cell_type": "code",
   "execution_count": 9,
   "id": "71b42f8b",
   "metadata": {},
   "outputs": [
    {
     "data": {
      "text/plain": [
       "'Bharat'"
      ]
     },
     "execution_count": 9,
     "metadata": {},
     "output_type": "execute_result"
    }
   ],
   "source": [
    "test1()[1]"
   ]
  },
  {
   "cell_type": "code",
   "execution_count": 15,
   "id": "c67f181a",
   "metadata": {},
   "outputs": [],
   "source": [
    "a,b,c=test1()"
   ]
  },
  {
   "cell_type": "code",
   "execution_count": 16,
   "id": "b74cef8e",
   "metadata": {},
   "outputs": [
    {
     "data": {
      "text/plain": [
       "1"
      ]
     },
     "execution_count": 16,
     "metadata": {},
     "output_type": "execute_result"
    }
   ],
   "source": [
    "a"
   ]
  },
  {
   "cell_type": "code",
   "execution_count": 17,
   "id": "d815edc5",
   "metadata": {},
   "outputs": [
    {
     "data": {
      "text/plain": [
       "'Bharat'"
      ]
     },
     "execution_count": 17,
     "metadata": {},
     "output_type": "execute_result"
    }
   ],
   "source": [
    "b"
   ]
  },
  {
   "cell_type": "code",
   "execution_count": 18,
   "id": "e00bfc60",
   "metadata": {},
   "outputs": [
    {
     "data": {
      "text/plain": [
       "'Deepti'"
      ]
     },
     "execution_count": 18,
     "metadata": {},
     "output_type": "execute_result"
    }
   ],
   "source": [
    "c"
   ]
  },
  {
   "cell_type": "code",
   "execution_count": 19,
   "id": "929f7f00",
   "metadata": {},
   "outputs": [],
   "source": [
    "def test2(a,b,c):\n",
    "    d=a+b+c\n",
    "    return d"
   ]
  },
  {
   "cell_type": "code",
   "execution_count": 22,
   "id": "b652c9d3",
   "metadata": {},
   "outputs": [
    {
     "data": {
      "text/plain": [
       "'Bharat Sakarwal Data Scientist'"
      ]
     },
     "execution_count": 22,
     "metadata": {},
     "output_type": "execute_result"
    }
   ],
   "source": [
    "test2('Bharat',' Sakarwal',' Data Scientist')"
   ]
  },
  {
   "cell_type": "code",
   "execution_count": 24,
   "id": "8c2388a5",
   "metadata": {},
   "outputs": [
    {
     "data": {
      "text/plain": [
       "'Bharat-03-007'"
      ]
     },
     "execution_count": 24,
     "metadata": {},
     "output_type": "execute_result"
    }
   ],
   "source": [
    "test2('Bharat','-03','-007')"
   ]
  },
  {
   "cell_type": "code",
   "execution_count": 44,
   "id": "a97719ee",
   "metadata": {},
   "outputs": [
    {
     "data": {
      "text/plain": [
       "float"
      ]
     },
     "execution_count": 44,
     "metadata": {},
     "output_type": "execute_result"
    }
   ],
   "source": [
    "ls=[4.5]\n",
    "type(ls[0])"
   ]
  },
  {
   "cell_type": "code",
   "execution_count": 96,
   "id": "31d4ee2d",
   "metadata": {},
   "outputs": [],
   "source": [
    "def test3(l):\n",
    "    n=[]\n",
    "    for i in l:\n",
    "        if (type(i)== int) or (type(i)==float):\n",
    "            n.append(i)\n",
    "        elif (type(i)==list) & (len(i)>2):\n",
    "            for k in i:\n",
    "                if (type(k)==int):\n",
    "                    n.append(k)\n",
    "    return n"
   ]
  },
  {
   "cell_type": "code",
   "execution_count": 97,
   "id": "1d2aa2e3",
   "metadata": {},
   "outputs": [],
   "source": [
    "lst=[1,2,3,4.3,'Bharat','Deepti',[7,8,9,10]]"
   ]
  },
  {
   "cell_type": "code",
   "execution_count": 98,
   "id": "2f259aa0",
   "metadata": {},
   "outputs": [
    {
     "data": {
      "text/plain": [
       "7"
      ]
     },
     "execution_count": 98,
     "metadata": {},
     "output_type": "execute_result"
    }
   ],
   "source": [
    "lst[6][0]"
   ]
  },
  {
   "cell_type": "code",
   "execution_count": 99,
   "id": "fe0d072b",
   "metadata": {},
   "outputs": [
    {
     "data": {
      "text/plain": [
       "[1, 2, 3, 4.3, 7, 8, 9, 10]"
      ]
     },
     "execution_count": 99,
     "metadata": {},
     "output_type": "execute_result"
    }
   ],
   "source": [
    "test3(lst)"
   ]
  },
  {
   "cell_type": "markdown",
   "id": "33e6748c",
   "metadata": {},
   "source": [
    "### pass any no. of arguments"
   ]
  },
  {
   "cell_type": "code",
   "execution_count": 103,
   "id": "93fbc83b",
   "metadata": {},
   "outputs": [],
   "source": [
    "def any_no(*args):          # args is not a keyword we can use any key word\n",
    "    return args"
   ]
  },
  {
   "cell_type": "code",
   "execution_count": 104,
   "id": "21fbde9c",
   "metadata": {},
   "outputs": [
    {
     "data": {
      "text/plain": [
       "(1, 2, 3, 4)"
      ]
     },
     "execution_count": 104,
     "metadata": {},
     "output_type": "execute_result"
    }
   ],
   "source": [
    "any_no(1,2,3,4)"
   ]
  },
  {
   "cell_type": "code",
   "execution_count": 106,
   "id": "346f3f62",
   "metadata": {},
   "outputs": [],
   "source": [
    "def argue(*bharat):\n",
    "    return bharat"
   ]
  },
  {
   "cell_type": "code",
   "execution_count": 107,
   "id": "a9d958bf",
   "metadata": {},
   "outputs": [
    {
     "data": {
      "text/plain": [
       "(1, 2, 3, [3, 4], {'Bharat': '007'})"
      ]
     },
     "execution_count": 107,
     "metadata": {},
     "output_type": "execute_result"
    }
   ],
   "source": [
    "argue(1,2,3,[3,4],{'Bharat':'007'})"
   ]
  },
  {
   "cell_type": "code",
   "execution_count": 117,
   "id": "1e661666",
   "metadata": {},
   "outputs": [],
   "source": [
    "def multi(*args,n):\n",
    "    return n,args"
   ]
  },
  {
   "cell_type": "code",
   "execution_count": 119,
   "id": "0ee632ed",
   "metadata": {},
   "outputs": [
    {
     "data": {
      "text/plain": [
       "(4, ([34, 5],))"
      ]
     },
     "execution_count": 119,
     "metadata": {},
     "output_type": "execute_result"
    }
   ],
   "source": [
    "multi([34,5],n=4) # have to explicitly specify n is 4"
   ]
  },
  {
   "cell_type": "code",
   "execution_count": 127,
   "id": "2add0517",
   "metadata": {},
   "outputs": [],
   "source": [
    "def test3(*l):          #similar to * args\n",
    "    n=[]\n",
    "    for i in l:\n",
    "        if (type(i)== int) or (type(i)==float):\n",
    "            n.append(i)\n",
    "        elif (type(i)==list) & (len(i)>2):\n",
    "            for k in i:\n",
    "                if (type(k)==int):\n",
    "                    n.append(k)\n",
    "    return n"
   ]
  },
  {
   "cell_type": "code",
   "execution_count": 128,
   "id": "e6658ae9",
   "metadata": {},
   "outputs": [],
   "source": [
    "lst=[1,2,3,4.3,'Bharat','Deepti',[7,8,9,10]]"
   ]
  },
  {
   "cell_type": "code",
   "execution_count": 129,
   "id": "6477461b",
   "metadata": {},
   "outputs": [
    {
     "data": {
      "text/plain": [
       "[1, 2, 3]"
      ]
     },
     "execution_count": 129,
     "metadata": {},
     "output_type": "execute_result"
    }
   ],
   "source": [
    "test3(lst)"
   ]
  },
  {
   "cell_type": "code",
   "execution_count": 130,
   "id": "fc032df0",
   "metadata": {},
   "outputs": [
    {
     "data": {
      "text/plain": [
       "[1, 2, 3, 4.3, 7, 8, 9, 10]"
      ]
     },
     "execution_count": 130,
     "metadata": {},
     "output_type": "execute_result"
    }
   ],
   "source": [
    "test3(1,2,3,4.3,'Bharat','Deepti',[7,8,9,10])"
   ]
  },
  {
   "cell_type": "code",
   "execution_count": 131,
   "id": "a30fdeb0",
   "metadata": {},
   "outputs": [],
   "source": [
    "#key value functions with arguments\n",
    "\n",
    "def any_kv(**args): \n",
    "    return args"
   ]
  },
  {
   "cell_type": "code",
   "execution_count": 139,
   "id": "f5881507",
   "metadata": {},
   "outputs": [
    {
     "data": {
      "text/plain": [
       "{'a': '007', 'Key1': 'Value1'}"
      ]
     },
     "execution_count": 139,
     "metadata": {},
     "output_type": "execute_result"
    }
   ],
   "source": [
    "any_kv(a='007',Key1='Value1')   # Returns Dictionary"
   ]
  },
  {
   "cell_type": "code",
   "execution_count": 70,
   "id": "378d9999",
   "metadata": {},
   "outputs": [],
   "source": [
    "def gen(n):\n",
    "    fib=[0,1]\n",
    "    for i in range(n):\n",
    "        j=fib[i]+fib[i+1]\n",
    "        fib.append(j)\n",
    "    return fib"
   ]
  },
  {
   "cell_type": "code",
   "execution_count": 71,
   "id": "96ef6042",
   "metadata": {},
   "outputs": [
    {
     "data": {
      "text/plain": [
       "[0, 1, 1, 2, 3, 5, 8]"
      ]
     },
     "execution_count": 71,
     "metadata": {},
     "output_type": "execute_result"
    }
   ],
   "source": [
    "gen(5)"
   ]
  },
  {
   "cell_type": "code",
   "execution_count": 63,
   "id": "11fbc6bd",
   "metadata": {},
   "outputs": [],
   "source": [
    "def gen2(n):\n",
    "    a,b=0,1\n",
    "    for i in range(n):\n",
    "        yield a\n",
    "        a,b = b, a+b\n",
    "\n",
    "for i in gen2(10):\n",
    "    print(i)"
   ]
  },
  {
   "cell_type": "code",
   "execution_count": 64,
   "id": "3837871b",
   "metadata": {},
   "outputs": [
    {
     "data": {
      "text/plain": [
       "<generator object gen2 at 0x000001C84DF8DBD0>"
      ]
     },
     "execution_count": 64,
     "metadata": {},
     "output_type": "execute_result"
    }
   ],
   "source": [
    "gen2(5)"
   ]
  },
  {
   "cell_type": "code",
   "execution_count": 65,
   "id": "837015f6",
   "metadata": {},
   "outputs": [
    {
     "name": "stdout",
     "output_type": "stream",
     "text": [
      "0\n",
      "1\n",
      "1\n",
      "2\n",
      "3\n",
      "5\n",
      "8\n",
      "13\n",
      "21\n",
      "34\n"
     ]
    }
   ],
   "source": [
    "for i in gen2(10):\n",
    "    print(i)"
   ]
  },
  {
   "cell_type": "code",
   "execution_count": 75,
   "id": "8ee74634",
   "metadata": {},
   "outputs": [],
   "source": [
    "a=lambda x,y:x+y"
   ]
  },
  {
   "cell_type": "code",
   "execution_count": 99,
   "id": "71ad4c1d",
   "metadata": {},
   "outputs": [],
   "source": [
    "l=[1,2,3,4,5]\n",
    "l2=[6,7,8,9,10]\n",
    "l3=[11,22,33,45,10]"
   ]
  },
  {
   "cell_type": "code",
   "execution_count": 88,
   "id": "00bd65ca",
   "metadata": {},
   "outputs": [
    {
     "data": {
      "text/plain": [
       "[7, 9, 11, 13, 15]"
      ]
     },
     "execution_count": 88,
     "metadata": {},
     "output_type": "execute_result"
    }
   ],
   "source": [
    "list(map(lambda x,y:x+y,l,l2))"
   ]
  },
  {
   "cell_type": "code",
   "execution_count": 89,
   "id": "dfe509f9",
   "metadata": {},
   "outputs": [
    {
     "data": {
      "text/plain": [
       "[7, 9, 11, 13, 15]"
      ]
     },
     "execution_count": 89,
     "metadata": {},
     "output_type": "execute_result"
    }
   ],
   "source": [
    "list(map(a,l,l2))"
   ]
  },
  {
   "cell_type": "code",
   "execution_count": 92,
   "id": "c4edc30c",
   "metadata": {},
   "outputs": [
    {
     "data": {
      "text/plain": [
       "22"
      ]
     },
     "execution_count": 92,
     "metadata": {},
     "output_type": "execute_result"
    }
   ],
   "source": [
    "a(10,12)"
   ]
  },
  {
   "cell_type": "code",
   "execution_count": 93,
   "id": "02788306",
   "metadata": {},
   "outputs": [
    {
     "data": {
      "text/plain": [
       "['1', '2', '3', '4', '5']"
      ]
     },
     "execution_count": 93,
     "metadata": {},
     "output_type": "execute_result"
    }
   ],
   "source": [
    "list(map(lambda x:str(x),l)) # converts to string"
   ]
  },
  {
   "cell_type": "code",
   "execution_count": 95,
   "id": "cfdd31b9",
   "metadata": {},
   "outputs": [],
   "source": [
    "from functools import reduce"
   ]
  },
  {
   "cell_type": "code",
   "execution_count": 103,
   "id": "426c72b4",
   "metadata": {},
   "outputs": [
    {
     "data": {
      "text/plain": [
       "15"
      ]
     },
     "execution_count": 103,
     "metadata": {},
     "output_type": "execute_result"
    }
   ],
   "source": [
    "reduce(lambda x,y:x+y,l)  # in reduce as well we can pass external function also, ideally takes 2 argument"
   ]
  },
  {
   "cell_type": "code",
   "execution_count": 106,
   "id": "e992fc60",
   "metadata": {},
   "outputs": [
    {
     "data": {
      "text/plain": [
       "5"
      ]
     },
     "execution_count": 106,
     "metadata": {},
     "output_type": "execute_result"
    }
   ],
   "source": [
    "reduce(lambda x,y:x if x>y else y,l) # maximum value"
   ]
  },
  {
   "cell_type": "code",
   "execution_count": 107,
   "id": "7a5c83e1",
   "metadata": {},
   "outputs": [
    {
     "data": {
      "text/plain": [
       "1"
      ]
     },
     "execution_count": 107,
     "metadata": {},
     "output_type": "execute_result"
    }
   ],
   "source": [
    "reduce(lambda x,y:x if x<y else y,l) #min value"
   ]
  },
  {
   "cell_type": "code",
   "execution_count": 117,
   "id": "eaaf21ba",
   "metadata": {},
   "outputs": [
    {
     "data": {
      "text/plain": [
       "[3, 4, 5]"
      ]
     },
     "execution_count": 117,
     "metadata": {},
     "output_type": "execute_result"
    }
   ],
   "source": [
    "list(filter(lambda x:x >2,l))   # filter values on basis of given condition "
   ]
  },
  {
   "cell_type": "code",
   "execution_count": null,
   "id": "3894bd24",
   "metadata": {},
   "outputs": [],
   "source": []
  }
 ],
 "metadata": {
  "kernelspec": {
   "display_name": "Python 3 (ipykernel)",
   "language": "python",
   "name": "python3"
  },
  "language_info": {
   "codemirror_mode": {
    "name": "ipython",
    "version": 3
   },
   "file_extension": ".py",
   "mimetype": "text/x-python",
   "name": "python",
   "nbconvert_exporter": "python",
   "pygments_lexer": "ipython3",
   "version": "3.10.9"
  }
 },
 "nbformat": 4,
 "nbformat_minor": 5
}
