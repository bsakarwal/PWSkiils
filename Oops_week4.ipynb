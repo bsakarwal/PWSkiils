{
 "cells": [
  {
   "cell_type": "code",
   "execution_count": 1,
   "id": "d4dcdea1",
   "metadata": {},
   "outputs": [
    {
     "data": {
      "text/html": [
       "<style>\n",
       ".cm-comment {\n",
       "    color: grey !important;\n",
       "}\n",
       "</style>\n"
      ],
      "text/plain": [
       "<IPython.core.display.HTML object>"
      ]
     },
     "metadata": {},
     "output_type": "display_data"
    }
   ],
   "source": [
    "%%html\n",
    "<style>\n",
    ".cm-comment {\n",
    "    color: grey !important;\n",
    "}\n",
    "</style>"
   ]
  },
  {
   "cell_type": "markdown",
   "id": "8e3dd755",
   "metadata": {},
   "source": [
    "Q1. Explain Class and Object with respect to Object-Oriented Programming. Give a suitable example."
   ]
  },
  {
   "cell_type": "markdown",
   "id": "589a0d2a",
   "metadata": {},
   "source": [
    "We define class for purpose of resuability and categorization of our code w.r.t different areas involved in project eg. Front end,back end and DB connectors will have different classes.\n",
    "Object are created to access class variables and functions inside them."
   ]
  },
  {
   "cell_type": "code",
   "execution_count": 206,
   "id": "6ce9df8c",
   "metadata": {},
   "outputs": [],
   "source": [
    "class pwskills:\n",
    "    def welcome(k):                   # k is pointer or reference given to bind the function to class so that while calling function, class will know\n",
    "        print(\"Welcome to class pwskills\")"
   ]
  },
  {
   "cell_type": "code",
   "execution_count": 207,
   "id": "657b556f",
   "metadata": {},
   "outputs": [],
   "source": [
    "pw1=pwskills()"
   ]
  },
  {
   "cell_type": "code",
   "execution_count": 208,
   "id": "ab7cf34c",
   "metadata": {},
   "outputs": [
    {
     "name": "stdout",
     "output_type": "stream",
     "text": [
      "Welcome to class pwskills\n"
     ]
    }
   ],
   "source": [
    "pw1.welcome()"
   ]
  },
  {
   "cell_type": "markdown",
   "id": "a3653f7b",
   "metadata": {},
   "source": [
    "Q2. Name the four pillars of OOPs."
   ]
  },
  {
   "cell_type": "markdown",
   "id": "8155ddd6",
   "metadata": {},
   "source": [
    "Abstraction, Incapsulation, Polymorphism and Inheritance"
   ]
  },
  {
   "cell_type": "markdown",
   "id": "d995443e",
   "metadata": {},
   "source": [
    "Q3. Explain why the __init__() function is used. Give a suitable example."
   ]
  },
  {
   "cell_type": "code",
   "execution_count": 210,
   "id": "8d0f7179",
   "metadata": {},
   "outputs": [],
   "source": [
    "class pwskills2():\n",
    "    def __init__(self,phone_number,email_id,student_id):    #__init__ is a constructor of class used to pass data, self is a pointer or reference to the class, any other keyword also can be used for reference\n",
    "        self.phone_number=phone_number\n",
    "        self.email_id=email_id\n",
    "        self.student_id=student_id\n",
    "    \n",
    "    def student_details(self):\n",
    "        return self.phone_number,self.email_id,self.student_id"
   ]
  },
  {
   "cell_type": "markdown",
   "id": "32bb5365",
   "metadata": {},
   "source": [
    "Q4. Why self is used in OOPs?"
   ]
  },
  {
   "cell_type": "markdown",
   "id": "d14ad111",
   "metadata": {},
   "source": [
    "self is a pointer or reference to the class, any other keyword also can be used for reference"
   ]
  },
  {
   "cell_type": "markdown",
   "id": "16d91b09",
   "metadata": {},
   "source": [
    "Q5. What is inheritance? Give an example for each type of inheritance."
   ]
  },
  {
   "cell_type": "markdown",
   "id": "ad4a7577",
   "metadata": {},
   "source": [
    "Its a way of creating parent class that can be used for any no. of child classes and parent functions can be called through child class."
   ]
  },
  {
   "cell_type": "code",
   "execution_count": 212,
   "id": "706c24c8",
   "metadata": {},
   "outputs": [],
   "source": [
    "class parent():\n",
    "    def test_parent(self):\n",
    "        print(\"This is my parent class\")\n",
    "\n",
    "class child(parent):\n",
    "    def test_child(self):\n",
    "        print(\"This is my child class\")\n",
    "\n",
    "obj_child=child()\n",
    "\n"
   ]
  },
  {
   "cell_type": "code",
   "execution_count": 213,
   "id": "6be5958a",
   "metadata": {},
   "outputs": [
    {
     "name": "stdout",
     "output_type": "stream",
     "text": [
      "This is my parent class\n"
     ]
    }
   ],
   "source": [
    "obj_child.test_parent()"
   ]
  },
  {
   "cell_type": "code",
   "execution_count": 214,
   "id": "8a88d8d9",
   "metadata": {},
   "outputs": [
    {
     "name": "stdout",
     "output_type": "stream",
     "text": [
      "This is my child class\n"
     ]
    }
   ],
   "source": [
    "obj_child.test_child()"
   ]
  },
  {
   "cell_type": "code",
   "execution_count": null,
   "id": "d0af7504",
   "metadata": {},
   "outputs": [],
   "source": []
  },
  {
   "cell_type": "code",
   "execution_count": null,
   "id": "a810d3c3",
   "metadata": {},
   "outputs": [],
   "source": []
  },
  {
   "cell_type": "code",
   "execution_count": null,
   "id": "48fd8f19",
   "metadata": {},
   "outputs": [],
   "source": []
  },
  {
   "cell_type": "code",
   "execution_count": 209,
   "id": "6153c24f",
   "metadata": {},
   "outputs": [],
   "source": [
    "class test:\n",
    "    pass"
   ]
  },
  {
   "cell_type": "code",
   "execution_count": null,
   "id": "89397faf",
   "metadata": {},
   "outputs": [],
   "source": [
    "test()"
   ]
  },
  {
   "cell_type": "code",
   "execution_count": 5,
   "id": "4166dcc6",
   "metadata": {},
   "outputs": [],
   "source": [
    "a=test()  #"
   ]
  },
  {
   "cell_type": "code",
   "execution_count": 6,
   "id": "6818e5bb",
   "metadata": {},
   "outputs": [
    {
     "data": {
      "text/plain": [
       "__main__.test"
      ]
     },
     "execution_count": 6,
     "metadata": {},
     "output_type": "execute_result"
    }
   ],
   "source": [
    "type(a)  # a is object,variable or instance of class test "
   ]
  },
  {
   "cell_type": "code",
   "execution_count": 12,
   "id": "080647e3",
   "metadata": {},
   "outputs": [],
   "source": [
    "class pwskills:\n",
    "    def welcome(k):                   # k is pointer or reference given to bind the function to class so that while calling function, class will know\n",
    "        print(\"Welcome to class pwskills\")"
   ]
  },
  {
   "cell_type": "code",
   "execution_count": 13,
   "id": "04e7353a",
   "metadata": {},
   "outputs": [],
   "source": [
    "Bharat=pwskills() #assigning Bharat as object of pwskills class"
   ]
  },
  {
   "cell_type": "code",
   "execution_count": 14,
   "id": "23d83353",
   "metadata": {},
   "outputs": [
    {
     "name": "stdout",
     "output_type": "stream",
     "text": [
      "Welcome to class pwskills\n"
     ]
    }
   ],
   "source": [
    "Bharat.welcome()"
   ]
  },
  {
   "cell_type": "code",
   "execution_count": 17,
   "id": "467fde62",
   "metadata": {},
   "outputs": [],
   "source": [
    "Sohan=pwskills()"
   ]
  },
  {
   "cell_type": "code",
   "execution_count": 18,
   "id": "2ce60148",
   "metadata": {},
   "outputs": [
    {
     "name": "stdout",
     "output_type": "stream",
     "text": [
      "Welcome to class pwskills\n"
     ]
    }
   ],
   "source": [
    "Sohan.welcome()"
   ]
  },
  {
   "cell_type": "code",
   "execution_count": 34,
   "id": "dfe6c0fb",
   "metadata": {},
   "outputs": [],
   "source": [
    "class pwskills2():\n",
    "    def __init__(self,phone_number,email_id,student_id):    #__init__ is a constructor of class used to pass data, self is a pointer or reference to the class, any other keyword also can be used for reference\n",
    "        self.phone_number=phone_number\n",
    "        self.email_id=email_id\n",
    "        self.student_id=student_id\n",
    "    \n",
    "    def student_details(self):\n",
    "        return self.phone_number,self.email_id,self.student_id"
   ]
  },
  {
   "cell_type": "code",
   "execution_count": 35,
   "id": "27cd7528",
   "metadata": {},
   "outputs": [],
   "source": [
    "Rohan=pwskills2(758363,\"rohan@gmail.com\",300)"
   ]
  },
  {
   "cell_type": "code",
   "execution_count": 31,
   "id": "f04189ec",
   "metadata": {},
   "outputs": [
    {
     "data": {
      "text/plain": [
       "'rohan@gmail.com'"
      ]
     },
     "execution_count": 31,
     "metadata": {},
     "output_type": "execute_result"
    }
   ],
   "source": [
    "Rohan.email_id"
   ]
  },
  {
   "cell_type": "code",
   "execution_count": 38,
   "id": "340a7551",
   "metadata": {},
   "outputs": [
    {
     "name": "stdout",
     "output_type": "stream",
     "text": [
      "Rohan phn no. is 758363, Email id is rohan@gmail.com and Student ID is 300\n"
     ]
    }
   ],
   "source": [
    "print(f\"Rohan phn no. is {Rohan.phone_number}, Email id is {Rohan.email_id} and Student ID is {Rohan.student_id}\")"
   ]
  },
  {
   "cell_type": "code",
   "execution_count": 36,
   "id": "674abdfe",
   "metadata": {},
   "outputs": [
    {
     "data": {
      "text/plain": [
       "(758363, 'rohan@gmail.com', 300)"
      ]
     },
     "execution_count": 36,
     "metadata": {},
     "output_type": "execute_result"
    }
   ],
   "source": [
    "Rohan.student_details()"
   ]
  },
  {
   "cell_type": "code",
   "execution_count": 51,
   "id": "04ed8905",
   "metadata": {},
   "outputs": [],
   "source": [
    "class pwskills3():\n",
    "    def __init__(self,phone_number,email,age):    # inside a class we have to use pointer to access variable\n",
    "        self.phn_no=phone_number\n",
    "        self.email=email\n",
    "        self.age=age\n",
    "        \n",
    "    def student_details(self):\n",
    "        return self.phn_no,self.email,self.age"
   ]
  },
  {
   "cell_type": "code",
   "execution_count": 53,
   "id": "c32f18ca",
   "metadata": {},
   "outputs": [],
   "source": [
    "Monika=pwskills3(9348758,\"Monika@gmail.com\",26)"
   ]
  },
  {
   "cell_type": "code",
   "execution_count": 48,
   "id": "a88fa0ee",
   "metadata": {},
   "outputs": [
    {
     "data": {
      "text/plain": [
       "9348758"
      ]
     },
     "execution_count": 48,
     "metadata": {},
     "output_type": "execute_result"
    }
   ],
   "source": [
    "Monika.phn_no                                    #outside the class we can directly call variable"
   ]
  },
  {
   "cell_type": "code",
   "execution_count": 49,
   "id": "e29de988",
   "metadata": {},
   "outputs": [
    {
     "data": {
      "text/plain": [
       "'Monika@gmail.com'"
      ]
     },
     "execution_count": 49,
     "metadata": {},
     "output_type": "execute_result"
    }
   ],
   "source": [
    "Monika.email"
   ]
  },
  {
   "cell_type": "code",
   "execution_count": 54,
   "id": "a141110a",
   "metadata": {},
   "outputs": [
    {
     "data": {
      "text/plain": [
       "(9348758, 'Monika@gmail.com', 26)"
      ]
     },
     "execution_count": 54,
     "metadata": {},
     "output_type": "execute_result"
    }
   ],
   "source": [
    "Monika.student_details()"
   ]
  },
  {
   "cell_type": "markdown",
   "id": "7a2348ce",
   "metadata": {},
   "source": [
    "### Ploymorphism"
   ]
  },
  {
   "cell_type": "code",
   "execution_count": 58,
   "id": "cabcb4e9",
   "metadata": {},
   "outputs": [],
   "source": [
    "class data_science():\n",
    "    def syllabus(self):\n",
    "        print(\"Data Science Course\")"
   ]
  },
  {
   "cell_type": "code",
   "execution_count": 59,
   "id": "d5567f4a",
   "metadata": {},
   "outputs": [],
   "source": [
    "class web_dev():\n",
    "    def syllabus(self):\n",
    "        print(\"Web Dev Course\")"
   ]
  },
  {
   "cell_type": "code",
   "execution_count": 67,
   "id": "664a55ca",
   "metadata": {},
   "outputs": [],
   "source": [
    "def class_parser(obj):\n",
    "    for i in obj:\n",
    "        i.syllabus()"
   ]
  },
  {
   "cell_type": "code",
   "execution_count": 68,
   "id": "645629c4",
   "metadata": {},
   "outputs": [],
   "source": [
    "obj_data_science=data_science()"
   ]
  },
  {
   "cell_type": "code",
   "execution_count": 69,
   "id": "2c1dde58",
   "metadata": {},
   "outputs": [],
   "source": [
    "obj_webdev=web_dev()"
   ]
  },
  {
   "cell_type": "code",
   "execution_count": 70,
   "id": "d27588f4",
   "metadata": {},
   "outputs": [],
   "source": [
    "join_obj=[obj_data_science,obj_webdev]"
   ]
  },
  {
   "cell_type": "code",
   "execution_count": 71,
   "id": "ddb2a234",
   "metadata": {},
   "outputs": [
    {
     "name": "stdout",
     "output_type": "stream",
     "text": [
      "Data Science Course\n",
      "Web Dev Course\n"
     ]
    }
   ],
   "source": [
    "class_parser(join_obj)"
   ]
  },
  {
   "cell_type": "markdown",
   "id": "39909fb0",
   "metadata": {},
   "source": [
    "## Encapsulation"
   ]
  },
  {
   "cell_type": "code",
   "execution_count": 39,
   "id": "379cc215",
   "metadata": {},
   "outputs": [],
   "source": [
    "class encaps():\n",
    "    def __init__(self,year,make,model,speed):\n",
    "        self.__year=year\n",
    "        self.__make=make\n",
    "        self.__model=model\n",
    "        self.__speed=0\n",
    "    \n",
    "    def set_speed(self,speed):\n",
    "        self.__speed=0 if speed<0 else speed\n",
    "        \n",
    "    def get_speed(self):    \n",
    "        return self.__speed\n",
    "    \n",
    "   # def get_speed"
   ]
  },
  {
   "cell_type": "code",
   "execution_count": 40,
   "id": "52a82be8",
   "metadata": {},
   "outputs": [],
   "source": [
    "obj_car=encaps(2022,\"Maruti\",'Sedan',80)"
   ]
  },
  {
   "cell_type": "code",
   "execution_count": 15,
   "id": "ca296db5",
   "metadata": {},
   "outputs": [
    {
     "ename": "AttributeError",
     "evalue": "'encaps' object has no attribute '__year'",
     "output_type": "error",
     "traceback": [
      "\u001b[1;31m---------------------------------------------------------------------------\u001b[0m",
      "\u001b[1;31mAttributeError\u001b[0m                            Traceback (most recent call last)",
      "Cell \u001b[1;32mIn[15], line 1\u001b[0m\n\u001b[1;32m----> 1\u001b[0m \u001b[43mobj_car\u001b[49m\u001b[38;5;241;43m.\u001b[39;49m\u001b[43m__year\u001b[49m\n",
      "\u001b[1;31mAttributeError\u001b[0m: 'encaps' object has no attribute '__year'"
     ]
    }
   ],
   "source": [
    "obj_car.__year                            # private variable cannot be accessed"
   ]
  },
  {
   "cell_type": "code",
   "execution_count": 23,
   "id": "97935528",
   "metadata": {},
   "outputs": [
    {
     "data": {
      "text/plain": [
       "2022"
      ]
     },
     "execution_count": 23,
     "metadata": {},
     "output_type": "execute_result"
    }
   ],
   "source": [
    "obj_car._encaps__year         #if i know my class then only i can access"
   ]
  },
  {
   "cell_type": "code",
   "execution_count": 24,
   "id": "66f8ec64",
   "metadata": {},
   "outputs": [],
   "source": [
    "obj_car._encaps__year=2023   # can modify this way"
   ]
  },
  {
   "cell_type": "code",
   "execution_count": 25,
   "id": "9bbea0aa",
   "metadata": {},
   "outputs": [
    {
     "data": {
      "text/plain": [
       "2023"
      ]
     },
     "execution_count": 25,
     "metadata": {},
     "output_type": "execute_result"
    }
   ],
   "source": [
    "obj_car._encaps__year"
   ]
  },
  {
   "cell_type": "code",
   "execution_count": 26,
   "id": "9e651985",
   "metadata": {},
   "outputs": [
    {
     "data": {
      "text/plain": [
       "0"
      ]
     },
     "execution_count": 26,
     "metadata": {},
     "output_type": "execute_result"
    }
   ],
   "source": [
    "obj_car._encaps__speed"
   ]
  },
  {
   "cell_type": "code",
   "execution_count": 42,
   "id": "64cb53dc",
   "metadata": {},
   "outputs": [],
   "source": [
    "#now if i set speed\n",
    "\n",
    "obj_car.set_speed(90)"
   ]
  },
  {
   "cell_type": "code",
   "execution_count": 35,
   "id": "a31cf9ae",
   "metadata": {},
   "outputs": [
    {
     "data": {
      "text/plain": [
       "90"
      ]
     },
     "execution_count": 35,
     "metadata": {},
     "output_type": "execute_result"
    }
   ],
   "source": [
    "obj_car._encaps__speed   # through class we can call this"
   ]
  },
  {
   "cell_type": "code",
   "execution_count": 43,
   "id": "ba2b44eb",
   "metadata": {},
   "outputs": [
    {
     "data": {
      "text/plain": [
       "90"
      ]
     },
     "execution_count": 43,
     "metadata": {},
     "output_type": "execute_result"
    }
   ],
   "source": [
    "obj_car.get_speed()"
   ]
  },
  {
   "cell_type": "code",
   "execution_count": 61,
   "id": "51da9d3e",
   "metadata": {},
   "outputs": [],
   "source": [
    "class bank_account():\n",
    "    def __init__(self,balance):\n",
    "        self.__balance=balance\n",
    "    \n",
    "    def deposit(self,amount):\n",
    "        if amount>0:\n",
    "            self.__balance=self.__balance+amount\n",
    "    \n",
    "    def withdraw(self,withdraw):\n",
    "        if self.__balance>=withdraw:\n",
    "            self.__balance=self.__balance-withdraw\n",
    "            return True\n",
    "        else:\n",
    "            False\n",
    "            \n",
    "    def get_balance(self):\n",
    "        return self.__balance"
   ]
  },
  {
   "cell_type": "code",
   "execution_count": 63,
   "id": "74121a1e",
   "metadata": {},
   "outputs": [],
   "source": [
    "obj_bank_account=bank_account(20000000)"
   ]
  },
  {
   "cell_type": "code",
   "execution_count": 64,
   "id": "871c348c",
   "metadata": {},
   "outputs": [
    {
     "data": {
      "text/plain": [
       "20000000"
      ]
     },
     "execution_count": 64,
     "metadata": {},
     "output_type": "execute_result"
    }
   ],
   "source": [
    "obj_bank_account._bank_account__balance   # if i know my class and private variable only then i can access/modify this way"
   ]
  },
  {
   "cell_type": "code",
   "execution_count": 65,
   "id": "3949d038",
   "metadata": {},
   "outputs": [],
   "source": [
    "obj_bank_account.deposit(20000000)"
   ]
  },
  {
   "cell_type": "code",
   "execution_count": 66,
   "id": "349460a0",
   "metadata": {},
   "outputs": [
    {
     "data": {
      "text/plain": [
       "40000000"
      ]
     },
     "execution_count": 66,
     "metadata": {},
     "output_type": "execute_result"
    }
   ],
   "source": [
    "obj_bank_account.get_balance()"
   ]
  },
  {
   "cell_type": "code",
   "execution_count": 67,
   "id": "0694b3be",
   "metadata": {},
   "outputs": [
    {
     "data": {
      "text/plain": [
       "True"
      ]
     },
     "execution_count": 67,
     "metadata": {},
     "output_type": "execute_result"
    }
   ],
   "source": [
    "obj_bank_account.withdraw(10000000)"
   ]
  },
  {
   "cell_type": "code",
   "execution_count": 68,
   "id": "27339c82",
   "metadata": {},
   "outputs": [
    {
     "data": {
      "text/plain": [
       "30000000"
      ]
     },
     "execution_count": 68,
     "metadata": {},
     "output_type": "execute_result"
    }
   ],
   "source": [
    "obj_bank_account.get_balance()"
   ]
  },
  {
   "cell_type": "markdown",
   "id": "b54a4c0a",
   "metadata": {},
   "source": [
    "# Inheritance"
   ]
  },
  {
   "cell_type": "code",
   "execution_count": 86,
   "id": "e223731d",
   "metadata": {},
   "outputs": [],
   "source": [
    "class parent():\n",
    "    def test_parent(self):\n",
    "        print(\"This is my parent class\")"
   ]
  },
  {
   "cell_type": "code",
   "execution_count": 87,
   "id": "35290663",
   "metadata": {},
   "outputs": [],
   "source": [
    "class child(parent):\n",
    "    def test_child(self):\n",
    "        print(\"This is my child class\")"
   ]
  },
  {
   "cell_type": "code",
   "execution_count": 88,
   "id": "0dd161fb",
   "metadata": {},
   "outputs": [],
   "source": [
    "obj_child=child()"
   ]
  },
  {
   "cell_type": "code",
   "execution_count": 89,
   "id": "85b1a87e",
   "metadata": {},
   "outputs": [
    {
     "name": "stdout",
     "output_type": "stream",
     "text": [
      "This is my parent class\n"
     ]
    }
   ],
   "source": [
    "obj_child.test_parent()"
   ]
  },
  {
   "cell_type": "code",
   "execution_count": 106,
   "id": "d1200f8f",
   "metadata": {},
   "outputs": [],
   "source": [
    "class class1():\n",
    "    def test_class1(self):\n",
    "        print(\"This is my class 1\")"
   ]
  },
  {
   "cell_type": "code",
   "execution_count": 107,
   "id": "8b78d815",
   "metadata": {},
   "outputs": [],
   "source": [
    "class class2(class1):\n",
    "    def test_class2(self):\n",
    "        print(\"This is my class 2\")"
   ]
  },
  {
   "cell_type": "code",
   "execution_count": 108,
   "id": "f5a38ac4",
   "metadata": {},
   "outputs": [],
   "source": [
    "class class3(class2):\n",
    "    def test_class3(self):\n",
    "        print(\"This is my class 3\")"
   ]
  },
  {
   "cell_type": "code",
   "execution_count": 109,
   "id": "413554e1",
   "metadata": {},
   "outputs": [],
   "source": [
    "obj_class=class3()"
   ]
  },
  {
   "cell_type": "code",
   "execution_count": 112,
   "id": "501e10b4",
   "metadata": {},
   "outputs": [
    {
     "name": "stdout",
     "output_type": "stream",
     "text": [
      "This is my class 2\n"
     ]
    }
   ],
   "source": [
    "obj_class.test_class2()"
   ]
  },
  {
   "cell_type": "code",
   "execution_count": 113,
   "id": "5cf75432",
   "metadata": {},
   "outputs": [],
   "source": [
    "#multiple inheritance"
   ]
  },
  {
   "cell_type": "code",
   "execution_count": null,
   "id": "3dac36a7",
   "metadata": {},
   "outputs": [],
   "source": [
    "def"
   ]
  },
  {
   "cell_type": "code",
   "execution_count": 115,
   "id": "addedf2e",
   "metadata": {},
   "outputs": [
    {
     "ename": "TypeError",
     "evalue": "Cannot create a consistent method resolution\norder (MRO) for bases class1, class2, class3",
     "output_type": "error",
     "traceback": [
      "\u001b[1;31m---------------------------------------------------------------------------\u001b[0m",
      "\u001b[1;31mTypeError\u001b[0m                                 Traceback (most recent call last)",
      "Cell \u001b[1;32mIn[115], line 1\u001b[0m\n\u001b[1;32m----> 1\u001b[0m \u001b[38;5;28;01mclass\u001b[39;00m \u001b[38;5;21;01mclass4\u001b[39;00m(class1,class2,class3):\n\u001b[0;32m      2\u001b[0m     \u001b[38;5;28;01mdef\u001b[39;00m \u001b[38;5;21mtest_class4\u001b[39m(\u001b[38;5;28mself\u001b[39m):\n\u001b[0;32m      3\u001b[0m         \u001b[38;5;28mprint\u001b[39m(\u001b[38;5;124m\"\u001b[39m\u001b[38;5;124mThis is my class 4\u001b[39m\u001b[38;5;124m\"\u001b[39m)\n",
      "\u001b[1;31mTypeError\u001b[0m: Cannot create a consistent method resolution\norder (MRO) for bases class1, class2, class3"
     ]
    }
   ],
   "source": [
    "class class4(class1,class2,class3):    # learning is , cannot pass multiple classes which are having parent child relationship\n",
    "    def test_class4(self):\n",
    "        print(\"This is my class 4\")"
   ]
  },
  {
   "cell_type": "code",
   "execution_count": 121,
   "id": "9a4c0c29",
   "metadata": {},
   "outputs": [],
   "source": [
    "class akhil():\n",
    "    def data_science(self):\n",
    "        print(\"Akhil is data scientist since 2017\")"
   ]
  },
  {
   "cell_type": "code",
   "execution_count": 122,
   "id": "995a6534",
   "metadata": {},
   "outputs": [],
   "source": [
    "class bharat():\n",
    "    def data_science_new(self):\n",
    "        print(\"Bharat is trying to be data scientist\")"
   ]
  },
  {
   "cell_type": "code",
   "execution_count": 129,
   "id": "c07de3fa",
   "metadata": {},
   "outputs": [],
   "source": [
    "class check_ds(akhil,bharat):\n",
    "    def new_age(self):\n",
    "        print(\"Generative AI is the new age\")"
   ]
  },
  {
   "cell_type": "code",
   "execution_count": 130,
   "id": "6d46f43d",
   "metadata": {},
   "outputs": [],
   "source": [
    "obj_ds=check_ds()"
   ]
  },
  {
   "cell_type": "code",
   "execution_count": 131,
   "id": "2bcb0b33",
   "metadata": {},
   "outputs": [
    {
     "name": "stdout",
     "output_type": "stream",
     "text": [
      "Akhil is data scientist since 2017\n"
     ]
    }
   ],
   "source": [
    "obj_ds.data_science()"
   ]
  },
  {
   "cell_type": "code",
   "execution_count": 132,
   "id": "c00e3285",
   "metadata": {},
   "outputs": [
    {
     "name": "stdout",
     "output_type": "stream",
     "text": [
      "Bharat is trying to be data scientist\n"
     ]
    }
   ],
   "source": [
    "obj_ds.data_science_new()"
   ]
  },
  {
   "cell_type": "code",
   "execution_count": 133,
   "id": "92f8d1b2",
   "metadata": {},
   "outputs": [
    {
     "name": "stdout",
     "output_type": "stream",
     "text": [
      "Generative AI is the new age\n"
     ]
    }
   ],
   "source": [
    "obj_ds.new_age()"
   ]
  },
  {
   "cell_type": "markdown",
   "id": "dce4a4e9",
   "metadata": {},
   "source": [
    "# Abstraction"
   ]
  },
  {
   "cell_type": "markdown",
   "id": "e02f2d98",
   "metadata": {},
   "source": [
    "Its a technique where one parent class can be created as a blue print or skeleton for rest of the classes to follow1"
   ]
  },
  {
   "cell_type": "code",
   "execution_count": 5,
   "id": "d354d640",
   "metadata": {},
   "outputs": [],
   "source": [
    "import abc\n",
    "\n",
    "class pwskills():\n",
    "    abc.abstractmethod\n",
    "    def student_details(self):\n",
    "        pass\n",
    "    \n",
    "    abc.abstractmethod\n",
    "    def course_details(self):\n",
    "        pass"
   ]
  },
  {
   "cell_type": "code",
   "execution_count": 6,
   "id": "50c48da0",
   "metadata": {},
   "outputs": [],
   "source": [
    "class Data_Science(pwskills):\n",
    "    def student_details(self):\n",
    "        print(\"This is Data Science Course for Bharat\")\n",
    "    \n",
    "    def course_details(self):\n",
    "        print(\"Current Focus is on OOPS\")"
   ]
  },
  {
   "cell_type": "code",
   "execution_count": 7,
   "id": "41e3f40f",
   "metadata": {},
   "outputs": [],
   "source": [
    "obj_DS=Data_Science()"
   ]
  },
  {
   "cell_type": "code",
   "execution_count": 8,
   "id": "94c6f4cc",
   "metadata": {},
   "outputs": [
    {
     "name": "stdout",
     "output_type": "stream",
     "text": [
      "This is Data Science Course for Bharat\n"
     ]
    }
   ],
   "source": [
    "obj_DS.student_details()"
   ]
  },
  {
   "cell_type": "code",
   "execution_count": 9,
   "id": "091919ca",
   "metadata": {},
   "outputs": [],
   "source": [
    "class Machine_Learning(pwskills):\n",
    "    def student_details(self):\n",
    "        print(\"This is Machine Learning Course for Bharat\")\n",
    "    \n",
    "    def course_details(self):\n",
    "        print(\"Current Focus is on ML Models\")\n",
    "    "
   ]
  },
  {
   "cell_type": "code",
   "execution_count": 10,
   "id": "a807b684",
   "metadata": {},
   "outputs": [],
   "source": [
    "obj_ML=Machine_Learning()"
   ]
  },
  {
   "cell_type": "code",
   "execution_count": 12,
   "id": "94401e84",
   "metadata": {},
   "outputs": [
    {
     "name": "stdout",
     "output_type": "stream",
     "text": [
      "This is Machine Learning Course for Bharat\n"
     ]
    }
   ],
   "source": [
    "obj_ML.student_details()"
   ]
  },
  {
   "cell_type": "code",
   "execution_count": 13,
   "id": "1db3fa7c",
   "metadata": {},
   "outputs": [
    {
     "name": "stdout",
     "output_type": "stream",
     "text": [
      "Current Focus is on ML Models\n"
     ]
    }
   ],
   "source": [
    "obj_ML.course_details()"
   ]
  },
  {
   "cell_type": "markdown",
   "id": "a60d17cf",
   "metadata": {},
   "source": [
    "# Decorators"
   ]
  },
  {
   "cell_type": "markdown",
   "id": "3a2c3fff",
   "metadata": {},
   "source": [
    "Decorate your function and it can be used when called with other functions"
   ]
  },
  {
   "cell_type": "code",
   "execution_count": 14,
   "id": "4d72522e",
   "metadata": {},
   "outputs": [],
   "source": [
    "import time"
   ]
  },
  {
   "cell_type": "code",
   "execution_count": 29,
   "id": "93fe1e3e",
   "metadata": {},
   "outputs": [],
   "source": [
    "def timmer(func):\n",
    "    def inner_timmer():\n",
    "        start=time.time()\n",
    "        func()\n",
    "        end=time.time()\n",
    "        print(f\"Time taken for function:{end-start}\")\n",
    "    return inner_timmer"
   ]
  },
  {
   "cell_type": "code",
   "execution_count": 30,
   "id": "fecc225e",
   "metadata": {},
   "outputs": [],
   "source": [
    "@timmer      ## way to call a decorator function\n",
    "def in_range():\n",
    "    for i in range(1000000000):\n",
    "        pass"
   ]
  },
  {
   "cell_type": "code",
   "execution_count": 31,
   "id": "30e22c1d",
   "metadata": {},
   "outputs": [
    {
     "name": "stdout",
     "output_type": "stream",
     "text": [
      "Time taken for function:22.084640741348267\n"
     ]
    }
   ],
   "source": [
    "in_range()"
   ]
  },
  {
   "cell_type": "markdown",
   "id": "e0a32263",
   "metadata": {},
   "source": [
    "# Class Method"
   ]
  },
  {
   "cell_type": "markdown",
   "id": "2121857a",
   "metadata": {},
   "source": [
    "It is accessible to all the functions of class and kinda of a global variable. Its created only once when multiple objects are created where as other normal functions are created multiple times. Also used to overload init method as we can pass data through class method."
   ]
  },
  {
   "cell_type": "code",
   "execution_count": 215,
   "id": "047b7674",
   "metadata": {},
   "outputs": [],
   "source": [
    "class supply_chain():\n",
    "    def __init__(self,type_chain,country):\n",
    "        self.type_chain=type_chain\n",
    "        self.country=country\n",
    "    \n",
    "    @classmethod                                        # also one way to pass data but no. of arguments should be same as of init \n",
    "    def details(cls,type_chain1,country1):\n",
    "        return cls(type_chain1,country1)\n",
    "    \n",
    "    def supply_chain_detail(self):\n",
    "        return self.type_chain,self.country"
   ]
  },
  {
   "cell_type": "code",
   "execution_count": 216,
   "id": "b8328388",
   "metadata": {},
   "outputs": [],
   "source": [
    "ob_sc=supply_chain(\"Primary\",\"India\")"
   ]
  },
  {
   "cell_type": "code",
   "execution_count": 217,
   "id": "e2a8d68a",
   "metadata": {},
   "outputs": [
    {
     "data": {
      "text/plain": [
       "'Primary'"
      ]
     },
     "execution_count": 217,
     "metadata": {},
     "output_type": "execute_result"
    }
   ],
   "source": [
    "ob_sc.type_chain   # with this way also we can access our variables"
   ]
  },
  {
   "cell_type": "code",
   "execution_count": 218,
   "id": "de55e34d",
   "metadata": {},
   "outputs": [
    {
     "data": {
      "text/plain": [
       "('Primary', 'India')"
      ]
     },
     "execution_count": 218,
     "metadata": {},
     "output_type": "execute_result"
    }
   ],
   "source": [
    "ob_sc.supply_chain_detail()"
   ]
  },
  {
   "cell_type": "code",
   "execution_count": 219,
   "id": "d37bbf90",
   "metadata": {},
   "outputs": [
    {
     "data": {
      "text/plain": [
       "<__main__.supply_chain at 0x2243c417b50>"
      ]
     },
     "execution_count": 219,
     "metadata": {},
     "output_type": "execute_result"
    }
   ],
   "source": [
    "ob_sc1"
   ]
  },
  {
   "cell_type": "code",
   "execution_count": 220,
   "id": "3503e768",
   "metadata": {},
   "outputs": [],
   "source": [
    "ob_sc1=supply_chain.details(\"Secondary\",\"EMEA\")"
   ]
  },
  {
   "cell_type": "code",
   "execution_count": 221,
   "id": "9c5673dc",
   "metadata": {},
   "outputs": [
    {
     "data": {
      "text/plain": [
       "'Secondary'"
      ]
     },
     "execution_count": 221,
     "metadata": {},
     "output_type": "execute_result"
    }
   ],
   "source": [
    "ob_sc1.type_chain"
   ]
  },
  {
   "cell_type": "code",
   "execution_count": 70,
   "id": "de8afc2f",
   "metadata": {},
   "outputs": [
    {
     "data": {
      "text/plain": [
       "('Secondary', 'EMEA')"
      ]
     },
     "execution_count": 70,
     "metadata": {},
     "output_type": "execute_result"
    }
   ],
   "source": [
    "ob_sc1.supply_chain_detail()"
   ]
  },
  {
   "cell_type": "code",
   "execution_count": 231,
   "id": "58c06606",
   "metadata": {},
   "outputs": [],
   "source": [
    "class supply_chain2():\n",
    "    \n",
    "    @classmethod                                        # also one way to pass data without init\n",
    "    def details(cls,type_chain1,country1):\n",
    "        return cls(type_chain1,country1)\n",
    "    \n",
    "    def supply_chain_detail(self):\n",
    "        return self.type_chain,self.country"
   ]
  },
  {
   "cell_type": "code",
   "execution_count": 232,
   "id": "76e30992",
   "metadata": {},
   "outputs": [],
   "source": [
    "ob_sc2=supply_chain(\"Road\",\"France\")"
   ]
  },
  {
   "cell_type": "code",
   "execution_count": 233,
   "id": "b7ab8a2e",
   "metadata": {},
   "outputs": [
    {
     "data": {
      "text/plain": [
       "<__main__.supply_chain at 0x2243e7c6260>"
      ]
     },
     "execution_count": 233,
     "metadata": {},
     "output_type": "execute_result"
    }
   ],
   "source": [
    "ob_sc2.details(\"Sea\",\"Europe\")"
   ]
  },
  {
   "cell_type": "code",
   "execution_count": 236,
   "id": "ad508dd5",
   "metadata": {},
   "outputs": [
    {
     "data": {
      "text/plain": [
       "('Road', 'France')"
      ]
     },
     "execution_count": 236,
     "metadata": {},
     "output_type": "execute_result"
    }
   ],
   "source": [
    "ob_sc2.supply_chain_detail()"
   ]
  },
  {
   "cell_type": "code",
   "execution_count": 235,
   "id": "ebec5666",
   "metadata": {},
   "outputs": [
    {
     "data": {
      "text/plain": [
       "'Road'"
      ]
     },
     "execution_count": 235,
     "metadata": {},
     "output_type": "execute_result"
    }
   ],
   "source": [
    "ob_sc2.type_chain"
   ]
  },
  {
   "cell_type": "code",
   "execution_count": null,
   "id": "1b8a888d",
   "metadata": {},
   "outputs": [],
   "source": []
  },
  {
   "cell_type": "code",
   "execution_count": 75,
   "id": "70701c15",
   "metadata": {},
   "outputs": [],
   "source": [
    "#adding a function to class\n"
   ]
  },
  {
   "cell_type": "code",
   "execution_count": 76,
   "id": "4c9ffaea",
   "metadata": {},
   "outputs": [],
   "source": [
    "def service_providers(cls,sp):\n",
    "    print(f\"Service Provider Details:{sp}\")"
   ]
  },
  {
   "cell_type": "code",
   "execution_count": 77,
   "id": "bb861bee",
   "metadata": {},
   "outputs": [],
   "source": [
    "supply_chain.service_providers=classmethod(service_providers)"
   ]
  },
  {
   "cell_type": "code",
   "execution_count": 80,
   "id": "704a442c",
   "metadata": {},
   "outputs": [],
   "source": [
    "obj_SC=supply_chain(\"Primary\",\"France\")"
   ]
  },
  {
   "cell_type": "code",
   "execution_count": 83,
   "id": "740c6d7c",
   "metadata": {},
   "outputs": [
    {
     "name": "stdout",
     "output_type": "stream",
     "text": [
      "Service Provider Details:Gati\n"
     ]
    }
   ],
   "source": [
    "obj_SC.service_providers(\"Gati\") #access through object"
   ]
  },
  {
   "cell_type": "code",
   "execution_count": null,
   "id": "3530c6cf",
   "metadata": {},
   "outputs": [],
   "source": []
  },
  {
   "cell_type": "code",
   "execution_count": 79,
   "id": "0e50cb00",
   "metadata": {},
   "outputs": [
    {
     "name": "stdout",
     "output_type": "stream",
     "text": [
      "Service Provider Details:V Logistics\n"
     ]
    }
   ],
   "source": [
    "supply_chain.service_providers(\"V Logistics\") #access through class directly"
   ]
  },
  {
   "cell_type": "code",
   "execution_count": 84,
   "id": "14e41956",
   "metadata": {},
   "outputs": [],
   "source": [
    "# delete a function from class\n",
    "del supply_chain.service_providers"
   ]
  },
  {
   "cell_type": "code",
   "execution_count": 85,
   "id": "cd239036",
   "metadata": {},
   "outputs": [
    {
     "ename": "AttributeError",
     "evalue": "type object 'supply_chain' has no attribute 'service_providers'",
     "output_type": "error",
     "traceback": [
      "\u001b[1;31m---------------------------------------------------------------------------\u001b[0m",
      "\u001b[1;31mAttributeError\u001b[0m                            Traceback (most recent call last)",
      "Cell \u001b[1;32mIn[85], line 1\u001b[0m\n\u001b[1;32m----> 1\u001b[0m \u001b[43msupply_chain\u001b[49m\u001b[38;5;241;43m.\u001b[39;49m\u001b[43mservice_providers\u001b[49m(\u001b[38;5;124m\"\u001b[39m\u001b[38;5;124mGati\u001b[39m\u001b[38;5;124m\"\u001b[39m)\n",
      "\u001b[1;31mAttributeError\u001b[0m: type object 'supply_chain' has no attribute 'service_providers'"
     ]
    }
   ],
   "source": [
    "supply_chain.service_providers(\"Gati\")"
   ]
  },
  {
   "cell_type": "code",
   "execution_count": null,
   "id": "17e96715",
   "metadata": {},
   "outputs": [],
   "source": [
    "#another way to delete a function \n",
    "delattr(supply_chain,service_providers)"
   ]
  },
  {
   "cell_type": "markdown",
   "id": "42630655",
   "metadata": {},
   "source": [
    "# Static Method"
   ]
  },
  {
   "cell_type": "markdown",
   "id": "8cba9897",
   "metadata": {},
   "source": [
    "### If we create normal object of class and then call a function/instance , complier will copy that fucntion on every object created, this consume so much memory in case of large no. of objects \n",
    "### so to avoid that we can create static functions inside class which eliminates the copy problem\n"
   ]
  },
  {
   "cell_type": "code",
   "execution_count": 96,
   "id": "ca7b028d",
   "metadata": {},
   "outputs": [],
   "source": [
    "class pwskills():\n",
    "    def student_details(self,name,mail_id,number):           #instance method, \n",
    "        print(name,mail_id,number)\n",
    "        \n",
    "    @staticmethod\n",
    "    def mentor_list(mentor):\n",
    "        print(mentor)"
   ]
  },
  {
   "cell_type": "code",
   "execution_count": 97,
   "id": "d14e3387",
   "metadata": {},
   "outputs": [],
   "source": [
    "pw1=pwskills()"
   ]
  },
  {
   "cell_type": "code",
   "execution_count": 100,
   "id": "b37abde7",
   "metadata": {},
   "outputs": [
    {
     "name": "stdout",
     "output_type": "stream",
     "text": [
      "['Shiva-Shakti']\n"
     ]
    }
   ],
   "source": [
    "pw1.mentor_list([\"Shiva-Shakti\"])"
   ]
  },
  {
   "cell_type": "code",
   "execution_count": 101,
   "id": "70f4261c",
   "metadata": {},
   "outputs": [
    {
     "name": "stdout",
     "output_type": "stream",
     "text": [
      "['Shiva-Shakti']\n"
     ]
    }
   ],
   "source": [
    "pwskills.mentor_list(['Shiva-Shakti'])"
   ]
  },
  {
   "cell_type": "code",
   "execution_count": 103,
   "id": "03293914",
   "metadata": {},
   "outputs": [
    {
     "ename": "TypeError",
     "evalue": "pwskills.student_details() missing 1 required positional argument: 'number'",
     "output_type": "error",
     "traceback": [
      "\u001b[1;31m---------------------------------------------------------------------------\u001b[0m",
      "\u001b[1;31mTypeError\u001b[0m                                 Traceback (most recent call last)",
      "Cell \u001b[1;32mIn[103], line 1\u001b[0m\n\u001b[1;32m----> 1\u001b[0m \u001b[43mpwskills\u001b[49m\u001b[38;5;241;43m.\u001b[39;49m\u001b[43mstudent_details\u001b[49m\u001b[43m(\u001b[49m\u001b[38;5;124;43m\"\u001b[39;49m\u001b[38;5;124;43mBharat\u001b[39;49m\u001b[38;5;124;43m\"\u001b[39;49m\u001b[43m,\u001b[49m\u001b[38;5;124;43m\"\u001b[39;49m\u001b[38;5;124;43mBharat2gmail.com\u001b[39;49m\u001b[38;5;124;43m\"\u001b[39;49m\u001b[43m,\u001b[49m\u001b[38;5;124;43m'\u001b[39;49m\u001b[38;5;124;43m834965294\u001b[39;49m\u001b[38;5;124;43m'\u001b[39;49m\u001b[43m)\u001b[49m\n",
      "\u001b[1;31mTypeError\u001b[0m: pwskills.student_details() missing 1 required positional argument: 'number'"
     ]
    }
   ],
   "source": [
    "pwskills.student_details(\"Bharat\",\"Bharat2gmail.com\",'834965294')   # direct access will give error for instance/normal functions where as it''ll be allowed in static functions"
   ]
  },
  {
   "cell_type": "code",
   "execution_count": 104,
   "id": "15ea9b66",
   "metadata": {},
   "outputs": [],
   "source": [
    "pw2=pwskills()"
   ]
  },
  {
   "cell_type": "code",
   "execution_count": 105,
   "id": "f774287e",
   "metadata": {},
   "outputs": [
    {
     "name": "stdout",
     "output_type": "stream",
     "text": [
      "Bharat Bharat2gmail.com 834965294\n"
     ]
    }
   ],
   "source": [
    "pw2.student_details(\"Bharat\",\"Bharat2gmail.com\",'834965294')"
   ]
  },
  {
   "cell_type": "code",
   "execution_count": 114,
   "id": "f6ef28d3",
   "metadata": {},
   "outputs": [],
   "source": [
    "class pwskills2():\n",
    "        \n",
    "    @staticmethod\n",
    "    def mentor_list(mentor):\n",
    "        print(mentor)\n",
    "        \n",
    "    def student_details(self,name,mail_id,number):           #instance method, \n",
    "        print(name,mail_id,number)\n",
    "        self.mentor_list(\"Sudh\")\n",
    "        \n",
    "    @staticmethod                                            # can define static method and call a static method inside it\n",
    "    def mentor_email(email):\n",
    "        print(email)\n",
    "        pwskills2.mentor_list(\"Bharat\")"
   ]
  },
  {
   "cell_type": "code",
   "execution_count": 115,
   "id": "5d975f3e",
   "metadata": {},
   "outputs": [],
   "source": [
    "pw4=pwskills2()"
   ]
  },
  {
   "cell_type": "code",
   "execution_count": 116,
   "id": "915407cd",
   "metadata": {},
   "outputs": [
    {
     "name": "stdout",
     "output_type": "stream",
     "text": [
      "Linkusa MBBS@farzi.com 2o8375\n",
      "Sudh\n"
     ]
    }
   ],
   "source": [
    "pw4.student_details(\"Linkusa\",\"MBBS@farzi.com\",\"2o8375\")  # calling instance method/function will print mentor details as well because we are calling static method inside normal function"
   ]
  },
  {
   "cell_type": "code",
   "execution_count": 117,
   "id": "81a16803",
   "metadata": {},
   "outputs": [
    {
     "name": "stdout",
     "output_type": "stream",
     "text": [
      "alshjdf@gmail.com\n",
      "Bharat\n"
     ]
    }
   ],
   "source": [
    "pw4.mentor_email(\"alshjdf@gmail.com\")"
   ]
  },
  {
   "cell_type": "markdown",
   "id": "1dc8a182",
   "metadata": {},
   "source": [
    "# Magic or Dunder Method"
   ]
  },
  {
   "cell_type": "markdown",
   "id": "cb92efb4",
   "metadata": {},
   "source": [
    "Magic mehods like below are available for all kind of data types which we can directly use."
   ]
  },
  {
   "cell_type": "code",
   "execution_count": 118,
   "id": "b382c129",
   "metadata": {},
   "outputs": [
    {
     "data": {
      "text/plain": [
       "['__abs__',\n",
       " '__add__',\n",
       " '__and__',\n",
       " '__bool__',\n",
       " '__ceil__',\n",
       " '__class__',\n",
       " '__delattr__',\n",
       " '__dir__',\n",
       " '__divmod__',\n",
       " '__doc__',\n",
       " '__eq__',\n",
       " '__float__',\n",
       " '__floor__',\n",
       " '__floordiv__',\n",
       " '__format__',\n",
       " '__ge__',\n",
       " '__getattribute__',\n",
       " '__getnewargs__',\n",
       " '__gt__',\n",
       " '__hash__',\n",
       " '__index__',\n",
       " '__init__',\n",
       " '__init_subclass__',\n",
       " '__int__',\n",
       " '__invert__',\n",
       " '__le__',\n",
       " '__lshift__',\n",
       " '__lt__',\n",
       " '__mod__',\n",
       " '__mul__',\n",
       " '__ne__',\n",
       " '__neg__',\n",
       " '__new__',\n",
       " '__or__',\n",
       " '__pos__',\n",
       " '__pow__',\n",
       " '__radd__',\n",
       " '__rand__',\n",
       " '__rdivmod__',\n",
       " '__reduce__',\n",
       " '__reduce_ex__',\n",
       " '__repr__',\n",
       " '__rfloordiv__',\n",
       " '__rlshift__',\n",
       " '__rmod__',\n",
       " '__rmul__',\n",
       " '__ror__',\n",
       " '__round__',\n",
       " '__rpow__',\n",
       " '__rrshift__',\n",
       " '__rshift__',\n",
       " '__rsub__',\n",
       " '__rtruediv__',\n",
       " '__rxor__',\n",
       " '__setattr__',\n",
       " '__sizeof__',\n",
       " '__str__',\n",
       " '__sub__',\n",
       " '__subclasshook__',\n",
       " '__truediv__',\n",
       " '__trunc__',\n",
       " '__xor__',\n",
       " 'as_integer_ratio',\n",
       " 'bit_count',\n",
       " 'bit_length',\n",
       " 'conjugate',\n",
       " 'denominator',\n",
       " 'from_bytes',\n",
       " 'imag',\n",
       " 'numerator',\n",
       " 'real',\n",
       " 'to_bytes']"
      ]
     },
     "execution_count": 118,
     "metadata": {},
     "output_type": "execute_result"
    }
   ],
   "source": [
    "dir(int)"
   ]
  },
  {
   "cell_type": "code",
   "execution_count": 119,
   "id": "1772f03a",
   "metadata": {},
   "outputs": [],
   "source": [
    "a=808"
   ]
  },
  {
   "cell_type": "code",
   "execution_count": 120,
   "id": "2b8e9506",
   "metadata": {},
   "outputs": [
    {
     "data": {
      "text/plain": [
       "int"
      ]
     },
     "execution_count": 120,
     "metadata": {},
     "output_type": "execute_result"
    }
   ],
   "source": [
    "type(a)"
   ]
  },
  {
   "cell_type": "code",
   "execution_count": 124,
   "id": "207e9226",
   "metadata": {},
   "outputs": [
    {
     "data": {
      "text/plain": [
       "404"
      ]
     },
     "execution_count": 124,
     "metadata": {},
     "output_type": "execute_result"
    }
   ],
   "source": [
    "a.__rshift__(1)"
   ]
  },
  {
   "cell_type": "code",
   "execution_count": 126,
   "id": "4926c71f",
   "metadata": {},
   "outputs": [
    {
     "data": {
      "text/plain": [
       "101"
      ]
     },
     "execution_count": 126,
     "metadata": {},
     "output_type": "execute_result"
    }
   ],
   "source": [
    "a.__floordiv__(8)"
   ]
  },
  {
   "cell_type": "code",
   "execution_count": 127,
   "id": "219d5dc5",
   "metadata": {},
   "outputs": [
    {
     "data": {
      "text/plain": [
       "812"
      ]
     },
     "execution_count": 127,
     "metadata": {},
     "output_type": "execute_result"
    }
   ],
   "source": [
    "a.__add__(4)"
   ]
  },
  {
   "cell_type": "code",
   "execution_count": 128,
   "id": "52b6fbae",
   "metadata": {},
   "outputs": [
    {
     "data": {
      "text/plain": [
       "['__add__',\n",
       " '__class__',\n",
       " '__contains__',\n",
       " '__delattr__',\n",
       " '__dir__',\n",
       " '__doc__',\n",
       " '__eq__',\n",
       " '__format__',\n",
       " '__ge__',\n",
       " '__getattribute__',\n",
       " '__getitem__',\n",
       " '__getnewargs__',\n",
       " '__gt__',\n",
       " '__hash__',\n",
       " '__init__',\n",
       " '__init_subclass__',\n",
       " '__iter__',\n",
       " '__le__',\n",
       " '__len__',\n",
       " '__lt__',\n",
       " '__mod__',\n",
       " '__mul__',\n",
       " '__ne__',\n",
       " '__new__',\n",
       " '__reduce__',\n",
       " '__reduce_ex__',\n",
       " '__repr__',\n",
       " '__rmod__',\n",
       " '__rmul__',\n",
       " '__setattr__',\n",
       " '__sizeof__',\n",
       " '__str__',\n",
       " '__subclasshook__',\n",
       " 'capitalize',\n",
       " 'casefold',\n",
       " 'center',\n",
       " 'count',\n",
       " 'encode',\n",
       " 'endswith',\n",
       " 'expandtabs',\n",
       " 'find',\n",
       " 'format',\n",
       " 'format_map',\n",
       " 'index',\n",
       " 'isalnum',\n",
       " 'isalpha',\n",
       " 'isascii',\n",
       " 'isdecimal',\n",
       " 'isdigit',\n",
       " 'isidentifier',\n",
       " 'islower',\n",
       " 'isnumeric',\n",
       " 'isprintable',\n",
       " 'isspace',\n",
       " 'istitle',\n",
       " 'isupper',\n",
       " 'join',\n",
       " 'ljust',\n",
       " 'lower',\n",
       " 'lstrip',\n",
       " 'maketrans',\n",
       " 'partition',\n",
       " 'removeprefix',\n",
       " 'removesuffix',\n",
       " 'replace',\n",
       " 'rfind',\n",
       " 'rindex',\n",
       " 'rjust',\n",
       " 'rpartition',\n",
       " 'rsplit',\n",
       " 'rstrip',\n",
       " 'split',\n",
       " 'splitlines',\n",
       " 'startswith',\n",
       " 'strip',\n",
       " 'swapcase',\n",
       " 'title',\n",
       " 'translate',\n",
       " 'upper',\n",
       " 'zfill']"
      ]
     },
     "execution_count": 128,
     "metadata": {},
     "output_type": "execute_result"
    }
   ],
   "source": [
    "dir(str)"
   ]
  },
  {
   "cell_type": "code",
   "execution_count": 137,
   "id": "41508954",
   "metadata": {},
   "outputs": [],
   "source": [
    "stri=\"I am Bharat, Aspiring Data Scientist   \""
   ]
  },
  {
   "cell_type": "code",
   "execution_count": 135,
   "id": "6803bc96",
   "metadata": {},
   "outputs": [
    {
     "data": {
      "text/plain": [
       "True"
      ]
     },
     "execution_count": 135,
     "metadata": {},
     "output_type": "execute_result"
    }
   ],
   "source": [
    "stri.__contains__(\"Bharat\")"
   ]
  },
  {
   "cell_type": "code",
   "execution_count": 138,
   "id": "f4d09c44",
   "metadata": {},
   "outputs": [
    {
     "data": {
      "text/plain": [
       "'I am Bharat, Aspiring Data Scientist'"
      ]
     },
     "execution_count": 138,
     "metadata": {},
     "output_type": "execute_result"
    }
   ],
   "source": [
    "stri.strip()"
   ]
  },
  {
   "cell_type": "code",
   "execution_count": 139,
   "id": "77f1b4d9",
   "metadata": {},
   "outputs": [
    {
     "data": {
      "text/plain": [
       "'i AM bHARAT, aSPIRING dATA sCIENTIST   '"
      ]
     },
     "execution_count": 139,
     "metadata": {},
     "output_type": "execute_result"
    }
   ],
   "source": [
    "stri.swapcase() # lower to upper and upper to lower"
   ]
  },
  {
   "cell_type": "code",
   "execution_count": 151,
   "id": "87e42e83",
   "metadata": {},
   "outputs": [],
   "source": [
    "class supply_chain():\n",
    "    def __init__(self):\n",
    "        self.Type='Primary'\n",
    "        \n",
    "    def __str__(self):\n",
    "        return \"I am a supply chain class\"\n",
    "        "
   ]
  },
  {
   "cell_type": "code",
   "execution_count": 152,
   "id": "d657da03",
   "metadata": {},
   "outputs": [],
   "source": [
    "sc=supply_chain()"
   ]
  },
  {
   "cell_type": "code",
   "execution_count": 153,
   "id": "bdc86dbe",
   "metadata": {},
   "outputs": [
    {
     "data": {
      "text/plain": [
       "<__main__.supply_chain at 0x2243e9af010>"
      ]
     },
     "execution_count": 153,
     "metadata": {},
     "output_type": "execute_result"
    }
   ],
   "source": [
    "sc"
   ]
  },
  {
   "cell_type": "code",
   "execution_count": 154,
   "id": "6dba8bf9",
   "metadata": {},
   "outputs": [
    {
     "name": "stdout",
     "output_type": "stream",
     "text": [
      "I am a supply chain class\n"
     ]
    }
   ],
   "source": [
    "print(sc)"
   ]
  },
  {
   "cell_type": "markdown",
   "id": "23696737",
   "metadata": {},
   "source": [
    "# Property Decorator"
   ]
  },
  {
   "cell_type": "code",
   "execution_count": 156,
   "id": "b9c94c6d",
   "metadata": {},
   "outputs": [],
   "source": [
    "class google():\n",
    "    def __init__(self,job_role,job_pay):\n",
    "        self.job_role=job_role\n",
    "        self.__job_pay=job_pay"
   ]
  },
  {
   "cell_type": "code",
   "execution_count": 158,
   "id": "bad52c90",
   "metadata": {},
   "outputs": [],
   "source": [
    "g=google('Data Scientist','45000000')"
   ]
  },
  {
   "cell_type": "code",
   "execution_count": 159,
   "id": "7bf459ff",
   "metadata": {},
   "outputs": [
    {
     "data": {
      "text/plain": [
       "'Data Scientist'"
      ]
     },
     "execution_count": 159,
     "metadata": {},
     "output_type": "execute_result"
    }
   ],
   "source": [
    "g.job_role"
   ]
  },
  {
   "cell_type": "code",
   "execution_count": 160,
   "id": "34918442",
   "metadata": {},
   "outputs": [
    {
     "ename": "AttributeError",
     "evalue": "'google' object has no attribute '__job_pay'",
     "output_type": "error",
     "traceback": [
      "\u001b[1;31m---------------------------------------------------------------------------\u001b[0m",
      "\u001b[1;31mAttributeError\u001b[0m                            Traceback (most recent call last)",
      "Cell \u001b[1;32mIn[160], line 1\u001b[0m\n\u001b[1;32m----> 1\u001b[0m \u001b[43mg\u001b[49m\u001b[38;5;241;43m.\u001b[39;49m\u001b[43m__job_pay\u001b[49m\n",
      "\u001b[1;31mAttributeError\u001b[0m: 'google' object has no attribute '__job_pay'"
     ]
    }
   ],
   "source": [
    "g.__job_pay  ## since its a pvt variable can't be accessed directly"
   ]
  },
  {
   "cell_type": "code",
   "execution_count": 161,
   "id": "df4f9f5c",
   "metadata": {},
   "outputs": [
    {
     "data": {
      "text/plain": [
       "'45000000'"
      ]
     },
     "execution_count": 161,
     "metadata": {},
     "output_type": "execute_result"
    }
   ],
   "source": [
    "g._google__job_pay"
   ]
  },
  {
   "cell_type": "code",
   "execution_count": 189,
   "id": "d3021dd0",
   "metadata": {},
   "outputs": [],
   "source": [
    "class google2():\n",
    "    def __init__(self,job_role,job_pay):\n",
    "        self.job_role=job_role\n",
    "        self.__job_pay=job_pay\n",
    "    \n",
    "    @property                                    # property decorator is passsed to create access to private variable through function\n",
    "    def job_price_access(self):\n",
    "        return self.__job_pay\n",
    "    \n",
    "    @job_price_access.setter\n",
    "    def job_pay_set(self,pay):\n",
    "        if pay<5500000:\n",
    "            pass\n",
    "        else:\n",
    "            self.__job_pay=pay\n",
    "    '''                                         # if we have delete the private variable\n",
    "    @job_price_access.deleter\n",
    "    def job_pay_delete(self):\n",
    "        del self.__job_pay\n",
    "    '''"
   ]
  },
  {
   "cell_type": "code",
   "execution_count": 190,
   "id": "71006da0",
   "metadata": {},
   "outputs": [],
   "source": [
    "gg=google2('Microsoft',\"5500000\")"
   ]
  },
  {
   "cell_type": "code",
   "execution_count": 191,
   "id": "d7229698",
   "metadata": {},
   "outputs": [
    {
     "data": {
      "text/plain": [
       "'5500000'"
      ]
     },
     "execution_count": 191,
     "metadata": {},
     "output_type": "execute_result"
    }
   ],
   "source": [
    "gg.job_price_access                            # can be access directly like public variable"
   ]
  },
  {
   "cell_type": "code",
   "execution_count": 192,
   "id": "7fe729cc",
   "metadata": {},
   "outputs": [],
   "source": [
    "gg.job_pay_set=7000000"
   ]
  },
  {
   "cell_type": "code",
   "execution_count": 193,
   "id": "f82667c9",
   "metadata": {},
   "outputs": [
    {
     "data": {
      "text/plain": [
       "7000000"
      ]
     },
     "execution_count": 193,
     "metadata": {},
     "output_type": "execute_result"
    }
   ],
   "source": [
    "gg.job_price_access"
   ]
  },
  {
   "cell_type": "code",
   "execution_count": null,
   "id": "849e4c7b",
   "metadata": {},
   "outputs": [],
   "source": []
  }
 ],
 "metadata": {
  "kernelspec": {
   "display_name": "Python 3 (ipykernel)",
   "language": "python",
   "name": "python3"
  },
  "language_info": {
   "codemirror_mode": {
    "name": "ipython",
    "version": 3
   },
   "file_extension": ".py",
   "mimetype": "text/x-python",
   "name": "python",
   "nbconvert_exporter": "python",
   "pygments_lexer": "ipython3",
   "version": "3.10.9"
  }
 },
 "nbformat": 4,
 "nbformat_minor": 5
}
