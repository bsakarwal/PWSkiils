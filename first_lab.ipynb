{
 "cells": [
  {
   "cell_type": "code",
   "execution_count": 1,
   "id": "bf47d855-b2eb-48d0-8322-00c4539cbabf",
   "metadata": {},
   "outputs": [],
   "source": [
    "import pandas as pd"
   ]
  },
  {
   "cell_type": "markdown",
   "id": "dce1b6c6-a02a-4831-b4dd-cdf794c7d5a4",
   "metadata": {},
   "source": [
    "Q1.create one variable of float,int,bool,tuple,list"
   ]
  },
  {
   "cell_type": "code",
   "execution_count": 43,
   "id": "2af3f9b6-e1f0-4d3f-abdd-896bfd81ad49",
   "metadata": {},
   "outputs": [
    {
     "data": {
      "text/plain": [
       "int"
      ]
     },
     "execution_count": 43,
     "metadata": {},
     "output_type": "execute_result"
    }
   ],
   "source": [
    "a=10\n",
    "type(a)"
   ]
  },
  {
   "cell_type": "code",
   "execution_count": 20,
   "id": "439679ba-5c52-4f92-acee-6a0bf8be0c1a",
   "metadata": {},
   "outputs": [
    {
     "name": "stdout",
     "output_type": "stream",
     "text": [
      "10.00\n"
     ]
    }
   ],
   "source": [
    "a\n",
    "print(\"{:.2f}\".format(a))"
   ]
  },
  {
   "cell_type": "code",
   "execution_count": 45,
   "id": "9271ede7-5ac9-4277-82a8-c0e2fad0410a",
   "metadata": {},
   "outputs": [
    {
     "data": {
      "text/plain": [
       "float"
      ]
     },
     "execution_count": 45,
     "metadata": {},
     "output_type": "execute_result"
    }
   ],
   "source": [
    "b=float(10.50)\n",
    "type(b)"
   ]
  },
  {
   "cell_type": "code",
   "execution_count": 47,
   "id": "b247c762-bb52-45c9-840d-e2526d50b018",
   "metadata": {},
   "outputs": [
    {
     "data": {
      "text/plain": [
       "(2, 3, 4)"
      ]
     },
     "execution_count": 47,
     "metadata": {},
     "output_type": "execute_result"
    }
   ],
   "source": [
    "t=(2,3,4)\n",
    "t"
   ]
  },
  {
   "cell_type": "code",
   "execution_count": 49,
   "id": "90fc554c-9613-4051-9603-03f14925057c",
   "metadata": {},
   "outputs": [
    {
     "data": {
      "text/plain": [
       "[2, 3, 4]"
      ]
     },
     "execution_count": 49,
     "metadata": {},
     "output_type": "execute_result"
    }
   ],
   "source": [
    "l=[2,3,4]\n",
    "l"
   ]
  },
  {
   "cell_type": "code",
   "execution_count": null,
   "id": "2f952d08-611c-45b7-a23a-850c535a259c",
   "metadata": {},
   "outputs": [],
   "source": []
  },
  {
   "cell_type": "code",
   "execution_count": 22,
   "id": "683c77d2-c738-4452-bacc-dab8d7352fef",
   "metadata": {},
   "outputs": [
    {
     "name": "stdout",
     "output_type": "stream",
     "text": [
      "<class 'bool'>\n"
     ]
    }
   ],
   "source": [
    "c=True\n",
    "print(type(c))"
   ]
  },
  {
   "cell_type": "code",
   "execution_count": 25,
   "id": "d5eda3ef-7492-4d72-83c9-fd6fe73b9e68",
   "metadata": {},
   "outputs": [
    {
     "data": {
      "text/plain": [
       "complex"
      ]
     },
     "execution_count": 25,
     "metadata": {},
     "output_type": "execute_result"
    }
   ],
   "source": [
    "e=5+7j   #imaginary part of complex no.\n",
    "type(e)"
   ]
  },
  {
   "cell_type": "code",
   "execution_count": 28,
   "id": "ce5e0d4c-5a02-45b8-aed4-a1135af27538",
   "metadata": {},
   "outputs": [
    {
     "name": "stdout",
     "output_type": "stream",
     "text": [
      "5.0\n",
      "7.0\n"
     ]
    },
    {
     "data": {
      "text/plain": [
       "'\\ntripple quotes\\n'"
      ]
     },
     "execution_count": 28,
     "metadata": {},
     "output_type": "execute_result"
    }
   ],
   "source": [
    "print(e.real)\n",
    "print(e.imag)\n",
    "\"\"\"\n",
    "tripple quotes\n",
    "\"\"\""
   ]
  },
  {
   "cell_type": "code",
   "execution_count": 41,
   "id": "7361cb7b-ea33-419d-a0e1-5ee6a376cbe4",
   "metadata": {},
   "outputs": [
    {
     "name": "stdout",
     "output_type": "stream",
     "text": [
      "Bharat3\n"
     ]
    }
   ],
   "source": [
    "a='Bharat'\n",
    "b=3\n",
    "print(a+str(b))\n"
   ]
  },
  {
   "cell_type": "markdown",
   "id": "4dad6caa-5166-4590-b2ba-1896168ef939",
   "metadata": {},
   "source": [
    "\n",
    "Q2. Given are some following variables containing data:\n",
    "\n",
    "(i) var1 = ‘ ‘\n",
    "\n",
    "(ii) var2 = ‘[ DS , ML , Python]’\n",
    "\n",
    "(iii) var3 = [ ‘DS’ , ’ML’ , ‘Python’ ]\n",
    "\n",
    "(iv) var4 = 1.\n",
    "\n",
    "\n",
    "What will be the data type of the above given variable."
   ]
  },
  {
   "cell_type": "markdown",
   "id": "2ec8885d-1141-419f-a30a-ba464fa0d2c6",
   "metadata": {},
   "source": [
    "string\n",
    "string\n",
    "list\n",
    "int"
   ]
  },
  {
   "cell_type": "markdown",
   "id": "9d01d438-b15d-421c-a40a-105a7f3fccd6",
   "metadata": {},
   "source": [
    "Q3. Explain the use of the following operators using an example:\n",
    "\n",
    "(i) /\n",
    "\n",
    "(ii) %\n",
    "(iii) //\n",
    "\n",
    "(iv) **"
   ]
  },
  {
   "cell_type": "code",
   "execution_count": 61,
   "id": "28af037c-45e6-4473-b91b-41135f63dff2",
   "metadata": {},
   "outputs": [
    {
     "name": "stdout",
     "output_type": "stream",
     "text": [
      "1.6666666666666667\n",
      "4\n",
      "1\n",
      "1000000\n"
     ]
    }
   ],
   "source": [
    "a=10\n",
    "b=6\n",
    "print(a/b)  # quotitent\n",
    "print(a%b)  # gives remainder\n",
    "print(a//b) # floor division\n",
    "print(a**b) #b raise to the power a"
   ]
  },
  {
   "cell_type": "markdown",
   "id": "4bcb59a3-4fa2-40f4-be26-1779a4306333",
   "metadata": {},
   "source": [
    "Q4. Create a list of length 10 of your choice containing multiple types of data. Using for loop print the\n",
    "element and its data type."
   ]
  },
  {
   "cell_type": "code",
   "execution_count": 92,
   "id": "61a60f48-f54e-4f1d-ae4c-c08a59e986f8",
   "metadata": {},
   "outputs": [
    {
     "name": "stdout",
     "output_type": "stream",
     "text": [
      "10\n",
      "<class 'int'>\n",
      "20.4\n",
      "<class 'float'>\n",
      "Bye\n",
      "<class 'str'>\n",
      "True\n",
      "<class 'bool'>\n",
      "6\n",
      "<class 'int'>\n",
      "(4+3j)\n",
      "<class 'complex'>\n",
      "5\n",
      "<class 'int'>\n",
      "5.6\n",
      "<class 'float'>\n"
     ]
    }
   ],
   "source": [
    "#l=[i for i in range(0,5) for j in (True,False)]\n",
    "\n",
    "l=[10,20.4,'Bye',True,6,4+3j,5,5.6]\n",
    "l\n",
    "type(l[3])\n",
    "\n",
    "for i in range(len(l)):\n",
    "    print(l[i])\n",
    "    print(type(l[i]))"
   ]
  },
  {
   "cell_type": "code",
   "execution_count": 99,
   "id": "ab0da826-53a7-4742-ac50-b7d19633f600",
   "metadata": {},
   "outputs": [
    {
     "data": {
      "text/plain": [
       "['Deepti', 10]"
      ]
     },
     "execution_count": 99,
     "metadata": {},
     "output_type": "execute_result"
    }
   ],
   "source": [
    "b=['Bharat',10]\n",
    "#b[3]='i'  #'str' object does not support item assignment therefore immutable\n",
    "b[0]='Deepti'\n",
    "b"
   ]
  },
  {
   "cell_type": "markdown",
   "id": "f4179787-5581-4e28-bc01-c65f14036865",
   "metadata": {},
   "source": [
    "Q5. Using a while loop, verify if the number A is purely divisible by number B and if so then how many\n",
    "times it can be divisible."
   ]
  },
  {
   "cell_type": "code",
   "execution_count": 16,
   "id": "f4e0bdcc-67fd-42cd-8dac-2124d826c4a6",
   "metadata": {
    "tags": []
   },
   "outputs": [
    {
     "name": "stdout",
     "output_type": "stream",
     "text": [
      "10 is divisible by 2\n",
      "10 is divisible by 5\n",
      "out of while loop\n"
     ]
    }
   ],
   "source": [
    "a,b=10,2\n",
    "while b<a:\n",
    "    if (a%b)==0:\n",
    "        print(\"{} is divisible by {}\".format(a,b))\n",
    "    b=b+1\n",
    "else:\n",
    "    print(\"out of while loop\")    # will be executed both if condition is true and when not true"
   ]
  },
  {
   "cell_type": "code",
   "execution_count": 8,
   "id": "97faa103-4474-4502-b29b-9b7d338aa50c",
   "metadata": {},
   "outputs": [
    {
     "data": {
      "text/plain": [
       "5.0"
      ]
     },
     "execution_count": 8,
     "metadata": {},
     "output_type": "execute_result"
    }
   ],
   "source": [
    "a,b=10,2\n",
    "(a/b)"
   ]
  },
  {
   "cell_type": "code",
   "execution_count": 6,
   "id": "2e7116b0-8662-49d8-9c72-a8b60d5622cc",
   "metadata": {
    "collapsed": true,
    "jupyter": {
     "outputs_hidden": true
    },
    "tags": []
   },
   "outputs": [
    {
     "name": "stdout",
     "output_type": "stream",
     "text": [
      "1\n",
      "2\n",
      "3\n",
      "4\n",
      "5\n",
      "6\n",
      "7\n",
      "8\n",
      "9\n"
     ]
    }
   ],
   "source": [
    "a,i=10,1\n",
    "\n",
    "while i<a:\n",
    "    print(i)\n",
    "    i=i+1"
   ]
  },
  {
   "cell_type": "markdown",
   "id": "a0eaf029-0256-4457-9f3b-98f634cc6a69",
   "metadata": {},
   "source": [
    "Q6. Create a list containing 25 int type data. Using for loop and if-else condition print if the element is\n",
    "divisible by 3 or not."
   ]
  },
  {
   "cell_type": "code",
   "execution_count": 20,
   "id": "cec7e298-7f91-49c0-8161-d5ec8ed8f887",
   "metadata": {
    "tags": []
   },
   "outputs": [
    {
     "name": "stdout",
     "output_type": "stream",
     "text": [
      "3 is divisible by 3\n",
      "6 is divisible by 3\n",
      "9 is divisible by 3\n",
      "12 is divisible by 3\n",
      "15 is divisible by 3\n",
      "18 is divisible by 3\n",
      "21 is divisible by 3\n"
     ]
    }
   ],
   "source": [
    "lst=[i for i in range(1,24)]\n",
    "lst\n",
    "for j in range(len(lst)):\n",
    "    if lst[j]%3==0:\n",
    "        print(\"{} is divisible by 3\".format(lst[j]))"
   ]
  },
  {
   "cell_type": "markdown",
   "id": "686c01bb-84af-4235-8e64-5177121a08a2",
   "metadata": {},
   "source": [
    "Q7 What do you understand about mutable and immutable data types? Give examples for both showing\n",
    "this property"
   ]
  },
  {
   "cell_type": "code",
   "execution_count": 23,
   "id": "7e8c7451-9c15-4d08-b795-f9391b036074",
   "metadata": {},
   "outputs": [
    {
     "name": "stdout",
     "output_type": "stream",
     "text": [
      "[5, 2, 3, 4]\n"
     ]
    },
    {
     "ename": "TypeError",
     "evalue": "'tuple' object does not support item assignment",
     "output_type": "error",
     "traceback": [
      "\u001b[0;31m---------------------------------------------------------------------------\u001b[0m",
      "\u001b[0;31mTypeError\u001b[0m                                 Traceback (most recent call last)",
      "Cell \u001b[0;32mIn[23], line 6\u001b[0m\n\u001b[1;32m      3\u001b[0m \u001b[38;5;28mprint\u001b[39m(lst)\n\u001b[1;32m      5\u001b[0m tup\u001b[38;5;241m=\u001b[39m(\u001b[38;5;241m1\u001b[39m,\u001b[38;5;241m2\u001b[39m,\u001b[38;5;241m3\u001b[39m,\u001b[38;5;241m4\u001b[39m)\n\u001b[0;32m----> 6\u001b[0m \u001b[43mtup\u001b[49m\u001b[43m[\u001b[49m\u001b[38;5;241;43m0\u001b[39;49m\u001b[43m]\u001b[49m\u001b[38;5;241m=\u001b[39m\u001b[38;5;241m5\u001b[39m\n",
      "\u001b[0;31mTypeError\u001b[0m: 'tuple' object does not support item assignment"
     ]
    }
   ],
   "source": [
    "lst=[1,2,3,4]\n",
    "lst[0]=5       #list is mutable \n",
    "print(lst)\n",
    "\n",
    "tup=(1,2,3,4)\n",
    "tup[0]=5       # tuple is immutable as element assignment isnt possible"
   ]
  }
 ],
 "metadata": {
  "kernelspec": {
   "display_name": "Python 3 (ipykernel)",
   "language": "python",
   "name": "python3"
  },
  "language_info": {
   "codemirror_mode": {
    "name": "ipython",
    "version": 3
   },
   "file_extension": ".py",
   "mimetype": "text/x-python",
   "name": "python",
   "nbconvert_exporter": "python",
   "pygments_lexer": "ipython3",
   "version": "3.10.9"
  }
 },
 "nbformat": 4,
 "nbformat_minor": 5
}
