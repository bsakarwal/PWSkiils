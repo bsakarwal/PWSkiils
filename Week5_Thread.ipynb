{
 "cells": [
  {
   "cell_type": "code",
   "execution_count": 4,
   "id": "d5085f42",
   "metadata": {},
   "outputs": [
    {
     "data": {
      "text/html": [
       "<style>\n",
       ".cm-comment {\n",
       "    color: green !important;\n",
       "}\n",
       "</style>\n"
      ],
      "text/plain": [
       "<IPython.core.display.HTML object>"
      ]
     },
     "metadata": {},
     "output_type": "display_data"
    }
   ],
   "source": [
    "%%html\n",
    "<style>\n",
    ".cm-comment {\n",
    "    color: green !important;\n",
    "}\n",
    "</style>"
   ]
  },
  {
   "cell_type": "markdown",
   "id": "8ecd6b49",
   "metadata": {},
   "source": [
    "Q1). What is multithreading in python? why is it used? Name the module used to handle threads in python"
   ]
  },
  {
   "cell_type": "markdown",
   "id": "1b7e6e03",
   "metadata": {},
   "source": [
    "Multithreading in Python refers to the ability of a program to concurrently execute multiple threads of execution. Threads are lightweight and independent units of execution within a process. Multithreading allows different parts of a program to run concurrently, making it possible to perform multiple tasks simultaneously.\n",
    "\n",
    "Multithreading is used in Python for various reasons, including:\n",
    "\n",
    "Improving program performance by utilizing the available CPU resources more efficiently.\n",
    "Enabling concurrent execution of multiple tasks, such as handling user interactions, performing I/O operations, or processing data in parallel.\n",
    "Enhancing responsiveness in applications that involve waiting for external events or long-running tasks.\n",
    "Facilitating concurrent access to shared resources, such as databases or network connections.\n",
    "The threading module is used to handle threads in Python. It provides a high-level interface for creating, managing, and synchronizing threads. The threading module allows you to create and start threads, control their execution, and coordinate their interactions through mechanisms like locks, events, and queues. It simplifies the process of working with threads and provides features for synchronization and inter-thread communication."
   ]
  },
  {
   "cell_type": "markdown",
   "id": "91e066da",
   "metadata": {},
   "source": [
    "Q2 Why threading module used? write the use of the following functions\n",
    "   activeCount\n",
    "  currentThread\n",
    "  enumerate"
   ]
  },
  {
   "cell_type": "code",
   "execution_count": 1,
   "id": "1e476c49",
   "metadata": {},
   "outputs": [
    {
     "name": "stdout",
     "output_type": "stream",
     "text": [
      "Hello from thread!Hello from thread!\n",
      "\n",
      "Active threads: 6\n"
     ]
    }
   ],
   "source": [
    "import threading\n",
    "\n",
    "# Example 1: activeCount()\n",
    "def print_hello():\n",
    "    print(\"Hello from thread!\")\n",
    "\n",
    "\n",
    "thread1 = threading.Thread(target=print_hello)\n",
    "thread2 = threading.Thread(target=print_hello)\n",
    "\n",
    "thread1.start()\n",
    "thread2.start()\n",
    "\n",
    "count = threading.active_count()\n",
    "print(\"Active threads:\", count)  # Output: Active threads: 3 (including the main thread)\n"
   ]
  },
  {
   "cell_type": "code",
   "execution_count": 5,
   "id": "ad1dfa83",
   "metadata": {},
   "outputs": [
    {
     "name": "stdout",
     "output_type": "stream",
     "text": [
      "Current thread name: Thread-1\n"
     ]
    }
   ],
   "source": [
    "# Example 2: currentThread()\n",
    "def print_thread_name():\n",
    "    current_thread = threading.current_thread()\n",
    "    print(\"Current thread name:\", current_thread.name)\n",
    "\n",
    "thread3 = threading.Thread(target=print_thread_name, name=\"Thread-1\")\n",
    "\n",
    "thread3.start()\n"
   ]
  },
  {
   "cell_type": "code",
   "execution_count": 7,
   "id": "e5bb6757",
   "metadata": {},
   "outputs": [
    {
     "name": "stdout",
     "output_type": "stream",
     "text": [
      "Thread name: MainThread\n",
      "Thread name: IOPub\n",
      "Thread name: Heartbeat\n",
      "Thread name: Control\n",
      "Thread name: IPythonHistorySavingThread\n",
      "Thread name: Thread-4\n",
      "Thread name: Thread-A\n",
      "Thread name: MainThread\n",
      "Thread name: IOPub\n",
      "Thread name: Heartbeat\n",
      "Thread name: Control\n",
      "Thread name: IPythonHistorySavingThread\n",
      "Thread name: Thread-4\n",
      "Thread name: Thread-B\n"
     ]
    }
   ],
   "source": [
    "# Example 3: enumerate()\n",
    "def print_thread_names():\n",
    "    for thread in threading.enumerate():\n",
    "        print(\"Thread name:\", thread.name)\n",
    "\n",
    "# Create two threads\n",
    "thread4 = threading.Thread(target=print_thread_names, name=\"Thread-A\")\n",
    "thread5 = threading.Thread(target=print_thread_names, name=\"Thread-B\")\n",
    "\n",
    "thread4.start()\n",
    "thread5.start()"
   ]
  },
  {
   "cell_type": "markdown",
   "id": "5ba062e5",
   "metadata": {},
   "source": [
    "Q3. Explain the following functions\n",
    "( run\n",
    " start\n",
    " join\n",
    "' isAlive)"
   ]
  },
  {
   "cell_type": "markdown",
   "id": "a7413ca9",
   "metadata": {},
   "source": [
    "   run(): This function is responsible for defining the behavior of a thread when it is started. It contains the code that will be executed in the thread's separate execution context. The run() function is typically overridden in a subclass of the Thread class to define the specific task or job that the thread will perform.\n",
    "\n",
    "   start(): This function is used to start the execution of a thread. When start() is called, the thread enters the \"runnable\" state, and the operating system schedules it for execution. The run() function of the thread will be invoked by the underlying system in a separate execution context.\n",
    "\n",
    "   join(): This function is used to wait for a thread to complete its execution. When join() is called on a thread, the calling thread (usually the main thread) will pause its execution and wait until the specified thread finishes its execution. This is useful when you want to ensure that all threads have completed their tasks before continuing with further operations.\n",
    "\n",
    "   isAlive(): This function is used to check whether a thread is currently running or not. It returns True if the thread is still executing its code or False if the thread has finished its execution or has not been started yet."
   ]
  },
  {
   "cell_type": "code",
   "execution_count": 2,
   "id": "d665873f",
   "metadata": {},
   "outputs": [],
   "source": [
    "import threading\n",
    "import time"
   ]
  },
  {
   "cell_type": "code",
   "execution_count": 17,
   "id": "c058b356",
   "metadata": {},
   "outputs": [
    {
     "name": "stdout",
     "output_type": "stream",
     "text": [
      "1\n",
      "2\n",
      "3\n",
      "4\n",
      "5\n",
      "\n",
      "\n",
      "I\n",
      " \n",
      "W\n",
      "A\n",
      "N\n",
      "T\n",
      " \n",
      "T\n",
      "O\n",
      " \n",
      "B\n",
      "E\n",
      " \n",
      "D\n",
      "S\n",
      "\n",
      "\n",
      "Is thread1 alive: False\n",
      "Is thread 2 alive: False\n"
     ]
    }
   ],
   "source": [
    "def print_nos():\n",
    "    for i in range(1,6):\n",
    "        print(i)\n",
    "    print(\"\\n\")\n",
    "        #time.sleep(1)\n",
    "\n",
    "def print_letters():\n",
    "    Letters='I WANT TO BE DS'\n",
    "    for j in Letters:\n",
    "        print(j)\n",
    "    print(\"\\n\")\n",
    "        \n",
    "thread1=threading.Thread(target=print_nos)\n",
    "thread2=threading.Thread(target=print_letters)\n",
    "\n",
    "#start the threads\n",
    "thread1.start()\n",
    "thread2.start()\n",
    "\n",
    "thread1.join()\n",
    "thread2.join()\n",
    "\n",
    "print(\"Is thread1 alive:\",thread1.is_alive())\n",
    "print(\"Is thread 2 alive:\",thread2.is_alive())"
   ]
  },
  {
   "cell_type": "markdown",
   "id": "018af9bb",
   "metadata": {},
   "source": [
    "4. Write a python program to create two threads. Thread one must print the list of squares and thread\n",
    "two must print the list of cubes"
   ]
  },
  {
   "cell_type": "code",
   "execution_count": 76,
   "id": "8a7ef769",
   "metadata": {},
   "outputs": [
    {
     "name": "stdout",
     "output_type": "stream",
     "text": [
      "\n",
      "\n"
     ]
    }
   ],
   "source": [
    "def squares(n):\n",
    "    print(f\"Square of {n} is :\",n*n)\n",
    "print(\"\\n\")\n",
    "\n",
    "def cubes(n):\n",
    "    print(f\"Cube of {n} is :\",n**3)\n",
    "\n",
    "thread1=[threading.Thread(target=squares,args=(i,)) for i in [1,2,3,4,5]]\n",
    "\n",
    "thread2=[threading.Thread(target=cubes,args=(i,)) for i in [1,2,3,4,5]]\n"
   ]
  },
  {
   "cell_type": "code",
   "execution_count": 77,
   "id": "26bac844",
   "metadata": {},
   "outputs": [
    {
     "name": "stdout",
     "output_type": "stream",
     "text": [
      "Square of 1 is : 1\n",
      "Square of 2 is : 4\n",
      "Square of 3 is : 9\n",
      "Square of 4 is : 16\n",
      "Square of 5 is : 25\n",
      "\n",
      "\n",
      "Cube of 1 is : 1\n",
      "Cube of 2 is : 8\n",
      "Cube of 3 is : 27\n",
      "Cube of 4 is : 64\n",
      "Cube of 5 is : 125\n"
     ]
    }
   ],
   "source": [
    "for t in thread1:\n",
    "    t.start()\n",
    "    #t.join()\n",
    "print('\\n')\n",
    "\n",
    "for t in thread2:\n",
    "    t.start()\n"
   ]
  },
  {
   "cell_type": "markdown",
   "id": "45b452cd",
   "metadata": {},
   "source": [
    "Q5. State advantages and disadvantages of multithreading"
   ]
  },
  {
   "cell_type": "markdown",
   "id": "a9ed710f",
   "metadata": {},
   "source": [
    "Advantages of Multithreading:\n",
    "    Improved Performance: Multithreading allows concurrent execution of multiple threads within a single process, enabling efficient utilization of available CPU resources. This can result in improved performance and faster execution of tasks.\n",
    "    Responsiveness and Interactivity: Multithreading enables the execution of multiple tasks concurrently, which can enhance the responsiveness and interactivity of an application. For example, in a user interface, multithreading can ensure that the application remains responsive even when performing computationally intensive tasks in the background.\n",
    "    Resource Sharing: Threads within the same process share the same memory space, allowing efficient sharing of data and resources. This can facilitate communication and coordination between threads, making it easier to develop complex applications.\n",
    "    Simplified Program Structure: Multithreading can simplify the design and implementation of certain types of applications. For example, in server applications that handle multiple client requests, each request can be processed in a separate thread, leading to a more modular and manageable code structure.\n",
    "\n",
    "Disadvantages of Multithreading:\n",
    "    Complexity and Synchronization: Multithreading introduces complexity, especially when dealing with shared resources. Synchronization mechanisms such as locks, semaphores, and condition variables need to be used to ensure proper coordination between threads. Managing shared resources and avoiding race conditions can be challenging and may require careful design and implementation.\n",
    "    Increased Memory Overhead: Each thread requires its own stack and thread-specific data, which can increase the memory overhead of an application. If an application spawns a large number of threads, it can consume a significant amount of memory, potentially impacting overall system performance.\n",
    "    Difficulty in Debugging: Debugging multithreaded applications can be more challenging than single-threaded ones. Issues such as race conditions, deadlocks, and thread synchronization problems may arise, and identifying and fixing such problems can be time-consuming and complex.\n",
    "    Scalability Limitations: While multithreading can improve performance on systems with multiple CPU cores, there are practical limitations to scalability. As the number of threads increases, the overhead of managing and coordinating threads can outweigh the performance gains, leading to diminishing returns."
   ]
  },
  {
   "cell_type": "markdown",
   "id": "b7fa9196",
   "metadata": {},
   "source": [
    "Q6. Explain deadlocks and race conditions."
   ]
  },
  {
   "cell_type": "markdown",
   "id": "462513d2",
   "metadata": {},
   "source": [
    "Deadlock:\n",
    "Deadlock occurs when two or more threads are blocked forever, waiting for each other to release resources. It arises when there is a circular dependency between threads or processes regarding the acquisition of resources. Deadlocks can lead to program freezing or indefinite waiting, preventing progress.\n",
    "\n",
    "Race Condition:\n",
    "A race condition occurs when the behavior of a program depends on the relative ordering of events or operations, which are not well-sequenced due to concurrent execution of multiple threads. It arises when multiple threads access shared data simultaneously, leading to unpredictable results."
   ]
  }
 ],
 "metadata": {
  "kernelspec": {
   "display_name": "Python 3 (ipykernel)",
   "language": "python",
   "name": "python3"
  },
  "language_info": {
   "codemirror_mode": {
    "name": "ipython",
    "version": 3
   },
   "file_extension": ".py",
   "mimetype": "text/x-python",
   "name": "python",
   "nbconvert_exporter": "python",
   "pygments_lexer": "ipython3",
   "version": "3.10.9"
  }
 },
 "nbformat": 4,
 "nbformat_minor": 5
}
