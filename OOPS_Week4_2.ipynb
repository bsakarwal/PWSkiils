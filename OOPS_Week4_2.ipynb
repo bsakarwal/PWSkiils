{
 "cells": [
  {
   "cell_type": "code",
   "execution_count": 1,
   "id": "bb04acc8",
   "metadata": {},
   "outputs": [
    {
     "data": {
      "text/html": [
       "<style>\n",
       ".cm-comment {\n",
       "    color: grey !important;\n",
       "}\n",
       "</style>\n"
      ],
      "text/plain": [
       "<IPython.core.display.HTML object>"
      ]
     },
     "metadata": {},
     "output_type": "display_data"
    }
   ],
   "source": [
    "%%html\n",
    "<style>\n",
    ".cm-comment {\n",
    "    color: grey !important;\n",
    "}\n",
    "</style>"
   ]
  },
  {
   "cell_type": "markdown",
   "id": "15493f15",
   "metadata": {},
   "source": [
    "Q1, Create a vehicle class with an init method having instance variables as name_of_vehicle, max_speed\n",
    "and average_of_vehicle."
   ]
  },
  {
   "cell_type": "code",
   "execution_count": 2,
   "id": "ac7c932e",
   "metadata": {},
   "outputs": [],
   "source": [
    "class vehicle():\n",
    "    def __init__(self,name_vehicle,max_speed,average_of_vehicel):\n",
    "        self.name_vehicle=name_vehicle\n",
    "        self.max_speed=max_speed\n",
    "        self.average_of_vehicel=average_of_vehicel\n",
    "    \n",
    "    def vehicle_details(self):\n",
    "        return(self.name_vehicle,self.max_speed,self.average_of_vehicel)\n",
    "    "
   ]
  },
  {
   "cell_type": "code",
   "execution_count": 5,
   "id": "43eab9a8",
   "metadata": {},
   "outputs": [],
   "source": [
    "VH=vehicle(\"Skoda\",'200KM/Hr',13)"
   ]
  },
  {
   "cell_type": "code",
   "execution_count": 6,
   "id": "7b782062",
   "metadata": {},
   "outputs": [
    {
     "data": {
      "text/plain": [
       "('Skoda', '200KM/Hr', 13)"
      ]
     },
     "execution_count": 6,
     "metadata": {},
     "output_type": "execute_result"
    }
   ],
   "source": [
    "VH.vehicle_details()"
   ]
  },
  {
   "cell_type": "markdown",
   "id": "c0951cb7",
   "metadata": {},
   "source": [
    "Q2. Create a child class car from the vehicle class created in Que 1, which will inherit the vehicle class.\n",
    "Create a method named seating_capacity which takes capacity as an argument and returns the name of\n",
    "the vehicle and its seating capacity."
   ]
  },
  {
   "cell_type": "code",
   "execution_count": 39,
   "id": "23086400",
   "metadata": {},
   "outputs": [],
   "source": [
    "class car(vehicle):\n",
    "    def seating_capacity(self,capacity):\n",
    "        self.capacity=capacity\n",
    "       # return (f\"Capcity for car {self.name_vehicle} is: {self.capacity}\")  both works\n",
    "        print (f\"Capcity for car {self.name_vehicle} is: {self.capacity}\")"
   ]
  },
  {
   "cell_type": "code",
   "execution_count": 40,
   "id": "9204d3be",
   "metadata": {},
   "outputs": [],
   "source": [
    "c=car(\"Skoda\",'200KM/Hr',13)"
   ]
  },
  {
   "cell_type": "code",
   "execution_count": 41,
   "id": "ad03357b",
   "metadata": {},
   "outputs": [
    {
     "name": "stdout",
     "output_type": "stream",
     "text": [
      "Capcity for car Skoda is: 5\n"
     ]
    }
   ],
   "source": [
    "c.seating_capacity(5)"
   ]
  },
  {
   "cell_type": "markdown",
   "id": "a419c1ee",
   "metadata": {},
   "source": [
    "Q3. What is multiple inheritance? Write a python code to demonstrate multiple inheritance."
   ]
  },
  {
   "cell_type": "code",
   "execution_count": 46,
   "id": "bb070ab5",
   "metadata": {},
   "outputs": [],
   "source": [
    "class akhil():\n",
    "    def data_science(self):\n",
    "        print(\"Akhil is data scientist since 2017\")\n",
    "\n",
    "class bharat():\n",
    "    def data_science_new(self):\n",
    "        print(\"Bharat is trying to be data scientist\")\n",
    "\n",
    "class check_ds(akhil,bharat):\n",
    "    def new_age(self):\n",
    "        print(\"Generative AI is the new age\")"
   ]
  },
  {
   "cell_type": "code",
   "execution_count": 47,
   "id": "ededb346",
   "metadata": {},
   "outputs": [],
   "source": [
    "obj_ds=check_ds()"
   ]
  },
  {
   "cell_type": "code",
   "execution_count": 48,
   "id": "03ecf977",
   "metadata": {},
   "outputs": [
    {
     "name": "stdout",
     "output_type": "stream",
     "text": [
      "Akhil is data scientist since 2017\n"
     ]
    }
   ],
   "source": [
    "obj_ds.data_science()"
   ]
  },
  {
   "cell_type": "code",
   "execution_count": 49,
   "id": "23a01e06",
   "metadata": {},
   "outputs": [
    {
     "name": "stdout",
     "output_type": "stream",
     "text": [
      "Bharat is trying to be data scientist\n"
     ]
    }
   ],
   "source": [
    "obj_ds.data_science_new()"
   ]
  },
  {
   "cell_type": "code",
   "execution_count": 52,
   "id": "d553e07a",
   "metadata": {},
   "outputs": [
    {
     "name": "stdout",
     "output_type": "stream",
     "text": [
      "Generative AI is the new age\n"
     ]
    }
   ],
   "source": [
    "obj_ds.new_age()"
   ]
  },
  {
   "cell_type": "markdown",
   "id": "71ae9955",
   "metadata": {},
   "source": [
    "Q4. What are getter and setter in python? Create a class and create a getter and a setter method in this\n",
    "class."
   ]
  },
  {
   "cell_type": "code",
   "execution_count": null,
   "id": "1352e383",
   "metadata": {},
   "outputs": [],
   "source": []
  },
  {
   "cell_type": "code",
   "execution_count": 54,
   "id": "1af1d979",
   "metadata": {},
   "outputs": [],
   "source": [
    "class google2():\n",
    "    def __init__(self,job_role,job_pay):\n",
    "        self.job_role=job_role\n",
    "        self.__job_pay=job_pay\n",
    "    \n",
    "    @property                                  # property decorator is passsed to create access to private variable through function\n",
    "    def job_price_access(self):                # Getter function\n",
    "        return self.__job_pay\n",
    "    \n",
    "    @job_price_access.setter                  # setter function access\n",
    "    def job_pay_set(self,pay):\n",
    "        if pay<5500000:\n",
    "            pass\n",
    "        else:\n",
    "            self.__job_pay=pay\n",
    "    \n",
    "    '''                                         # if we have delete the private variable\n",
    "    @job_price_access.deleter\n",
    "    def job_pay_delete(self):\n",
    "        del self.__job_pay\n",
    "    '''"
   ]
  },
  {
   "cell_type": "code",
   "execution_count": 55,
   "id": "3b9d02b5",
   "metadata": {},
   "outputs": [],
   "source": [
    "gg=google2(\"Data Scientist\",4500000)"
   ]
  },
  {
   "cell_type": "code",
   "execution_count": 56,
   "id": "e099d0fc",
   "metadata": {},
   "outputs": [
    {
     "data": {
      "text/plain": [
       "4500000"
      ]
     },
     "execution_count": 56,
     "metadata": {},
     "output_type": "execute_result"
    }
   ],
   "source": [
    "gg.job_price_access"
   ]
  },
  {
   "cell_type": "code",
   "execution_count": 58,
   "id": "6d4ed772",
   "metadata": {},
   "outputs": [],
   "source": [
    "gg.job_pay_set=5000000    "
   ]
  },
  {
   "cell_type": "code",
   "execution_count": 59,
   "id": "780ba8cf",
   "metadata": {},
   "outputs": [],
   "source": [
    "gg.job_pay_set=7000000    "
   ]
  },
  {
   "cell_type": "code",
   "execution_count": 60,
   "id": "6cb223b1",
   "metadata": {},
   "outputs": [
    {
     "data": {
      "text/plain": [
       "7000000"
      ]
     },
     "execution_count": 60,
     "metadata": {},
     "output_type": "execute_result"
    }
   ],
   "source": [
    "gg.job_price_access"
   ]
  },
  {
   "cell_type": "markdown",
   "id": "7d06227a",
   "metadata": {},
   "source": [
    "Q5.What is method overriding in python? Write a python code to demonstrate method overriding."
   ]
  },
  {
   "cell_type": "code",
   "execution_count": 94,
   "id": "4383f51d",
   "metadata": {},
   "outputs": [],
   "source": [
    "class supply_chain():\n",
    "    def __init__(self,type_chain,country):\n",
    "        self.type_chain=type_chain\n",
    "        self.country=country\n",
    "    \n",
    "    @classmethod                                        # method overriding\n",
    "    def details(cls,type_chain1,country1):\n",
    "        return cls(type_chain1,country1)\n",
    "    \n",
    "    def supply_chain_detail(self):\n",
    "        return self.type_chain,self.country"
   ]
  },
  {
   "cell_type": "code",
   "execution_count": 98,
   "id": "ea501a6f",
   "metadata": {},
   "outputs": [],
   "source": [
    "ob_sc=supply_chain(\"Primary\",\"India\")"
   ]
  },
  {
   "cell_type": "code",
   "execution_count": 99,
   "id": "e67b0b53",
   "metadata": {},
   "outputs": [
    {
     "data": {
      "text/plain": [
       "<__main__.supply_chain at 0x21a2f965960>"
      ]
     },
     "execution_count": 99,
     "metadata": {},
     "output_type": "execute_result"
    }
   ],
   "source": [
    "ob_sc.details(\"Secondary\",\"Europe\")"
   ]
  },
  {
   "cell_type": "code",
   "execution_count": 100,
   "id": "1a99a651",
   "metadata": {},
   "outputs": [
    {
     "data": {
      "text/plain": [
       "('Primary', 'India')"
      ]
     },
     "execution_count": 100,
     "metadata": {},
     "output_type": "execute_result"
    }
   ],
   "source": [
    "ob_sc.supply_chain_detail()"
   ]
  },
  {
   "cell_type": "code",
   "execution_count": null,
   "id": "5dae9132",
   "metadata": {},
   "outputs": [],
   "source": [
    "#another example below"
   ]
  },
  {
   "cell_type": "code",
   "execution_count": 122,
   "id": "12436d9e",
   "metadata": {},
   "outputs": [],
   "source": [
    "class supply_chain2():\n",
    "\n",
    "    def __init__(self,type_chain,country):\n",
    "        self.type_chain=type_chain\n",
    "        self.country=country\n",
    "        \n",
    "    @classmethod                                        # also one way to pass data but no. of arguments should be same as of init called method overriding\n",
    "    def details2(cls,type_chain,country):\n",
    "        return cls(type_chain,country)\n",
    "    \n",
    "    def supply_chain_detail2(self):\n",
    "        return self.type_chain,self.country"
   ]
  },
  {
   "cell_type": "code",
   "execution_count": 120,
   "id": "006d2bda",
   "metadata": {},
   "outputs": [],
   "source": [
    "sc2=sc2.details2('Primary','India')"
   ]
  },
  {
   "cell_type": "code",
   "execution_count": 121,
   "id": "44c4e859",
   "metadata": {},
   "outputs": [
    {
     "data": {
      "text/plain": [
       "('Primary', 'India')"
      ]
     },
     "execution_count": 121,
     "metadata": {},
     "output_type": "execute_result"
    }
   ],
   "source": [
    "sc2.supply_chain_detail2()"
   ]
  },
  {
   "cell_type": "code",
   "execution_count": null,
   "id": "3af1343c",
   "metadata": {},
   "outputs": [],
   "source": []
  }
 ],
 "metadata": {
  "kernelspec": {
   "display_name": "Python 3 (ipykernel)",
   "language": "python",
   "name": "python3"
  },
  "language_info": {
   "codemirror_mode": {
    "name": "ipython",
    "version": 3
   },
   "file_extension": ".py",
   "mimetype": "text/x-python",
   "name": "python",
   "nbconvert_exporter": "python",
   "pygments_lexer": "ipython3",
   "version": "3.10.9"
  }
 },
 "nbformat": 4,
 "nbformat_minor": 5
}
