{
 "cells": [
  {
   "cell_type": "markdown",
   "id": "af0027ec",
   "metadata": {},
   "source": [
    "This is Raw"
   ]
  },
  {
   "cell_type": "markdown",
   "id": "4a9f3ed5",
   "metadata": {},
   "source": [
    "In summary, raw cells are for unprocessed, unformatted text or content, while Markdown cells allow you to write formatted text using Markdown syntax, which is then rendered as HTML when the notebook is executed or displayed."
   ]
  },
  {
   "cell_type": "markdown",
   "id": "2d30fa60",
   "metadata": {},
   "source": [
    "Q1. How do you comment code in Python? What are the different types of comments?\n",
    "Ans. We can comment with #, ## and \"\"\""
   ]
  },
  {
   "cell_type": "code",
   "execution_count": 19,
   "id": "9a9e0729",
   "metadata": {},
   "outputs": [
    {
     "data": {
      "text/plain": [
       "10"
      ]
     },
     "execution_count": 19,
     "metadata": {},
     "output_type": "execute_result"
    }
   ],
   "source": [
    "\"\"\"\n",
    "This is my comment\n",
    "\"\"\"\n",
    "#Hello\n",
    "##Hi\n",
    "a=10\n",
    "a"
   ]
  },
  {
   "cell_type": "markdown",
   "id": "56f497f8",
   "metadata": {},
   "source": [
    "Q2. What are variables in Python? How do you declare and assign values to variables\n",
    "Ans. Variables in Python are used to store data or values that can be accessed and manipulated throughout a program. They act as placeholders for storing different types of data, such as numbers, strings, lists, or objects."
   ]
  },
  {
   "cell_type": "code",
   "execution_count": 5,
   "id": "7b137066",
   "metadata": {},
   "outputs": [
    {
     "name": "stdout",
     "output_type": "stream",
     "text": [
      "10,True,Bharat\n"
     ]
    }
   ],
   "source": [
    "a=10\n",
    "is_name=True\n",
    "name=\"Bharat\"\n",
    "print(\"{},{},{}\".format(a,is_name,name))"
   ]
  },
  {
   "cell_type": "markdown",
   "id": "9acff125",
   "metadata": {},
   "source": [
    "Q3. How do you convert one data type to another in Python?"
   ]
  },
  {
   "cell_type": "code",
   "execution_count": 16,
   "id": "358275e4",
   "metadata": {},
   "outputs": [
    {
     "data": {
      "text/plain": [
       "dict"
      ]
     },
     "execution_count": 16,
     "metadata": {},
     "output_type": "execute_result"
    }
   ],
   "source": [
    "a=[10,20]\n",
    "b=str(a)\n",
    "type(b)\n",
    "c=tuple(a)\n",
    "type(c)\n",
    "d={'1st':c}\n",
    "type(d)"
   ]
  },
  {
   "cell_type": "code",
   "execution_count": 18,
   "id": "5ebcdd84",
   "metadata": {},
   "outputs": [
    {
     "data": {
      "text/plain": [
       "True"
      ]
     },
     "execution_count": 18,
     "metadata": {},
     "output_type": "execute_result"
    }
   ],
   "source": [
    "bool(-9)"
   ]
  },
  {
   "cell_type": "code",
   "execution_count": 21,
   "id": "97d856b8",
   "metadata": {},
   "outputs": [
    {
     "name": "stdout",
     "output_type": "stream",
     "text": [
      "my age is :31\n"
     ]
    }
   ],
   "source": [
    "age=31\n",
    "print(f\"my age is :{age}\")"
   ]
  },
  {
   "cell_type": "markdown",
   "id": "f1cb684c",
   "metadata": {},
   "source": [
    "Q4. How do you write and execute a Python script from the command line?\n",
    "Ans. Shift+Enter, Alt+Enter"
   ]
  },
  {
   "cell_type": "markdown",
   "id": "ad1401ef",
   "metadata": {},
   "source": [
    "Q5. Given a list my_list = [1, 2, 3, 4, 5], write the code to slice the list and obtain the sub-list [2, 3]."
   ]
  },
  {
   "cell_type": "code",
   "execution_count": 28,
   "id": "54cc6149",
   "metadata": {},
   "outputs": [
    {
     "name": "stdout",
     "output_type": "stream",
     "text": [
      "[2, 3]\n"
     ]
    }
   ],
   "source": [
    "lst=[1,2,3,4,5]\n",
    "sub_lst=lst[1:3]\n",
    "print(sub_lst)"
   ]
  },
  {
   "cell_type": "markdown",
   "id": "fb4514c6",
   "metadata": {},
   "source": [
    "Q6. What is a complex number in mathematics, and how is it represented in Python?"
   ]
  },
  {
   "cell_type": "code",
   "execution_count": 29,
   "id": "6c11f890",
   "metadata": {},
   "outputs": [
    {
     "data": {
      "text/plain": [
       "complex"
      ]
     },
     "execution_count": 29,
     "metadata": {},
     "output_type": "execute_result"
    }
   ],
   "source": [
    "e=5+7j   #imaginary part of complex no. is 7 and real part is 5\n",
    "type(e)"
   ]
  },
  {
   "cell_type": "markdown",
   "id": "0fac7d6a",
   "metadata": {},
   "source": [
    "Q7. What is the correct way to declare a variable named age and assign the value 25 to it?"
   ]
  },
  {
   "cell_type": "code",
   "execution_count": null,
   "id": "a3036f6f",
   "metadata": {},
   "outputs": [],
   "source": [
    "age=25"
   ]
  },
  {
   "cell_type": "markdown",
   "id": "6c3eb718",
   "metadata": {},
   "source": [
    "Q8. Declare a variable named price and assign the value 9.99 to it. What data type does this variable\n",
    "belong to?"
   ]
  },
  {
   "cell_type": "code",
   "execution_count": 31,
   "id": "10f2b639",
   "metadata": {},
   "outputs": [
    {
     "data": {
      "text/plain": [
       "float"
      ]
     },
     "execution_count": 31,
     "metadata": {},
     "output_type": "execute_result"
    }
   ],
   "source": [
    "price=9.99\n",
    "type(price)"
   ]
  },
  {
   "cell_type": "markdown",
   "id": "aed26da3",
   "metadata": {},
   "source": [
    "Q9. Create a variable named name and assign your full name to it as a string. How would you print the\n",
    "value of this variable?"
   ]
  },
  {
   "cell_type": "code",
   "execution_count": 32,
   "id": "6c36ab26",
   "metadata": {},
   "outputs": [
    {
     "name": "stdout",
     "output_type": "stream",
     "text": [
      "Bharat Sakarwal\n"
     ]
    }
   ],
   "source": [
    "name=\"Bharat Sakarwal\"\n",
    "print(name)"
   ]
  },
  {
   "cell_type": "code",
   "execution_count": null,
   "id": "34003c9d",
   "metadata": {},
   "outputs": [],
   "source": [
    "Q10. Given the string \"Hello, World!\", extract the substring \"World\"."
   ]
  },
  {
   "cell_type": "code",
   "execution_count": 38,
   "id": "96f620da",
   "metadata": {},
   "outputs": [
    {
     "data": {
      "text/plain": [
       "'World!'"
      ]
     },
     "execution_count": 38,
     "metadata": {},
     "output_type": "execute_result"
    }
   ],
   "source": [
    "s=\"Hello, World!\"\n",
    "s[7:]"
   ]
  },
  {
   "cell_type": "markdown",
   "id": "bd2b60e0",
   "metadata": {},
   "source": [
    "Q11. Create a variable named \"is_student\" and assign it a boolean value indicating whether you are\n",
    "currently a student or not."
   ]
  },
  {
   "cell_type": "code",
   "execution_count": 41,
   "id": "4e1100a3",
   "metadata": {},
   "outputs": [
    {
     "name": "stdout",
     "output_type": "stream",
     "text": [
      "I am a Student\n"
     ]
    }
   ],
   "source": [
    "is_student=True\n",
    "if is_student==True:\n",
    "    print(\"I am a Student\")"
   ]
  },
  {
   "cell_type": "code",
   "execution_count": 43,
   "id": "7f77895d",
   "metadata": {},
   "outputs": [
    {
     "data": {
      "text/plain": [
       "9"
      ]
     },
     "execution_count": 43,
     "metadata": {},
     "output_type": "execute_result"
    }
   ],
   "source": [
    "3^10"
   ]
  },
  {
   "cell_type": "code",
   "execution_count": 44,
   "id": "e09237b3",
   "metadata": {},
   "outputs": [
    {
     "data": {
      "text/plain": [
       "1"
      ]
     },
     "execution_count": 44,
     "metadata": {},
     "output_type": "execute_result"
    }
   ],
   "source": [
    "10%3"
   ]
  },
  {
   "cell_type": "code",
   "execution_count": null,
   "id": "740bb93c",
   "metadata": {},
   "outputs": [],
   "source": []
  },
  {
   "cell_type": "code",
   "execution_count": 45,
   "id": "2ef2b217",
   "metadata": {},
   "outputs": [
    {
     "data": {
      "text/plain": [
       "True"
      ]
     },
     "execution_count": 45,
     "metadata": {},
     "output_type": "execute_result"
    }
   ],
   "source": [
    "2!=3"
   ]
  },
  {
   "cell_type": "code",
   "execution_count": 50,
   "id": "50c7e1f6",
   "metadata": {},
   "outputs": [
    {
     "name": "stdout",
     "output_type": "stream",
     "text": [
      "0\n",
      "1\n",
      "3\n",
      "4\n"
     ]
    }
   ],
   "source": [
    "for i in range(5):\n",
    "    if i == 2:\n",
    "        continue\n",
    "    print(i)"
   ]
  },
  {
   "cell_type": "code",
   "execution_count": null,
   "id": "7e675df8",
   "metadata": {},
   "outputs": [],
   "source": []
  }
 ],
 "metadata": {
  "kernelspec": {
   "display_name": "Python 3 (ipykernel)",
   "language": "python",
   "name": "python3"
  },
  "language_info": {
   "codemirror_mode": {
    "name": "ipython",
    "version": 3
   },
   "file_extension": ".py",
   "mimetype": "text/x-python",
   "name": "python",
   "nbconvert_exporter": "python",
   "pygments_lexer": "ipython3",
   "version": "3.10.9"
  }
 },
 "nbformat": 4,
 "nbformat_minor": 5
}
